{
 "cells": [
  {
   "cell_type": "code",
   "execution_count": 1,
   "metadata": {},
   "outputs": [
    {
     "data": {
      "text/html": [
       "<pre style=\"color:blue\">An exception occurred during run.\r\n",
       "Unable to open file 'Adreno.txt'.\r\n",
       "\r\n",
       "\r\n",
       "\r\n",
       "Real time:       0.522\r\n",
       "Steps:           645\r\n",
       "Simulated time:  1e-012\r\n",
       "\r\n",
       "Fix requests granted:           0\r\n",
       "Action transitions:             546\r\n",
       "Communication transitions:      98\r\n",
       "Communication requests tested:  0\r\n",
       "Delay transitions:              1\r\n",
       "\r\n",
       "Delay requests granted:         13\r\n",
       "\r\n",
       "Garbage collection cleanup cycles: 0\r\n",
       "Number of reclaimed objects:       0\r\n",
       "\r\n",
       "Virtual machine cycles: 16956\r\n",
       "\r\n",
       "</pre>"
      ],
      "text/plain": [
       "<IPython.core.display.HTML object>"
      ]
     },
     "metadata": {},
     "output_type": "display_data"
    }
   ],
   "source": [
    "import run_network_model\n",
    "import os\n",
    "import random\n",
    "\n",
    "def quotate(mystr):\n",
    "    return '\"' + mystr + '\"'\n",
    "\n",
    "\n",
    "MapTaskTos = [ quotate(\"Node\" + str(i)) for i in range(1,7)]\n",
    "NodeProcessorTypes = [quotate(s) for s in [ \"ARMv8\", \"Adreno\" , \"MIPS\"]]\n",
    "VSFs =  [\"1.0/1.0\",\"2.0/3.0\"]\n",
    "OSPolicys = [quotate(s) for s in [\"FCFS\",\"PB\"]]\n",
    "\n",
    "\n",
    "def create_model_params(taskmaps,node_processor_types,voltage_scaling,os_policies):\n",
    "    model_parameters = {\"Application\" : \"Applicate\"}\n",
    "    for i,taskmap in enumerate(taskmaps):\n",
    "        model_parameters[\"MapTask\" + str(i+1) + \"To\"] =taskmap\n",
    "    for i,proc_type in enumerate(node_processor_types):\n",
    "        model_parameters[\"NodeProcessorType\"+ str(i+1)] = proc_type\n",
    "    for i,VSF in enumerate(voltage_scaling):\n",
    "        model_parameters[\"VSF\"+  str(i+1)] = VSF\n",
    "    for i,OSPolicy in enumerate(os_policies):\n",
    "         model_parameters[\"OSPolicy\"+ str(i+1)] = OSPolicy\n",
    "    return model_parameters\n",
    "\n",
    "def simulate_processor(model_parameters,myid=0):\n",
    "    output_directory_template = \"\\\\poosl_model\"+str(myid)\n",
    "    model_path = os.getcwd()+'\\\\poosl_model'+str(myid)\n",
    "    output_directory = os.path.abspath(output_directory_template)\n",
    "    if run_network_model.run_network_model(\n",
    "         [model_path], # library paths\n",
    "         open(model_path + \"\\\\dse_template.poosl\").read(), # system instance template\n",
    "         6,model_parameters, output_directory) == False:\n",
    "             raise Exception(\"Model did not terminate to completion, check the output of Rotalumis!\")\n",
    "\n",
    "taskmaps = [random.choice(MapTaskTos) for _ in range(11)]\n",
    "node_processor_types = [random.choice(NodeProcessorTypes) for _ in range(6)]\n",
    "vsfs = [random.choice(VSFs) for _ in range(6)]\n",
    "os_policies= [random.choice(OSPolicys) for _ in range(6)]\n",
    "\n",
    "model_params = create_model_params(taskmaps,node_processor_types,vsfs,os_policies)\n",
    "#print(model_params)\n",
    "simulate_processor(model_params)\n"
   ]
  },
  {
   "cell_type": "code",
   "execution_count": null,
   "metadata": {},
   "outputs": [],
   "source": []
  },
  {
   "cell_type": "code",
   "execution_count": null,
   "metadata": {},
   "outputs": [],
   "source": []
  }
 ],
 "metadata": {
  "kernelspec": {
   "display_name": "Python 3",
   "language": "python",
   "name": "python3"
  },
  "language_info": {
   "codemirror_mode": {
    "name": "ipython",
    "version": 3
   },
   "file_extension": ".py",
   "mimetype": "text/x-python",
   "name": "python",
   "nbconvert_exporter": "python",
   "pygments_lexer": "ipython3",
   "version": "3.6.5"
  }
 },
 "nbformat": 4,
 "nbformat_minor": 2
}
