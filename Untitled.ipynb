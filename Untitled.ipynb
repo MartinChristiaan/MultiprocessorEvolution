{
 "cells": [
  {
   "cell_type": "code",
   "execution_count": 2,
   "metadata": {},
   "outputs": [
    {
     "data": {
      "text/html": [
       "<pre style=\"color:blue\">Real Time:          14.815 Steps:    3.67002e+006 Simulated Time:          3.9602\r\n",
       "\r\n",
       "\r\n",
       "Real time:       27.909\r\n",
       "Steps:           7184557\r\n",
       "Simulated time:  7.83\r\n",
       "\r\n",
       "Fix requests granted:           0\r\n",
       "Action transitions:             4878898\r\n",
       "Communication transitions:      2121291\r\n",
       "Communication requests tested:  0\r\n",
       "Delay transitions:              184368\r\n",
       "\r\n",
       "Delay requests granted:         284200\r\n",
       "\r\n",
       "Garbage collection cleanup cycles: 33848\r\n",
       "Number of reclaimed objects:       12981\r\n",
       "\r\n",
       "Virtual machine cycles: 592357486\r\n",
       "\r\n",
       "</pre>"
      ],
      "text/plain": [
       "<IPython.core.display.HTML object>"
      ]
     },
     "metadata": {},
     "output_type": "display_data"
    },
    {
     "data": {
      "text/html": [
       "<pre style=\"color:red\">All registered observers are activated. Caused by completion observer (MemoryBufferNode3)\r\n",
       "</pre>"
      ],
      "text/plain": [
       "<IPython.core.display.HTML object>"
      ]
     },
     "metadata": {},
     "output_type": "display_data"
    },
    {
     "name": "stdout",
     "output_type": "stream",
     "text": [
      "Succes\n",
      "['Peak', 'Power', 'Consumption:', '0.733642666666685', 'Watts', 'Observed', 'Average', 'Power:', '0.448185948956986', 'Watts']\n"
     ]
    }
   ],
   "source": [
    "import run_network_model\n",
    "import os\n",
    "import random\n",
    "from poosl_model_generator import setup_simulation\n",
    "def quotate(mystr):\n",
    "    return '\"' + mystr + '\"'\n",
    "\n",
    "\n",
    "MapTaskTos = [ quotate(\"Node\" + str(i)) for i in range(1,7)]\n",
    "NodeProcessorTypes = [quotate(s) for s in [ \"ARMv8\", \"Adreno\" , \"MIPS\"]]\n",
    "VSFs =  [\"1.0/1.0\",\"2.0/3.0\"]\n",
    "OSPolicys = [quotate(s) for s in [\"FCFS\",\"PB\"]]\n",
    "\n",
    "\n",
    "def create_model_params(taskmaps,node_processor_types,voltage_scaling,os_policies):\n",
    "    model_parameters = {\"Application\" : \"Applicate\"}\n",
    "    for i,taskmap in enumerate(taskmaps):\n",
    "        model_parameters[\"MapTask\" + str(i+1) + \"To\"] =taskmap\n",
    "    for i,proc_type in enumerate(node_processor_types):\n",
    "        model_parameters[\"NodeProcessorType\"+ str(i+1)] = proc_type\n",
    "    for i,VSF in enumerate(voltage_scaling):\n",
    "        model_parameters[\"VSF\"+  str(i+1)] = VSF\n",
    "    for i,OSPolicy in enumerate(os_policies):\n",
    "         model_parameters[\"OSPolicy\"+ str(i+1)] = OSPolicy\n",
    "    return model_parameters\n",
    "\n",
    "def simulate_processor(model_parameters,mydir):\n",
    "    output_directory_template = mydir\n",
    "    model_path = os.getcwd()+\"\\\\\"+ mydir\n",
    "    output_directory = os.path.abspath(output_directory_template)\n",
    "    if run_network_model.run_network_model(\n",
    "         [model_path], # library paths\n",
    "         open(model_path + \"\\\\dse_template.poosl\").read(), # system instance template\n",
    "         6,model_parameters, output_directory) == False:\n",
    "             raise Exception(\"Model did not terminate to completion, check the output of Rotalumis!\")\n",
    "\n",
    "\n",
    "def perform_simulation(dna,mydir):\n",
    "    taskmaps = dna[:11]\n",
    "    node_processor_types = dna[11:17]\n",
    "    vsfs = dna[17:23]\n",
    "    os_policies = dna[23:]\n",
    "    model_params = create_model_params(taskmaps,node_processor_types,vsfs,os_policies)\n",
    "    #print(model_params)\n",
    "    simulate_processor(model_params,mydir)\n",
    "    f = open(mydir+\"/Application.log\", \"r\")\n",
    "    output = f.read()\n",
    "    words = output.split()\n",
    "    if words[0] == \"Fail\":\n",
    "        print(\"Failed!\")\n",
    "        return 0,0,0,0\n",
    "    else:\n",
    "        print(\"Succes\")\n",
    "    throughput = float(words[11])\n",
    "    latency = float(words[28])\n",
    "    f= open(mydir+\"/Battery.log\", \"r\")\n",
    "    output = f.read()\n",
    "    words = output.split()\n",
    "    print(words)\n",
    "    avg_power = float(words[8])\n",
    "\n",
    "    f= open(mydir+\"/BatteryTrace.xml\", \"r\")\n",
    "    output = f.read()\n",
    "    words = output.split()\n",
    "    total_time = float(words[-3].split(\"'\")[1])\n",
    "    power_consumption = total_time * avg_power\n",
    "\n",
    "    no_processors = len(set(taskmaps))\n",
    "    return throughput,latency,power_consumption,no_processors\n",
    "\n",
    "    \n",
    "\n",
    "\n",
    "if __name__ == \"__main__\":\n",
    "    taskmaps = [MapTaskTos[i] for i in [0,1,2,3,4,5,1,2,0,3,3]]\n",
    "    node_processor_types = [NodeProcessorTypes[i] for i in [0,1,1,2,0,2]]\n",
    "    vsfs = [VSFs[i] for i in [1,0,0,0,1,0]]\n",
    "    os_policies= [OSPolicys[i] for i in [1,1,1,1,0,1]]\n",
    "    dna = taskmaps + node_processor_types + vsfs + os_policies\n",
    "    mydir = setup_simulation(0)\n",
    "    perform_simulation(dna,mydir)\n",
    "\n"
   ]
  },
  {
   "cell_type": "code",
   "execution_count": null,
   "metadata": {},
   "outputs": [],
   "source": []
  },
  {
   "cell_type": "code",
   "execution_count": null,
   "metadata": {},
   "outputs": [],
   "source": []
  }
 ],
 "metadata": {
  "kernelspec": {
   "display_name": "Python 3",
   "language": "python",
   "name": "python3"
  }
 },
 "nbformat": 4,
 "nbformat_minor": 2
}
