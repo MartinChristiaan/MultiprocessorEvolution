{
 "cells": [
  {
   "cell_type": "code",
   "execution_count": null,
   "metadata": {},
   "outputs": [
    {
     "name": "stdout",
     "output_type": "stream",
     "text": [
      "Generation : 2\n"
     ]
    },
    {
     "name": "stderr",
     "output_type": "stream",
     "text": [
      "C:\\Users\\marti\\Source\\Repos\\Multiproc2\\selection.py:49: RuntimeWarning: invalid value encountered in double_scalars\n",
      "  distance[sorted_front_ids[k]] += (obj_sort[k+1] - obj_sort[k-1])/(max(obj)-min(obj))\n"
     ]
    },
    {
     "name": "stdout",
     "output_type": "stream",
     "text": [
      "Now simulating :  NodeProcessorType1 : \"MIPS\" NodeProcessorType2 : \"Adreno\" NodeProcessorType3 : \"Adreno\" NodeProcessorType4 : \"Adreno\" NodeProcessorType5 : \"Adreno\" NodeProcessorType6 : \"ARMv8\" VSF1 : 0.6666666666666666 VSF2 : 0.6666666666666666 VSF3 : 1.0 VSF4 : 0.6666666666666666 VSF5 : 0.25 VSF6 : 0.25 OSPolicy1 : \"FCFS\" OSPolicy2 : \"FCFS\" OSPolicy3 : \"FCFS\" OSPolicy4 : \"PB\" OSPolicy5 : \"PB\" OSPolicy6 : \"FCFS\"\n",
      "items left : 69 ,time last sim :  0.00 sec ,est time rem : 0 sec\n"
     ]
    },
    {
     "data": {
      "text/html": [
       "<pre style=\"color:blue\">An exception occurred during run.\r\n",
       "Latency is diverging. Throughput constraint is not met.\r\n",
       "\r\n",
       "\r\n",
       "\r\n",
       "Real time:       1.755\r\n",
       "Steps:           124656\r\n",
       "Simulated time:  0.0991312\r\n",
       "\r\n",
       "Fix requests granted:           0\r\n",
       "Action transitions:             100176\r\n",
       "Communication transitions:      22499\r\n",
       "Communication requests tested:  0\r\n",
       "Delay transitions:              1981\r\n",
       "\r\n",
       "Delay requests granted:         3037\r\n",
       "\r\n",
       "Garbage collection cleanup cycles: 24873\r\n",
       "Number of reclaimed objects:       0\r\n",
       "\r\n",
       "Virtual machine cycles: 11043551\r\n",
       "\r\n",
       "</pre>"
      ],
      "text/plain": [
       "<IPython.core.display.HTML object>"
      ]
     },
     "metadata": {},
     "output_type": "display_data"
    },
    {
     "data": {
      "text/html": [
       "<pre style=\"color:blue\">An exception occurred during run.\r\n",
       "Latency is diverging. Throughput constraint is not met.\r\n",
       "\r\n",
       "\r\n",
       "\r\n",
       "Real time:       0.783\r\n",
       "Steps:           34587\r\n",
       "Simulated time:  0.0393797\r\n",
       "\r\n",
       "Fix requests granted:           0\r\n",
       "Action transitions:             27844\r\n",
       "Communication transitions:      6214\r\n",
       "Communication requests tested:  0\r\n",
       "Delay transitions:              529\r\n",
       "\r\n",
       "Delay requests granted:         851\r\n",
       "\r\n",
       "Garbage collection cleanup cycles: 3232\r\n",
       "Number of reclaimed objects:       0\r\n",
       "\r\n",
       "Virtual machine cycles: 3649915\r\n",
       "\r\n",
       "</pre>"
      ],
      "text/plain": [
       "<IPython.core.display.HTML object>"
      ]
     },
     "metadata": {},
     "output_type": "display_data"
    },
    {
     "data": {
      "text/html": [
       "<pre style=\"color:blue\">An exception occurred during run.\r\n",
       "Latency is diverging. Throughput constraint is not met.\r\n",
       "\r\n",
       "\r\n",
       "\r\n",
       "Real time:       0.52\r\n",
       "Steps:           35063\r\n",
       "Simulated time:  0.0386385\r\n",
       "\r\n",
       "Fix requests granted:           0\r\n",
       "Action transitions:             28220\r\n",
       "Communication transitions:      6300\r\n",
       "Communication requests tested:  0\r\n",
       "Delay transitions:              543\r\n",
       "\r\n",
       "Delay requests granted:         864\r\n",
       "\r\n",
       "Garbage collection cleanup cycles: 3296\r\n",
       "Number of reclaimed objects:       0\r\n",
       "\r\n",
       "Virtual machine cycles: 3526101\r\n",
       "\r\n",
       "</pre>"
      ],
      "text/plain": [
       "<IPython.core.display.HTML object>"
      ]
     },
     "metadata": {},
     "output_type": "display_data"
    },
    {
     "data": {
      "text/html": [
       "<pre style=\"color:blue\">An exception occurred during run.\r\n",
       "Latency is diverging. Throughput constraint is not met.\r\n",
       "\r\n",
       "\r\n",
       "\r\n",
       "Real time:       2.225\r\n",
       "Steps:           150422\r\n",
       "Simulated time:  0.124209\r\n",
       "\r\n",
       "Fix requests granted:           0\r\n",
       "Action transitions:             118224\r\n",
       "Communication transitions:      29480\r\n",
       "Communication requests tested:  0\r\n",
       "Delay transitions:              2718\r\n",
       "\r\n",
       "Delay requests granted:         3984\r\n",
       "\r\n",
       "Garbage collection cleanup cycles: 26227\r\n",
       "Number of reclaimed objects:       9174\r\n",
       "\r\n",
       "Virtual machine cycles: 28421414\r\n",
       "\r\n",
       "</pre>"
      ],
      "text/plain": [
       "<IPython.core.display.HTML object>"
      ]
     },
     "metadata": {},
     "output_type": "display_data"
    },
    {
     "data": {
      "text/html": [
       "<pre style=\"color:blue\">An exception occurred during run.\r\n",
       "Latency is diverging. Throughput constraint is not met.\r\n",
       "\r\n",
       "\r\n",
       "\r\n",
       "Real time:       1.061\r\n",
       "Steps:           91933\r\n",
       "Simulated time:  0.076063\r\n",
       "\r\n",
       "Fix requests granted:           0\r\n",
       "Action transitions:             73873\r\n",
       "Communication transitions:      16592\r\n",
       "Communication requests tested:  0\r\n",
       "Delay transitions:              1468\r\n",
       "\r\n",
       "Delay requests granted:         2240\r\n",
       "\r\n",
       "Garbage collection cleanup cycles: 15788\r\n",
       "Number of reclaimed objects:       0\r\n",
       "\r\n",
       "Virtual machine cycles: 8311452\r\n",
       "\r\n",
       "</pre>"
      ],
      "text/plain": [
       "<IPython.core.display.HTML object>"
      ]
     },
     "metadata": {},
     "output_type": "display_data"
    },
    {
     "data": {
      "text/html": [
       "<pre style=\"color:blue\">An exception occurred during run.\r\n",
       "Latency is diverging. Throughput constraint is not met.\r\n",
       "\r\n",
       "\r\n",
       "\r\n",
       "Real time:       1.239\r\n",
       "Steps:           91876\r\n",
       "Simulated time:  0.0760495\r\n",
       "\r\n",
       "Fix requests granted:           0\r\n",
       "Action transitions:             73831\r\n",
       "Communication transitions:      16569\r\n",
       "Communication requests tested:  0\r\n",
       "Delay transitions:              1476\r\n",
       "\r\n",
       "Delay requests granted:         2234\r\n",
       "\r\n",
       "Garbage collection cleanup cycles: 15699\r\n",
       "Number of reclaimed objects:       0\r\n",
       "\r\n",
       "Virtual machine cycles: 8389299\r\n",
       "\r\n",
       "</pre>"
      ],
      "text/plain": [
       "<IPython.core.display.HTML object>"
      ]
     },
     "metadata": {},
     "output_type": "display_data"
    },
    {
     "data": {
      "text/html": [
       "<pre style=\"color:blue\">An exception occurred during run.\r\n",
       "Latency is diverging. Throughput constraint is not met.\r\n",
       "\r\n",
       "\r\n",
       "\r\n",
       "Real time:       1.71\r\n",
       "Steps:           104133\r\n",
       "Simulated time:  0.0861737\r\n",
       "\r\n",
       "Fix requests granted:           0\r\n",
       "Action transitions:             83666\r\n",
       "Communication transitions:      18801\r\n",
       "Communication requests tested:  0\r\n",
       "Delay transitions:              1666\r\n",
       "\r\n",
       "Delay requests granted:         2531\r\n",
       "\r\n",
       "Garbage collection cleanup cycles: 19097\r\n",
       "Number of reclaimed objects:       0\r\n",
       "\r\n",
       "Virtual machine cycles: 9458964\r\n",
       "\r\n",
       "</pre>"
      ],
      "text/plain": [
       "<IPython.core.display.HTML object>"
      ]
     },
     "metadata": {},
     "output_type": "display_data"
    },
    {
     "data": {
      "text/html": [
       "<pre style=\"color:blue\">An exception occurred during run.\r\n",
       "Latency is diverging. Throughput constraint is not met.\r\n",
       "\r\n",
       "\r\n",
       "\r\n",
       "Real time:       0.786\r\n",
       "Steps:           42037\r\n",
       "Simulated time:  0.0429367\r\n",
       "\r\n",
       "Fix requests granted:           0\r\n",
       "Action transitions:             33813\r\n",
       "Communication transitions:      7562\r\n",
       "Communication requests tested:  0\r\n",
       "Delay transitions:              662\r\n",
       "\r\n",
       "Delay requests granted:         1031\r\n",
       "\r\n",
       "Garbage collection cleanup cycles: 4470\r\n",
       "Number of reclaimed objects:       0\r\n",
       "\r\n",
       "Virtual machine cycles: 4141115\r\n",
       "\r\n",
       "</pre>"
      ],
      "text/plain": [
       "<IPython.core.display.HTML object>"
      ]
     },
     "metadata": {},
     "output_type": "display_data"
    },
    {
     "data": {
      "text/html": [
       "<pre style=\"color:blue\">An exception occurred during run.\r\n",
       "Latency is diverging. Throughput constraint is not met.\r\n",
       "\r\n",
       "\r\n",
       "\r\n",
       "Real time:       0.8\r\n",
       "Steps:           37734\r\n",
       "Simulated time:  0.0414176\r\n",
       "\r\n",
       "Fix requests granted:           0\r\n",
       "Action transitions:             30366\r\n",
       "Communication transitions:      6777\r\n",
       "Communication requests tested:  0\r\n",
       "Delay transitions:              591\r\n",
       "\r\n",
       "Delay requests granted:         927\r\n",
       "\r\n",
       "Garbage collection cleanup cycles: 3757\r\n",
       "Number of reclaimed objects:       0\r\n",
       "\r\n",
       "Virtual machine cycles: 3730670\r\n",
       "\r\n",
       "</pre>"
      ],
      "text/plain": [
       "<IPython.core.display.HTML object>"
      ]
     },
     "metadata": {},
     "output_type": "display_data"
    },
    {
     "data": {
      "text/html": [
       "<pre style=\"color:blue\">An exception occurred during run.\r\n",
       "Latency is diverging. Throughput constraint is not met.\r\n",
       "\r\n",
       "\r\n",
       "\r\n",
       "Real time:       0.792\r\n",
       "Steps:           53195\r\n",
       "Simulated time:  0.0504541\r\n",
       "\r\n",
       "Fix requests granted:           0\r\n",
       "Action transitions:             42787\r\n",
       "Communication transitions:      9576\r\n",
       "Communication requests tested:  0\r\n",
       "Delay transitions:              832\r\n",
       "\r\n",
       "Delay requests granted:         1297\r\n",
       "\r\n",
       "Garbage collection cleanup cycles: 6687\r\n",
       "Number of reclaimed objects:       0\r\n",
       "\r\n",
       "Virtual machine cycles: 4970069\r\n",
       "\r\n",
       "</pre>"
      ],
      "text/plain": [
       "<IPython.core.display.HTML object>"
      ]
     },
     "metadata": {},
     "output_type": "display_data"
    },
    {
     "data": {
      "text/html": [
       "<pre style=\"color:blue\">An exception occurred during run.\r\n",
       "Latency is diverging. Throughput constraint is not met.\r\n",
       "\r\n",
       "\r\n",
       "\r\n",
       "Real time:       1.321\r\n",
       "Steps:           83224\r\n",
       "Simulated time:  0.0704463\r\n",
       "\r\n",
       "Fix requests granted:           0\r\n",
       "Action transitions:             66921\r\n",
       "Communication transitions:      14971\r\n",
       "Communication requests tested:  0\r\n",
       "Delay transitions:              1332\r\n",
       "\r\n",
       "Delay requests granted:         2026\r\n",
       "\r\n",
       "Garbage collection cleanup cycles: 13362\r\n",
       "Number of reclaimed objects:       0\r\n",
       "\r\n",
       "Virtual machine cycles: 8246656\r\n",
       "\r\n",
       "</pre>"
      ],
      "text/plain": [
       "<IPython.core.display.HTML object>"
      ]
     },
     "metadata": {},
     "output_type": "display_data"
    },
    {
     "name": "stdout",
     "output_type": "stream",
     "text": [
      "Now simulating :  NodeProcessorType1 : \"Adreno\" NodeProcessorType2 : \"Adreno\" NodeProcessorType3 : \"Adreno\" NodeProcessorType4 : \"Adreno\" NodeProcessorType5 : \"Adreno\" NodeProcessorType6 : \"ARMv8\" VSF1 : 1.0 VSF2 : 1.0 VSF3 : 0.6666666666666666 VSF4 : 0.5 VSF5 : 0.6666666666666666 VSF6 : 0.25 OSPolicy1 : \"PB\" OSPolicy2 : \"FCFS\" OSPolicy3 : \"PB\" OSPolicy4 : \"FCFS\" OSPolicy5 : \"PB\" OSPolicy6 : \"FCFS\"\n",
      "items left : 66 ,time last sim :  20.81 sec ,est time rem : 1373.139540195465 sec\n"
     ]
    },
    {
     "data": {
      "text/html": [
       "<pre style=\"color:blue\">An exception occurred during run.\r\n",
       "Latency is diverging. Throughput constraint is not met.\r\n",
       "\r\n",
       "\r\n",
       "\r\n",
       "Real time:       1.718\r\n",
       "Steps:           120496\r\n",
       "Simulated time:  0.0942956\r\n",
       "\r\n",
       "Fix requests granted:           0\r\n",
       "Action transitions:             96940\r\n",
       "Communication transitions:      21681\r\n",
       "Communication requests tested:  0\r\n",
       "Delay transitions:              1875\r\n",
       "\r\n",
       "Delay requests granted:         2938\r\n",
       "\r\n",
       "Garbage collection cleanup cycles: 23740\r\n",
       "Number of reclaimed objects:       0\r\n",
       "\r\n",
       "Virtual machine cycles: 11358842\r\n",
       "\r\n",
       "</pre>"
      ],
      "text/plain": [
       "<IPython.core.display.HTML object>"
      ]
     },
     "metadata": {},
     "output_type": "display_data"
    },
    {
     "data": {
      "text/html": [
       "<pre style=\"color:blue\">An exception occurred during run.\r\n",
       "Latency is diverging. Throughput constraint is not met.\r\n",
       "\r\n",
       "\r\n",
       "\r\n",
       "Real time:       1.354\r\n",
       "Steps:           90470\r\n",
       "Simulated time:  0.0766264\r\n",
       "\r\n",
       "Fix requests granted:           0\r\n",
       "Action transitions:             72787\r\n",
       "Communication transitions:      16292\r\n",
       "Communication requests tested:  0\r\n",
       "Delay transitions:              1391\r\n",
       "\r\n",
       "Delay requests granted:         2204\r\n",
       "\r\n",
       "Garbage collection cleanup cycles: 15587\r\n",
       "Number of reclaimed objects:       0\r\n",
       "\r\n",
       "Virtual machine cycles: 8607934\r\n",
       "\r\n",
       "</pre>"
      ],
      "text/plain": [
       "<IPython.core.display.HTML object>"
      ]
     },
     "metadata": {},
     "output_type": "display_data"
    },
    {
     "data": {
      "text/html": [
       "<pre style=\"color:blue\">An exception occurred during run.\r\n",
       "Latency is diverging. Throughput constraint is not met.\r\n",
       "\r\n",
       "\r\n",
       "\r\n",
       "Real time:       2.342\r\n",
       "Steps:           149876\r\n",
       "Simulated time:  0.12351\r\n",
       "\r\n",
       "Fix requests granted:           0\r\n",
       "Action transitions:             118356\r\n",
       "Communication transitions:      28877\r\n",
       "Communication requests tested:  0\r\n",
       "Delay transitions:              2643\r\n",
       "\r\n",
       "Delay requests granted:         3901\r\n",
       "\r\n",
       "Garbage collection cleanup cycles: 26758\r\n",
       "Number of reclaimed objects:       351\r\n",
       "\r\n",
       "Virtual machine cycles: 25495739\r\n",
       "\r\n",
       "</pre>"
      ],
      "text/plain": [
       "<IPython.core.display.HTML object>"
      ]
     },
     "metadata": {},
     "output_type": "display_data"
    },
    {
     "data": {
      "text/html": [
       "<pre style=\"color:blue\">An exception occurred during run.\r\n",
       "Latency is diverging. Throughput constraint is not met.\r\n",
       "\r\n",
       "\r\n",
       "\r\n",
       "Real time:       2.294\r\n",
       "Steps:           153630\r\n",
       "Simulated time:  0.124024\r\n",
       "\r\n",
       "Fix requests granted:           0\r\n",
       "Action transitions:             120909\r\n",
       "Communication transitions:      29953\r\n",
       "Communication requests tested:  0\r\n",
       "Delay transitions:              2768\r\n",
       "\r\n",
       "Delay requests granted:         4034\r\n",
       "\r\n",
       "Garbage collection cleanup cycles: 27266\r\n",
       "Number of reclaimed objects:       7830\r\n",
       "\r\n",
       "Virtual machine cycles: 28288017\r\n",
       "\r\n",
       "</pre>"
      ],
      "text/plain": [
       "<IPython.core.display.HTML object>"
      ]
     },
     "metadata": {},
     "output_type": "display_data"
    },
    {
     "data": {
      "text/html": [
       "<pre style=\"color:blue\">An exception occurred during run.\r\n",
       "Latency is diverging. Throughput constraint is not met.\r\n",
       "\r\n",
       "\r\n",
       "\r\n",
       "Real time:       1.344\r\n",
       "Steps:           88174\r\n",
       "Simulated time:  0.0740569\r\n",
       "\r\n",
       "Fix requests granted:           0\r\n",
       "Action transitions:             70871\r\n",
       "Communication transitions:      15864\r\n",
       "Communication requests tested:  0\r\n",
       "Delay transitions:              1439\r\n",
       "\r\n",
       "Delay requests granted:         2137\r\n",
       "\r\n",
       "Garbage collection cleanup cycles: 14350\r\n",
       "Number of reclaimed objects:       0\r\n",
       "\r\n",
       "Virtual machine cycles: 7876902\r\n",
       "\r\n",
       "</pre>"
      ],
      "text/plain": [
       "<IPython.core.display.HTML object>"
      ]
     },
     "metadata": {},
     "output_type": "display_data"
    },
    {
     "data": {
      "text/html": [
       "<pre style=\"color:blue\">An exception occurred during run.\r\n",
       "Latency is diverging. Throughput constraint is not met.\r\n",
       "\r\n",
       "\r\n",
       "\r\n",
       "Real time:       1.317\r\n",
       "Steps:           98357\r\n",
       "Simulated time:  0.0805292\r\n",
       "\r\n",
       "Fix requests granted:           0\r\n",
       "Action transitions:             79062\r\n",
       "Communication transitions:      17676\r\n",
       "Communication requests tested:  0\r\n",
       "Delay transitions:              1619\r\n",
       "\r\n",
       "Delay requests granted:         2385\r\n",
       "\r\n",
       "Garbage collection cleanup cycles: 17232\r\n",
       "Number of reclaimed objects:       0\r\n",
       "\r\n",
       "Virtual machine cycles: 9145538\r\n",
       "\r\n",
       "</pre>"
      ],
      "text/plain": [
       "<IPython.core.display.HTML object>"
      ]
     },
     "metadata": {},
     "output_type": "display_data"
    },
    {
     "data": {
      "text/html": [
       "<pre style=\"color:blue\">An exception occurred during run.\r\n",
       "Latency is diverging. Throughput constraint is not met.\r\n",
       "\r\n",
       "\r\n",
       "\r\n",
       "Real time:       1.325\r\n",
       "Steps:           104611\r\n",
       "Simulated time:  0.0844714\r\n",
       "\r\n",
       "Fix requests granted:           0\r\n",
       "Action transitions:             84147\r\n",
       "Communication transitions:      18779\r\n",
       "Communication requests tested:  0\r\n",
       "Delay transitions:              1685\r\n",
       "\r\n",
       "Delay requests granted:         2536\r\n",
       "\r\n",
       "Garbage collection cleanup cycles: 19038\r\n",
       "Number of reclaimed objects:       0\r\n",
       "\r\n",
       "Virtual machine cycles: 9476964\r\n",
       "\r\n",
       "</pre>"
      ],
      "text/plain": [
       "<IPython.core.display.HTML object>"
      ]
     },
     "metadata": {},
     "output_type": "display_data"
    },
    {
     "data": {
      "text/html": [
       "<pre style=\"color:blue\">An exception occurred during run.\r\n",
       "Latency is diverging. Throughput constraint is not met.\r\n",
       "\r\n",
       "\r\n",
       "\r\n",
       "Real time:       1.277\r\n",
       "Steps:           101028\r\n",
       "Simulated time:  0.08266\r\n",
       "\r\n",
       "Fix requests granted:           0\r\n",
       "Action transitions:             81257\r\n",
       "Communication transitions:      18141\r\n",
       "Communication requests tested:  0\r\n",
       "Delay transitions:              1630\r\n",
       "\r\n",
       "Delay requests granted:         2447\r\n",
       "\r\n",
       "Garbage collection cleanup cycles: 18432\r\n",
       "Number of reclaimed objects:       0\r\n",
       "\r\n",
       "Virtual machine cycles: 9349994\r\n",
       "\r\n",
       "</pre>"
      ],
      "text/plain": [
       "<IPython.core.display.HTML object>"
      ]
     },
     "metadata": {},
     "output_type": "display_data"
    },
    {
     "data": {
      "text/html": [
       "<pre style=\"color:blue\">An exception occurred during run.\r\n",
       "Latency is diverging. Throughput constraint is not met.\r\n",
       "\r\n",
       "\r\n",
       "\r\n",
       "Real time:       1.173\r\n",
       "Steps:           93812\r\n",
       "Simulated time:  0.0791428\r\n",
       "\r\n",
       "Fix requests granted:           0\r\n",
       "Action transitions:             75466\r\n",
       "Communication transitions:      16793\r\n",
       "Communication requests tested:  0\r\n",
       "Delay transitions:              1553\r\n",
       "\r\n",
       "Delay requests granted:         2265\r\n",
       "\r\n",
       "Garbage collection cleanup cycles: 15959\r\n",
       "Number of reclaimed objects:       0\r\n",
       "\r\n",
       "Virtual machine cycles: 8878964\r\n",
       "\r\n",
       "</pre>"
      ],
      "text/plain": [
       "<IPython.core.display.HTML object>"
      ]
     },
     "metadata": {},
     "output_type": "display_data"
    },
    {
     "data": {
      "text/html": [
       "<pre style=\"color:blue\">An exception occurred during run.\r\n",
       "Latency is diverging. Throughput constraint is not met.\r\n",
       "\r\n",
       "\r\n",
       "\r\n",
       "Real time:       1.036\r\n",
       "Steps:           78939\r\n",
       "Simulated time:  0.0666438\r\n",
       "\r\n",
       "Fix requests granted:           0\r\n",
       "Action transitions:             63531\r\n",
       "Communication transitions:      14101\r\n",
       "Communication requests tested:  0\r\n",
       "Delay transitions:              1307\r\n",
       "\r\n",
       "Delay requests granted:         1912\r\n",
       "\r\n",
       "Garbage collection cleanup cycles: 12247\r\n",
       "Number of reclaimed objects:       0\r\n",
       "\r\n",
       "Virtual machine cycles: 7271832\r\n",
       "\r\n",
       "</pre>"
      ],
      "text/plain": [
       "<IPython.core.display.HTML object>"
      ]
     },
     "metadata": {},
     "output_type": "display_data"
    },
    {
     "data": {
      "text/html": [
       "<pre style=\"color:blue\">An exception occurred during run.\r\n",
       "Latency is diverging. Throughput constraint is not met.\r\n",
       "\r\n",
       "\r\n",
       "\r\n",
       "Real time:       1.322\r\n",
       "Steps:           96040\r\n",
       "Simulated time:  0.0780093\r\n",
       "\r\n",
       "Fix requests granted:           0\r\n",
       "Action transitions:             77341\r\n",
       "Communication transitions:      17149\r\n",
       "Communication requests tested:  0\r\n",
       "Delay transitions:              1550\r\n",
       "\r\n",
       "Delay requests granted:         2326\r\n",
       "\r\n",
       "Garbage collection cleanup cycles: 16652\r\n",
       "Number of reclaimed objects:       0\r\n",
       "\r\n",
       "Virtual machine cycles: 8534270\r\n",
       "\r\n",
       "</pre>"
      ],
      "text/plain": [
       "<IPython.core.display.HTML object>"
      ]
     },
     "metadata": {},
     "output_type": "display_data"
    },
    {
     "name": "stdout",
     "output_type": "stream",
     "text": [
      "Now simulating :  NodeProcessorType1 : \"Adreno\" NodeProcessorType2 : \"Adreno\" NodeProcessorType3 : \"Adreno\" NodeProcessorType4 : \"Adreno\" NodeProcessorType5 : \"Adreno\" NodeProcessorType6 : \"MIPS\" VSF1 : 0.6666666666666666 VSF2 : 1.0 VSF3 : 0.6666666666666666 VSF4 : 0.6666666666666666 VSF5 : 0.6666666666666666 VSF6 : 0.25 OSPolicy1 : \"PB\" OSPolicy2 : \"FCFS\" OSPolicy3 : \"PB\" OSPolicy4 : \"FCFS\" OSPolicy5 : \"PB\" OSPolicy6 : \"FCFS\"\n",
      "items left : 65 ,time last sim :  23.47 sec ,est time rem : 1525.5934250354767 sec\n"
     ]
    },
    {
     "data": {
      "text/html": [
       "<pre style=\"color:blue\">An exception occurred during run.\r\n",
       "Latency is diverging. Throughput constraint is not met.\r\n",
       "\r\n",
       "\r\n",
       "\r\n",
       "Real time:       2.195\r\n",
       "Steps:           152849\r\n",
       "Simulated time:  0.124659\r\n",
       "\r\n",
       "Fix requests granted:           0\r\n",
       "Action transitions:             120759\r\n",
       "Communication transitions:      29387\r\n",
       "Communication requests tested:  0\r\n",
       "Delay transitions:              2703\r\n",
       "\r\n",
       "Delay requests granted:         3976\r\n",
       "\r\n",
       "Garbage collection cleanup cycles: 27594\r\n",
       "Number of reclaimed objects:       0\r\n",
       "\r\n",
       "Virtual machine cycles: 26065827\r\n",
       "\r\n",
       "</pre>"
      ],
      "text/plain": [
       "<IPython.core.display.HTML object>"
      ]
     },
     "metadata": {},
     "output_type": "display_data"
    },
    {
     "data": {
      "text/html": [
       "<pre style=\"color:blue\">An exception occurred during run.\r\n",
       "Latency is diverging. Throughput constraint is not met.\r\n",
       "\r\n",
       "\r\n",
       "\r\n",
       "Real time:       1.19\r\n",
       "Steps:           93293\r\n",
       "Simulated time:  0.0765198\r\n",
       "\r\n",
       "Fix requests granted:           0\r\n",
       "Action transitions:             74989\r\n",
       "Communication transitions:      16779\r\n",
       "Communication requests tested:  0\r\n",
       "Delay transitions:              1525\r\n",
       "\r\n",
       "Delay requests granted:         2269\r\n",
       "\r\n",
       "Garbage collection cleanup cycles: 15825\r\n",
       "Number of reclaimed objects:       0\r\n",
       "\r\n",
       "Virtual machine cycles: 9028710\r\n",
       "\r\n",
       "</pre>"
      ],
      "text/plain": [
       "<IPython.core.display.HTML object>"
      ]
     },
     "metadata": {},
     "output_type": "display_data"
    },
    {
     "data": {
      "text/html": [
       "<pre style=\"color:blue\">Real Time:           6.192 Steps:    1.04858e+006 Simulated Time:         1.10796\r\n",
       "An exception occurred during run.\r\n",
       "Latency is diverging. Throughput constraint is not met.\r\n",
       "\r\n",
       "\r\n",
       "\r\n",
       "Real time:       8.793\r\n",
       "Steps:           1573033\r\n",
       "Simulated time:  1.70003\r\n",
       "\r\n",
       "Fix requests granted:           0\r\n",
       "Action transitions:             1080519\r\n",
       "Communication transitions:      452775\r\n",
       "Communication requests tested:  0\r\n",
       "Delay transitions:              39739\r\n",
       "\r\n",
       "Delay requests granted:         60022\r\n",
       "\r\n",
       "Garbage collection cleanup cycles: 31710\r\n",
       "Number of reclaimed objects:       12283\r\n",
       "\r\n",
       "Virtual machine cycles: 144611029\r\n",
       "\r\n",
       "</pre>"
      ],
      "text/plain": [
       "<IPython.core.display.HTML object>"
      ]
     },
     "metadata": {},
     "output_type": "display_data"
    },
    {
     "data": {
      "text/html": [
       "<pre style=\"color:blue\">An exception occurred during run.\r\n",
       "Latency is diverging. Throughput constraint is not met.\r\n",
       "\r\n",
       "\r\n",
       "\r\n",
       "Real time:       2.573\r\n",
       "Steps:           157744\r\n",
       "Simulated time:  0.132242\r\n",
       "\r\n",
       "Fix requests granted:           0\r\n",
       "Action transitions:             123350\r\n",
       "Communication transitions:      31552\r\n",
       "Communication requests tested:  0\r\n",
       "Delay transitions:              2842\r\n",
       "\r\n",
       "Delay requests granted:         4246\r\n",
       "\r\n",
       "Garbage collection cleanup cycles: 25872\r\n",
       "Number of reclaimed objects:       3682\r\n",
       "\r\n",
       "Virtual machine cycles: 25881980\r\n",
       "\r\n",
       "</pre>"
      ],
      "text/plain": [
       "<IPython.core.display.HTML object>"
      ]
     },
     "metadata": {},
     "output_type": "display_data"
    },
    {
     "data": {
      "text/html": [
       "<pre style=\"color:blue\">An exception occurred during run.\r\n",
       "Latency is diverging. Throughput constraint is not met.\r\n",
       "\r\n",
       "\r\n",
       "\r\n",
       "Real time:       2.288\r\n",
       "Steps:           171161\r\n",
       "Simulated time:  0.144319\r\n",
       "\r\n",
       "Fix requests granted:           0\r\n",
       "Action transitions:             132992\r\n",
       "Communication transitions:      35024\r\n",
       "Communication requests tested:  0\r\n",
       "Delay transitions:              3145\r\n",
       "\r\n",
       "Delay requests granted:         4699\r\n",
       "\r\n",
       "Garbage collection cleanup cycles: 27264\r\n",
       "Number of reclaimed objects:       357\r\n",
       "\r\n",
       "Virtual machine cycles: 26029407\r\n",
       "\r\n",
       "</pre>"
      ],
      "text/plain": [
       "<IPython.core.display.HTML object>"
      ]
     },
     "metadata": {},
     "output_type": "display_data"
    },
    {
     "data": {
      "text/html": [
       "<pre style=\"color:blue\">An exception occurred during run.\r\n",
       "Latency is diverging. Throughput constraint is not met.\r\n",
       "\r\n",
       "\r\n",
       "\r\n",
       "Real time:       2.441\r\n",
       "Steps:           184695\r\n",
       "Simulated time:  0.162139\r\n",
       "\r\n",
       "Fix requests granted:           0\r\n",
       "Action transitions:             141959\r\n",
       "Communication transitions:      39230\r\n",
       "Communication requests tested:  0\r\n",
       "Delay transitions:              3506\r\n",
       "\r\n",
       "Delay requests granted:         5273\r\n",
       "\r\n",
       "Garbage collection cleanup cycles: 26874\r\n",
       "Number of reclaimed objects:       1155\r\n",
       "\r\n",
       "Virtual machine cycles: 27215941\r\n",
       "\r\n",
       "</pre>"
      ],
      "text/plain": [
       "<IPython.core.display.HTML object>"
      ]
     },
     "metadata": {},
     "output_type": "display_data"
    },
    {
     "data": {
      "text/html": [
       "<pre style=\"color:blue\">An exception occurred during run.\r\n",
       "Latency is diverging. Throughput constraint is not met.\r\n",
       "\r\n",
       "\r\n",
       "\r\n",
       "Real time:       2.422\r\n",
       "Steps:           163747\r\n",
       "Simulated time:  0.138084\r\n",
       "\r\n",
       "Fix requests granted:           0\r\n",
       "Action transitions:             127728\r\n",
       "Communication transitions:      33071\r\n",
       "Communication requests tested:  0\r\n",
       "Delay transitions:              2948\r\n",
       "\r\n",
       "Delay requests granted:         4450\r\n",
       "\r\n",
       "Garbage collection cleanup cycles: 26628\r\n",
       "Number of reclaimed objects:       3701\r\n",
       "\r\n",
       "Virtual machine cycles: 28504786\r\n",
       "\r\n",
       "</pre>"
      ],
      "text/plain": [
       "<IPython.core.display.HTML object>"
      ]
     },
     "metadata": {},
     "output_type": "display_data"
    },
    {
     "data": {
      "text/html": [
       "<pre style=\"color:blue\">An exception occurred during run.\r\n",
       "Latency is diverging. Throughput constraint is not met.\r\n",
       "\r\n",
       "\r\n",
       "\r\n",
       "Real time:       2.43\r\n",
       "Steps:           153348\r\n",
       "Simulated time:  0.125205\r\n",
       "\r\n",
       "Fix requests granted:           0\r\n",
       "Action transitions:             120626\r\n",
       "Communication transitions:      29951\r\n",
       "Communication requests tested:  0\r\n",
       "Delay transitions:              2771\r\n",
       "\r\n",
       "Delay requests granted:         4049\r\n",
       "\r\n",
       "Garbage collection cleanup cycles: 26489\r\n",
       "Number of reclaimed objects:       1248\r\n",
       "\r\n",
       "Virtual machine cycles: 26051177\r\n",
       "\r\n",
       "</pre>"
      ],
      "text/plain": [
       "<IPython.core.display.HTML object>"
      ]
     },
     "metadata": {},
     "output_type": "display_data"
    },
    {
     "data": {
      "text/html": [
       "<pre style=\"color:blue\">An exception occurred during run.\r\n",
       "Latency is diverging. Throughput constraint is not met.\r\n",
       "\r\n",
       "\r\n",
       "\r\n",
       "Real time:       0.787\r\n",
       "Steps:           31928\r\n",
       "Simulated time:  0.0369434\r\n",
       "\r\n",
       "Fix requests granted:           0\r\n",
       "Action transitions:             25741\r\n",
       "Communication transitions:      5706\r\n",
       "Communication requests tested:  0\r\n",
       "Delay transitions:              481\r\n",
       "\r\n",
       "Delay requests granted:         786\r\n",
       "\r\n",
       "Garbage collection cleanup cycles: 2770\r\n",
       "Number of reclaimed objects:       0\r\n",
       "\r\n",
       "Virtual machine cycles: 3256944\r\n",
       "\r\n",
       "</pre>"
      ],
      "text/plain": [
       "<IPython.core.display.HTML object>"
      ]
     },
     "metadata": {},
     "output_type": "display_data"
    },
    {
     "data": {
      "text/html": [
       "<pre style=\"color:blue\">An exception occurred during run.\r\n",
       "Latency is diverging. Throughput constraint is not met.\r\n",
       "\r\n",
       "\r\n",
       "\r\n",
       "Real time:       1.572\r\n",
       "Steps:           112851\r\n",
       "Simulated time:  0.0903067\r\n",
       "\r\n",
       "Fix requests granted:           0\r\n",
       "Action transitions:             90685\r\n",
       "Communication transitions:      20364\r\n",
       "Communication requests tested:  0\r\n",
       "Delay transitions:              1802\r\n",
       "\r\n",
       "Delay requests granted:         2756\r\n",
       "\r\n",
       "Garbage collection cleanup cycles: 20858\r\n",
       "Number of reclaimed objects:       0\r\n",
       "\r\n",
       "Virtual machine cycles: 10111225\r\n",
       "\r\n",
       "</pre>"
      ],
      "text/plain": [
       "<IPython.core.display.HTML object>"
      ]
     },
     "metadata": {},
     "output_type": "display_data"
    },
    {
     "data": {
      "text/html": [
       "<pre style=\"color:blue\">An exception occurred during run.\r\n",
       "Latency is diverging. Throughput constraint is not met.\r\n",
       "\r\n",
       "\r\n",
       "\r\n",
       "Real time:       2.172\r\n",
       "Steps:           128130\r\n",
       "Simulated time:  0.102961\r\n",
       "\r\n",
       "Fix requests granted:           0\r\n",
       "Action transitions:             102826\r\n",
       "Communication transitions:      23268\r\n",
       "Communication requests tested:  0\r\n",
       "Delay transitions:              2036\r\n",
       "\r\n",
       "Delay requests granted:         3135\r\n",
       "\r\n",
       "Garbage collection cleanup cycles: 24857\r\n",
       "Number of reclaimed objects:       0\r\n",
       "\r\n",
       "Virtual machine cycles: 22094318\r\n",
       "\r\n",
       "</pre>"
      ],
      "text/plain": [
       "<IPython.core.display.HTML object>"
      ]
     },
     "metadata": {},
     "output_type": "display_data"
    },
    {
     "name": "stdout",
     "output_type": "stream",
     "text": [
      "Now simulating :  NodeProcessorType1 : \"Adreno\" NodeProcessorType2 : \"MIPS\" NodeProcessorType3 : \"Adreno\" NodeProcessorType4 : \"Adreno\" NodeProcessorType5 : \"Adreno\" NodeProcessorType6 : \"ARMv8\" VSF1 : 1.0 VSF2 : 1.0 VSF3 : 0.6666666666666666 VSF4 : 0.6666666666666666 VSF5 : 0.6666666666666666 VSF6 : 0.25 OSPolicy1 : \"PB\" OSPolicy2 : \"PB\" OSPolicy3 : \"PB\" OSPolicy4 : \"FCFS\" OSPolicy5 : \"PB\" OSPolicy6 : \"FCFS\"\n",
      "items left : 62 ,time last sim :  36.38 sec ,est time rem : 2255.251847743988 sec\n"
     ]
    },
    {
     "data": {
      "text/html": [
       "<pre style=\"color:blue\">An exception occurred during run.\r\n",
       "Latency is diverging. Throughput constraint is not met.\r\n",
       "\r\n",
       "\r\n",
       "\r\n",
       "Real time:       2.387\r\n",
       "Steps:           199587\r\n",
       "Simulated time:  0.171065\r\n",
       "\r\n",
       "Fix requests granted:           0\r\n",
       "Action transitions:             153292\r\n",
       "Communication transitions:      42682\r\n",
       "Communication requests tested:  0\r\n",
       "Delay transitions:              3613\r\n",
       "\r\n",
       "Delay requests granted:         5745\r\n",
       "\r\n",
       "Garbage collection cleanup cycles: 30818\r\n",
       "Number of reclaimed objects:       0\r\n",
       "\r\n",
       "Virtual machine cycles: 30349901\r\n",
       "\r\n",
       "</pre>"
      ],
      "text/plain": [
       "<IPython.core.display.HTML object>"
      ]
     },
     "metadata": {},
     "output_type": "display_data"
    },
    {
     "data": {
      "text/html": [
       "<pre style=\"color:blue\">An exception occurred during run.\r\n",
       "Latency is diverging. Throughput constraint is not met.\r\n",
       "\r\n",
       "\r\n",
       "\r\n",
       "Real time:       1.578\r\n",
       "Steps:           112121\r\n",
       "Simulated time:  0.088055\r\n",
       "\r\n",
       "Fix requests granted:           0\r\n",
       "Action transitions:             90352\r\n",
       "Communication transitions:      20058\r\n",
       "Communication requests tested:  0\r\n",
       "Delay transitions:              1711\r\n",
       "\r\n",
       "Delay requests granted:         2703\r\n",
       "\r\n",
       "Garbage collection cleanup cycles: 22169\r\n",
       "Number of reclaimed objects:       0\r\n",
       "\r\n",
       "Virtual machine cycles: 10179185\r\n",
       "\r\n",
       "</pre>"
      ],
      "text/plain": [
       "<IPython.core.display.HTML object>"
      ]
     },
     "metadata": {},
     "output_type": "display_data"
    },
    {
     "data": {
      "text/html": [
       "<pre style=\"color:blue\">An exception occurred during run.\r\n",
       "Latency is diverging. Throughput constraint is not met.\r\n",
       "\r\n",
       "\r\n",
       "\r\n",
       "Real time:       0.521\r\n",
       "Steps:           32903\r\n",
       "Simulated time:  0.0381408\r\n",
       "\r\n",
       "Fix requests granted:           0\r\n",
       "Action transitions:             26508\r\n",
       "Communication transitions:      5923\r\n",
       "Communication requests tested:  0\r\n",
       "Delay transitions:              472\r\n",
       "\r\n",
       "Delay requests granted:         810\r\n",
       "\r\n",
       "Garbage collection cleanup cycles: 3170\r\n",
       "Number of reclaimed objects:       0\r\n",
       "\r\n",
       "Virtual machine cycles: 3092301\r\n",
       "\r\n",
       "</pre>"
      ],
      "text/plain": [
       "<IPython.core.display.HTML object>"
      ]
     },
     "metadata": {},
     "output_type": "display_data"
    },
    {
     "data": {
      "text/html": [
       "<pre style=\"color:blue\">An exception occurred during run.\r\n",
       "Latency is diverging. Throughput constraint is not met.\r\n",
       "\r\n",
       "\r\n",
       "\r\n",
       "Real time:       0.778\r\n",
       "Steps:           50940\r\n",
       "Simulated time:  0.052248\r\n",
       "\r\n",
       "Fix requests granted:           0\r\n",
       "Action transitions:             41057\r\n",
       "Communication transitions:      9101\r\n",
       "Communication requests tested:  0\r\n",
       "Delay transitions:              782\r\n",
       "\r\n",
       "Delay requests granted:         1234\r\n",
       "\r\n",
       "Garbage collection cleanup cycles: 6406\r\n",
       "Number of reclaimed objects:       0\r\n",
       "\r\n",
       "Virtual machine cycles: 5211159\r\n",
       "\r\n",
       "</pre>"
      ],
      "text/plain": [
       "<IPython.core.display.HTML object>"
      ]
     },
     "metadata": {},
     "output_type": "display_data"
    },
    {
     "data": {
      "text/html": [
       "<pre style=\"color:blue\">An exception occurred during run.\r\n",
       "Latency is diverging. Throughput constraint is not met.\r\n",
       "\r\n",
       "\r\n",
       "\r\n",
       "Real time:       1.55\r\n",
       "Steps:           122115\r\n",
       "Simulated time:  0.0950038\r\n",
       "\r\n",
       "Fix requests granted:           0\r\n",
       "Action transitions:             98372\r\n",
       "Communication transitions:      21908\r\n",
       "Communication requests tested:  0\r\n",
       "Delay transitions:              1835\r\n",
       "\r\n",
       "Delay requests granted:         2965\r\n",
       "\r\n",
       "Garbage collection cleanup cycles: 25634\r\n",
       "Number of reclaimed objects:       0\r\n",
       "\r\n",
       "Virtual machine cycles: 11765154\r\n",
       "\r\n",
       "</pre>"
      ],
      "text/plain": [
       "<IPython.core.display.HTML object>"
      ]
     },
     "metadata": {},
     "output_type": "display_data"
    },
    {
     "data": {
      "text/html": [
       "<pre style=\"color:blue\">An exception occurred during run.\r\n",
       "Latency is diverging. Throughput constraint is not met.\r\n",
       "\r\n",
       "\r\n",
       "\r\n",
       "Real time:       2.449\r\n",
       "Steps:           157394\r\n",
       "Simulated time:  0.128048\r\n",
       "\r\n",
       "Fix requests granted:           0\r\n",
       "Action transitions:             124132\r\n",
       "Communication transitions:      30712\r\n",
       "Communication requests tested:  0\r\n",
       "Delay transitions:              2550\r\n",
       "\r\n",
       "Delay requests granted:         4136\r\n",
       "\r\n",
       "Garbage collection cleanup cycles: 30005\r\n",
       "Number of reclaimed objects:       5821\r\n",
       "\r\n",
       "Virtual machine cycles: 28726301\r\n",
       "\r\n",
       "</pre>"
      ],
      "text/plain": [
       "<IPython.core.display.HTML object>"
      ]
     },
     "metadata": {},
     "output_type": "display_data"
    },
    {
     "data": {
      "text/html": [
       "<pre style=\"color:blue\">An exception occurred during run.\r\n",
       "Latency is diverging. Throughput constraint is not met.\r\n",
       "\r\n",
       "\r\n",
       "\r\n",
       "Real time:       0.906\r\n",
       "Steps:           46240\r\n",
       "Simulated time:  0.0485187\r\n",
       "\r\n",
       "Fix requests granted:           0\r\n",
       "Action transitions:             37281\r\n",
       "Communication transitions:      8256\r\n",
       "Communication requests tested:  0\r\n",
       "Delay transitions:              703\r\n",
       "\r\n",
       "Delay requests granted:         1112\r\n",
       "\r\n",
       "Garbage collection cleanup cycles: 5142\r\n",
       "Number of reclaimed objects:       941\r\n",
       "\r\n",
       "Virtual machine cycles: 4699815\r\n",
       "\r\n",
       "</pre>"
      ],
      "text/plain": [
       "<IPython.core.display.HTML object>"
      ]
     },
     "metadata": {},
     "output_type": "display_data"
    },
    {
     "data": {
      "text/html": [
       "<pre style=\"color:blue\">An exception occurred during run.\r\n",
       "Latency is diverging. Throughput constraint is not met.\r\n",
       "\r\n",
       "\r\n",
       "\r\n",
       "Real time:       0.521\r\n",
       "Steps:           28468\r\n",
       "Simulated time:  0.0367465\r\n",
       "\r\n",
       "Fix requests granted:           0\r\n",
       "Action transitions:             22961\r\n",
       "Communication transitions:      5089\r\n",
       "Communication requests tested:  0\r\n",
       "Delay transitions:              418\r\n",
       "\r\n",
       "Delay requests granted:         696\r\n",
       "\r\n",
       "Garbage collection cleanup cycles: 2276\r\n",
       "Number of reclaimed objects:       405\r\n",
       "\r\n",
       "Virtual machine cycles: 2839611\r\n",
       "\r\n",
       "</pre>"
      ],
      "text/plain": [
       "<IPython.core.display.HTML object>"
      ]
     },
     "metadata": {},
     "output_type": "display_data"
    },
    {
     "data": {
      "text/html": [
       "<pre style=\"color:blue\">An exception occurred during run.\r\n",
       "Latency is diverging. Throughput constraint is not met.\r\n",
       "\r\n",
       "\r\n",
       "\r\n",
       "Real time:       1.05\r\n",
       "Steps:           65760\r\n",
       "Simulated time:  0.0600307\r\n",
       "\r\n",
       "Fix requests granted:           0\r\n",
       "Action transitions:             52956\r\n",
       "Communication transitions:      11831\r\n",
       "Communication requests tested:  0\r\n",
       "Delay transitions:              973\r\n",
       "\r\n",
       "Delay requests granted:         1609\r\n",
       "\r\n",
       "Garbage collection cleanup cycles: 10111\r\n",
       "Number of reclaimed objects:       0\r\n",
       "\r\n",
       "Virtual machine cycles: 6555234\r\n",
       "\r\n",
       "</pre>"
      ],
      "text/plain": [
       "<IPython.core.display.HTML object>"
      ]
     },
     "metadata": {},
     "output_type": "display_data"
    },
    {
     "data": {
      "text/html": [
       "<pre style=\"color:blue\">An exception occurred during run.\r\n",
       "Latency is diverging. Throughput constraint is not met.\r\n",
       "\r\n",
       "\r\n",
       "\r\n",
       "Real time:       1.103\r\n",
       "Steps:           82502\r\n",
       "Simulated time:  0.0764105\r\n",
       "\r\n",
       "Fix requests granted:           0\r\n",
       "Action transitions:             66285\r\n",
       "Communication transitions:      14902\r\n",
       "Communication requests tested:  0\r\n",
       "Delay transitions:              1315\r\n",
       "\r\n",
       "Delay requests granted:         2004\r\n",
       "\r\n",
       "Garbage collection cleanup cycles: 12821\r\n",
       "Number of reclaimed objects:       1871\r\n",
       "\r\n",
       "Virtual machine cycles: 9442026\r\n",
       "\r\n",
       "</pre>"
      ],
      "text/plain": [
       "<IPython.core.display.HTML object>"
      ]
     },
     "metadata": {},
     "output_type": "display_data"
    },
    {
     "data": {
      "text/html": [
       "<pre style=\"color:blue\">An exception occurred during run.\r\n",
       "Latency is diverging. Throughput constraint is not met.\r\n",
       "\r\n",
       "\r\n",
       "\r\n",
       "Real time:       2.118\r\n",
       "Steps:           128193\r\n",
       "Simulated time:  0.109105\r\n",
       "\r\n",
       "Fix requests granted:           0\r\n",
       "Action transitions:             102435\r\n",
       "Communication transitions:      23786\r\n",
       "Communication requests tested:  0\r\n",
       "Delay transitions:              1972\r\n",
       "\r\n",
       "Delay requests granted:         3195\r\n",
       "\r\n",
       "Garbage collection cleanup cycles: 24878\r\n",
       "Number of reclaimed objects:       965\r\n",
       "\r\n",
       "Virtual machine cycles: 22079415\r\n",
       "\r\n",
       "</pre>"
      ],
      "text/plain": [
       "<IPython.core.display.HTML object>"
      ]
     },
     "metadata": {},
     "output_type": "display_data"
    },
    {
     "name": "stdout",
     "output_type": "stream",
     "text": [
      "Now simulating :  NodeProcessorType1 : \"Adreno\" NodeProcessorType2 : \"Adreno\" NodeProcessorType3 : \"Adreno\" NodeProcessorType4 : \"Adreno\" NodeProcessorType5 : \"Adreno\" NodeProcessorType6 : \"ARMv8\" VSF1 : 1.0 VSF2 : 1.0 VSF3 : 0.6666666666666666 VSF4 : 0.6666666666666666 VSF5 : 0.6666666666666666 VSF6 : 0.25 OSPolicy1 : \"PB\" OSPolicy2 : \"FCFS\" OSPolicy3 : \"PB\" OSPolicy4 : \"FCFS\" OSPolicy5 : \"PB\" OSPolicy6 : \"FCFS\"\n",
      "items left : 60 ,time last sim :  22.67 sec ,est time rem : 1360.0918006896973 sec\n"
     ]
    },
    {
     "data": {
      "text/html": [
       "<pre style=\"color:blue\">An exception occurred during run.\r\n",
       "Latency is diverging. Throughput constraint is not met.\r\n",
       "\r\n",
       "\r\n",
       "\r\n",
       "Real time:       2.571\r\n",
       "Steps:           185273\r\n",
       "Simulated time:  0.164011\r\n",
       "\r\n",
       "Fix requests granted:           0\r\n",
       "Action transitions:             142481\r\n",
       "Communication transitions:      39300\r\n",
       "Communication requests tested:  0\r\n",
       "Delay transitions:              3492\r\n",
       "\r\n",
       "Delay requests granted:         5280\r\n",
       "\r\n",
       "Garbage collection cleanup cycles: 28327\r\n",
       "Number of reclaimed objects:       1657\r\n",
       "\r\n",
       "Virtual machine cycles: 29030432\r\n",
       "\r\n",
       "</pre>"
      ],
      "text/plain": [
       "<IPython.core.display.HTML object>"
      ]
     },
     "metadata": {},
     "output_type": "display_data"
    },
    {
     "data": {
      "text/html": [
       "<pre style=\"color:blue\">An exception occurred during run.\r\n",
       "Latency is diverging. Throughput constraint is not met.\r\n",
       "\r\n",
       "\r\n",
       "\r\n",
       "Real time:       2.95\r\n",
       "Steps:           315926\r\n",
       "Simulated time:  0.304006\r\n",
       "\r\n",
       "Fix requests granted:           0\r\n",
       "Action transitions:             231483\r\n",
       "Communication transitions:      77504\r\n",
       "Communication requests tested:  0\r\n",
       "Delay transitions:              6939\r\n",
       "\r\n",
       "Delay requests granted:         10395\r\n",
       "\r\n",
       "Garbage collection cleanup cycles: 29847\r\n",
       "Number of reclaimed objects:       2554\r\n",
       "\r\n",
       "Virtual machine cycles: 40367179\r\n",
       "\r\n",
       "</pre>"
      ],
      "text/plain": [
       "<IPython.core.display.HTML object>"
      ]
     },
     "metadata": {},
     "output_type": "display_data"
    },
    {
     "data": {
      "text/html": [
       "<pre style=\"color:blue\">An exception occurred during run.\r\n",
       "Latency is diverging. Throughput constraint is not met.\r\n",
       "\r\n",
       "\r\n",
       "\r\n",
       "Real time:       1.108\r\n",
       "Steps:           71579\r\n",
       "Simulated time:  0.0645715\r\n",
       "\r\n",
       "Fix requests granted:           0\r\n",
       "Action transitions:             57584\r\n",
       "Communication transitions:      12843\r\n",
       "Communication requests tested:  0\r\n",
       "Delay transitions:              1152\r\n",
       "\r\n",
       "Delay requests granted:         1746\r\n",
       "\r\n",
       "Garbage collection cleanup cycles: 10792\r\n",
       "Number of reclaimed objects:       0\r\n",
       "\r\n",
       "Virtual machine cycles: 6995300\r\n",
       "\r\n",
       "</pre>"
      ],
      "text/plain": [
       "<IPython.core.display.HTML object>"
      ]
     },
     "metadata": {},
     "output_type": "display_data"
    },
    {
     "data": {
      "text/html": [
       "<pre style=\"color:blue\">An exception occurred during run.\r\n",
       "Latency is diverging. Throughput constraint is not met.\r\n",
       "\r\n",
       "\r\n",
       "\r\n",
       "Real time:       1.065\r\n",
       "Steps:           77717\r\n",
       "Simulated time:  0.0661038\r\n",
       "\r\n",
       "Fix requests granted:           0\r\n",
       "Action transitions:             62528\r\n",
       "Communication transitions:      13939\r\n",
       "Communication requests tested:  0\r\n",
       "Delay transitions:              1250\r\n",
       "\r\n",
       "Delay requests granted:         1892\r\n",
       "\r\n",
       "Garbage collection cleanup cycles: 12240\r\n",
       "Number of reclaimed objects:       0\r\n",
       "\r\n",
       "Virtual machine cycles: 7550616\r\n",
       "\r\n",
       "</pre>"
      ],
      "text/plain": [
       "<IPython.core.display.HTML object>"
      ]
     },
     "metadata": {},
     "output_type": "display_data"
    },
    {
     "data": {
      "text/html": [
       "<pre style=\"color:blue\">An exception occurred during run.\r\n",
       "Latency is diverging. Throughput constraint is not met.\r\n",
       "\r\n",
       "\r\n",
       "\r\n",
       "Real time:       7.09\r\n",
       "Steps:           1268810\r\n",
       "Simulated time:  1.35015\r\n",
       "\r\n",
       "Fix requests granted:           0\r\n",
       "Action transitions:             876211\r\n",
       "Communication transitions:      361380\r\n",
       "Communication requests tested:  0\r\n",
       "Delay transitions:              31219\r\n",
       "\r\n",
       "Delay requests granted:         48059\r\n",
       "\r\n",
       "Garbage collection cleanup cycles: 31734\r\n",
       "Number of reclaimed objects:       11162\r\n",
       "\r\n",
       "Virtual machine cycles: 123529448\r\n",
       "\r\n",
       "</pre>"
      ],
      "text/plain": [
       "<IPython.core.display.HTML object>"
      ]
     },
     "metadata": {},
     "output_type": "display_data"
    },
    {
     "data": {
      "text/html": [
       "<pre style=\"color:blue\">An exception occurred during run.\r\n",
       "Latency is diverging. Throughput constraint is not met.\r\n",
       "\r\n",
       "\r\n",
       "\r\n",
       "Real time:       3.073\r\n",
       "Steps:           322107\r\n",
       "Simulated time:  0.308139\r\n",
       "\r\n",
       "Fix requests granted:           0\r\n",
       "Action transitions:             236037\r\n",
       "Communication transitions:      79092\r\n",
       "Communication requests tested:  0\r\n",
       "Delay transitions:              6978\r\n",
       "\r\n",
       "Delay requests granted:         10597\r\n",
       "\r\n",
       "Garbage collection cleanup cycles: 30761\r\n",
       "Number of reclaimed objects:       2190\r\n",
       "\r\n",
       "Virtual machine cycles: 40381905\r\n",
       "\r\n",
       "</pre>"
      ],
      "text/plain": [
       "<IPython.core.display.HTML object>"
      ]
     },
     "metadata": {},
     "output_type": "display_data"
    },
    {
     "data": {
      "text/html": [
       "<pre style=\"color:blue\">An exception occurred during run.\r\n",
       "Latency is diverging. Throughput constraint is not met.\r\n",
       "\r\n",
       "\r\n",
       "\r\n",
       "Real time:       3.02\r\n",
       "Steps:           293009\r\n",
       "Simulated time:  0.276082\r\n",
       "\r\n",
       "Fix requests granted:           0\r\n",
       "Action transitions:             215847\r\n",
       "Communication transitions:      70821\r\n",
       "Communication requests tested:  0\r\n",
       "Delay transitions:              6341\r\n",
       "\r\n",
       "Delay requests granted:         9501\r\n",
       "\r\n",
       "Garbage collection cleanup cycles: 29659\r\n",
       "Number of reclaimed objects:       11268\r\n",
       "\r\n",
       "Virtual machine cycles: 41293804\r\n",
       "\r\n",
       "</pre>"
      ],
      "text/plain": [
       "<IPython.core.display.HTML object>"
      ]
     },
     "metadata": {},
     "output_type": "display_data"
    },
    {
     "data": {
      "text/html": [
       "<pre style=\"color:blue\">An exception occurred during run.\r\n",
       "Latency is diverging. Throughput constraint is not met.\r\n",
       "\r\n",
       "\r\n",
       "\r\n",
       "Real time:       3.163\r\n",
       "Steps:           332142\r\n",
       "Simulated time:  0.318211\r\n",
       "\r\n",
       "Fix requests granted:           0\r\n",
       "Action transitions:             242776\r\n",
       "Communication transitions:      82019\r\n",
       "Communication requests tested:  0\r\n",
       "Delay transitions:              7347\r\n",
       "\r\n",
       "Delay requests granted:         11010\r\n",
       "\r\n",
       "Garbage collection cleanup cycles: 30802\r\n",
       "Number of reclaimed objects:       944\r\n",
       "\r\n",
       "Virtual machine cycles: 40195321\r\n",
       "\r\n",
       "</pre>"
      ],
      "text/plain": [
       "<IPython.core.display.HTML object>"
      ]
     },
     "metadata": {},
     "output_type": "display_data"
    },
    {
     "data": {
      "text/html": [
       "<pre style=\"color:blue\">An exception occurred during run.\r\n",
       "Latency is diverging. Throughput constraint is not met.\r\n",
       "\r\n",
       "\r\n",
       "\r\n",
       "Real time:       2.687\r\n",
       "Steps:           214696\r\n",
       "Simulated time:  0.194279\r\n",
       "\r\n",
       "Fix requests granted:           0\r\n",
       "Action transitions:             162849\r\n",
       "Communication transitions:      47680\r\n",
       "Communication requests tested:  0\r\n",
       "Delay transitions:              4167\r\n",
       "\r\n",
       "Delay requests granted:         6438\r\n",
       "\r\n",
       "Garbage collection cleanup cycles: 29241\r\n",
       "Number of reclaimed objects:       4764\r\n",
       "\r\n",
       "Virtual machine cycles: 32223647\r\n",
       "\r\n",
       "</pre>"
      ],
      "text/plain": [
       "<IPython.core.display.HTML object>"
      ]
     },
     "metadata": {},
     "output_type": "display_data"
    },
    {
     "data": {
      "text/html": [
       "<pre style=\"color:blue\">An exception occurred during run.\r\n",
       "Latency is diverging. Throughput constraint is not met.\r\n",
       "\r\n",
       "\r\n",
       "\r\n",
       "Real time:       1.128\r\n",
       "Steps:           82285\r\n",
       "Simulated time:  0.0699716\r\n",
       "\r\n",
       "Fix requests granted:           0\r\n",
       "Action transitions:             66186\r\n",
       "Communication transitions:      14757\r\n",
       "Communication requests tested:  0\r\n",
       "Delay transitions:              1342\r\n",
       "\r\n",
       "Delay requests granted:         1998\r\n",
       "\r\n",
       "Garbage collection cleanup cycles: 13327\r\n",
       "Number of reclaimed objects:       0\r\n",
       "\r\n",
       "Virtual machine cycles: 8320931\r\n",
       "\r\n",
       "</pre>"
      ],
      "text/plain": [
       "<IPython.core.display.HTML object>"
      ]
     },
     "metadata": {},
     "output_type": "display_data"
    },
    {
     "data": {
      "text/html": [
       "<pre style=\"color:blue\">An exception occurred during run.\r\n",
       "Latency is diverging. Throughput constraint is not met.\r\n",
       "\r\n",
       "\r\n",
       "\r\n",
       "Real time:       2.209\r\n",
       "Steps:           144978\r\n",
       "Simulated time:  0.120601\r\n",
       "\r\n",
       "Fix requests granted:           0\r\n",
       "Action transitions:             114857\r\n",
       "Communication transitions:      27721\r\n",
       "Communication requests tested:  0\r\n",
       "Delay transitions:              2400\r\n",
       "\r\n",
       "Delay requests granted:         3754\r\n",
       "\r\n",
       "Garbage collection cleanup cycles: 27372\r\n",
       "Number of reclaimed objects:       353\r\n",
       "\r\n",
       "Virtual machine cycles: 24976910\r\n",
       "\r\n",
       "</pre>"
      ],
      "text/plain": [
       "<IPython.core.display.HTML object>"
      ]
     },
     "metadata": {},
     "output_type": "display_data"
    },
    {
     "name": "stdout",
     "output_type": "stream",
     "text": [
      "Now simulating :  NodeProcessorType1 : \"Adreno\" NodeProcessorType2 : \"Adreno\" NodeProcessorType3 : \"Adreno\" NodeProcessorType4 : \"Adreno\" NodeProcessorType5 : \"Adreno\" NodeProcessorType6 : \"ARMv8\" VSF1 : 1.0 VSF2 : 1.0 VSF3 : 0.6666666666666666 VSF4 : 0.6666666666666666 VSF5 : 0.6666666666666666 VSF6 : 0.25 OSPolicy1 : \"PB\" OSPolicy2 : \"FCFS\" OSPolicy3 : \"PB\" OSPolicy4 : \"FCFS\" OSPolicy5 : \"PB\" OSPolicy6 : \"FCFS\"\n",
      "items left : 56 ,time last sim :  37.15 sec ,est time rem : 2080.257598876953 sec\n"
     ]
    },
    {
     "data": {
      "text/html": [
       "<pre style=\"color:blue\">An exception occurred during run.\r\n",
       "Latency is diverging. Throughput constraint is not met.\r\n",
       "\r\n",
       "\r\n",
       "\r\n",
       "Real time:       2.411\r\n",
       "Steps:           210262\r\n",
       "Simulated time:  0.185047\r\n",
       "\r\n",
       "Fix requests granted:           0\r\n",
       "Action transitions:             160183\r\n",
       "Communication transitions:      46135\r\n",
       "Communication requests tested:  0\r\n",
       "Delay transitions:              3944\r\n",
       "\r\n",
       "Delay requests granted:         6207\r\n",
       "\r\n",
       "Garbage collection cleanup cycles: 30129\r\n",
       "Number of reclaimed objects:       717\r\n",
       "\r\n",
       "Virtual machine cycles: 31183991\r\n",
       "\r\n",
       "</pre>"
      ],
      "text/plain": [
       "<IPython.core.display.HTML object>"
      ]
     },
     "metadata": {},
     "output_type": "display_data"
    },
    {
     "data": {
      "text/html": [
       "<pre style=\"color:blue\">An exception occurred during run.\r\n",
       "Latency is diverging. Throughput constraint is not met.\r\n",
       "\r\n",
       "\r\n",
       "\r\n",
       "Real time:       2.445\r\n",
       "Steps:           207714\r\n",
       "Simulated time:  0.182066\r\n",
       "\r\n",
       "Fix requests granted:           0\r\n",
       "Action transitions:             158384\r\n",
       "Communication transitions:      45435\r\n",
       "Communication requests tested:  0\r\n",
       "Delay transitions:              3895\r\n",
       "\r\n",
       "Delay requests granted:         6123\r\n",
       "\r\n",
       "Garbage collection cleanup cycles: 29813\r\n",
       "Number of reclaimed objects:       493\r\n",
       "\r\n",
       "Virtual machine cycles: 30543009\r\n",
       "\r\n",
       "</pre>"
      ],
      "text/plain": [
       "<IPython.core.display.HTML object>"
      ]
     },
     "metadata": {},
     "output_type": "display_data"
    },
    {
     "data": {
      "text/html": [
       "<pre style=\"color:blue\">An exception occurred during run.\r\n",
       "Latency is diverging. Throughput constraint is not met.\r\n",
       "\r\n",
       "\r\n",
       "\r\n",
       "Real time:       2.77\r\n",
       "Steps:           219345\r\n",
       "Simulated time:  0.196622\r\n",
       "\r\n",
       "Fix requests granted:           0\r\n",
       "Action transitions:             165963\r\n",
       "Communication transitions:      49192\r\n",
       "Communication requests tested:  0\r\n",
       "Delay transitions:              4190\r\n",
       "\r\n",
       "Delay requests granted:         6617\r\n",
       "\r\n",
       "Garbage collection cleanup cycles: 29223\r\n",
       "Number of reclaimed objects:       4746\r\n",
       "\r\n",
       "Virtual machine cycles: 32303929\r\n",
       "\r\n",
       "</pre>"
      ],
      "text/plain": [
       "<IPython.core.display.HTML object>"
      ]
     },
     "metadata": {},
     "output_type": "display_data"
    },
    {
     "data": {
      "text/html": [
       "<pre style=\"color:blue\">Real Time:           3.746 Steps:          524288 Simulated Time:        0.520733\r\n",
       "Real Time:          11.557 Steps:    2.49037e+006 Simulated Time:         2.71341\r\n",
       "Real Time:          35.051 Steps:    8.38861e+006 Simulated Time:         9.29532\r\n",
       "Real Time:          46.236 Steps:    1.12722e+007 Simulated Time:          12.509\r\n",
       "Real Time:          58.024 Steps:    1.42868e+007 Simulated Time:         15.8749\r\n",
       "Real Time:          67.656 Steps:    1.67775e+007 Simulated Time:         18.6472\r\n",
       "\r\n",
       "\r\n",
       "Real time:       68.216\r\n",
       "Steps:           16815527\r\n",
       "Simulated time:  18.69\r\n",
       "\r\n",
       "Fix requests granted:           0\r\n",
       "Action transitions:             11353427\r\n",
       "Communication transitions:      5010418\r\n",
       "Communication requests tested:  0\r\n",
       "Delay transitions:              451682\r\n",
       "\r\n",
       "Delay requests granted:         668658\r\n",
       "\r\n",
       "Garbage collection cleanup cycles: 31254\r\n",
       "Number of reclaimed objects:       12786\r\n",
       "\r\n",
       "Virtual machine cycles: 1357851957\r\n",
       "\r\n",
       "</pre>"
      ],
      "text/plain": [
       "<IPython.core.display.HTML object>"
      ]
     },
     "metadata": {},
     "output_type": "display_data"
    },
    {
     "data": {
      "text/html": [
       "<pre style=\"color:red\">All registered observers are activated. Caused by completion observer (MemoryBufferNode4)\r\n",
       "</pre>"
      ],
      "text/plain": [
       "<IPython.core.display.HTML object>"
      ]
     },
     "metadata": {},
     "output_type": "display_data"
    },
    {
     "name": "stdout",
     "output_type": "stream",
     "text": [
      "Now simulating :  NodeProcessorType1 : \"Adreno\" NodeProcessorType2 : \"Adreno\" NodeProcessorType3 : \"Adreno\" NodeProcessorType4 : \"Adreno\" NodeProcessorType5 : \"Adreno\" NodeProcessorType6 : \"ARMv8\" VSF1 : 1.0 VSF2 : 1.0 VSF3 : 0.6666666666666666 VSF4 : 0.6666666666666666 VSF5 : 0.6666666666666666 VSF6 : 0.25 OSPolicy1 : \"PB\" OSPolicy2 : \"FCFS\" OSPolicy3 : \"PB\" OSPolicy4 : \"FCFS\" OSPolicy5 : \"FCFS\" OSPolicy6 : \"PB\"\n",
      "items left : 50 ,time last sim :  80.44 sec ,est time rem : 4022.0613718032837 sec\n"
     ]
    },
    {
     "data": {
      "text/html": [
       "<pre style=\"color:blue\">An exception occurred during run.\r\n",
       "Latency is diverging. Throughput constraint is not met.\r\n",
       "\r\n",
       "\r\n",
       "\r\n",
       "Real time:       2.949\r\n",
       "Steps:           261192\r\n",
       "Simulated time:  0.242005\r\n",
       "\r\n",
       "Fix requests granted:           0\r\n",
       "Action transitions:             194493\r\n",
       "Communication transitions:      61162\r\n",
       "Communication requests tested:  0\r\n",
       "Delay transitions:              5537\r\n",
       "\r\n",
       "Delay requests granted:         8237\r\n",
       "\r\n",
       "Garbage collection cleanup cycles: 29955\r\n",
       "Number of reclaimed objects:       1943\r\n",
       "\r\n",
       "Virtual machine cycles: 35399184\r\n",
       "\r\n",
       "</pre>"
      ],
      "text/plain": [
       "<IPython.core.display.HTML object>"
      ]
     },
     "metadata": {},
     "output_type": "display_data"
    },
    {
     "data": {
      "text/html": [
       "<pre style=\"color:blue\">An exception occurred during run.\r\n",
       "Latency is diverging. Throughput constraint is not met.\r\n",
       "\r\n",
       "\r\n",
       "\r\n",
       "Real time:       2.418\r\n",
       "Steps:           139829\r\n",
       "Simulated time:  0.110293\r\n",
       "\r\n",
       "Fix requests granted:           0\r\n",
       "Action transitions:             111510\r\n",
       "Communication transitions:      26000\r\n",
       "Communication requests tested:  0\r\n",
       "Delay transitions:              2319\r\n",
       "\r\n",
       "Delay requests granted:         3511\r\n",
       "\r\n",
       "Garbage collection cleanup cycles: 27477\r\n",
       "Number of reclaimed objects:       9198\r\n",
       "\r\n",
       "Virtual machine cycles: 28924371\r\n",
       "\r\n",
       "</pre>"
      ],
      "text/plain": [
       "<IPython.core.display.HTML object>"
      ]
     },
     "metadata": {},
     "output_type": "display_data"
    },
    {
     "data": {
      "text/html": [
       "<pre style=\"color:blue\">An exception occurred during run.\r\n",
       "Latency is diverging. Throughput constraint is not met.\r\n",
       "\r\n",
       "\r\n",
       "\r\n",
       "Real time:       2.345\r\n",
       "Steps:           151494\r\n",
       "Simulated time:  0.126275\r\n",
       "\r\n",
       "Fix requests granted:           0\r\n",
       "Action transitions:             119216\r\n",
       "Communication transitions:      29694\r\n",
       "Communication requests tested:  0\r\n",
       "Delay transitions:              2584\r\n",
       "\r\n",
       "Delay requests granted:         4011\r\n",
       "\r\n",
       "Garbage collection cleanup cycles: 26961\r\n",
       "Number of reclaimed objects:       1165\r\n",
       "\r\n",
       "Virtual machine cycles: 25936510\r\n",
       "\r\n",
       "</pre>"
      ],
      "text/plain": [
       "<IPython.core.display.HTML object>"
      ]
     },
     "metadata": {},
     "output_type": "display_data"
    },
    {
     "data": {
      "text/html": [
       "<pre style=\"color:blue\">An exception occurred during run.\r\n",
       "Latency is diverging. Throughput constraint is not met.\r\n",
       "\r\n",
       "\r\n",
       "\r\n",
       "Real time:       2.42\r\n",
       "Steps:           172092\r\n",
       "Simulated time:  0.146192\r\n",
       "\r\n",
       "Fix requests granted:           0\r\n",
       "Action transitions:             133507\r\n",
       "Communication transitions:      35291\r\n",
       "Communication requests tested:  0\r\n",
       "Delay transitions:              3294\r\n",
       "\r\n",
       "Delay requests granted:         4738\r\n",
       "\r\n",
       "Garbage collection cleanup cycles: 28260\r\n",
       "Number of reclaimed objects:       1780\r\n",
       "\r\n",
       "Virtual machine cycles: 29848706\r\n",
       "\r\n",
       "</pre>"
      ],
      "text/plain": [
       "<IPython.core.display.HTML object>"
      ]
     },
     "metadata": {},
     "output_type": "display_data"
    },
    {
     "data": {
      "text/html": [
       "<pre style=\"color:blue\">An exception occurred during run.\r\n",
       "Latency is diverging. Throughput constraint is not met.\r\n",
       "\r\n",
       "\r\n",
       "\r\n",
       "Real time:       2.342\r\n",
       "Steps:           165838\r\n",
       "Simulated time:  0.140035\r\n",
       "\r\n",
       "Fix requests granted:           0\r\n",
       "Action transitions:             129092\r\n",
       "Communication transitions:      33609\r\n",
       "Communication requests tested:  0\r\n",
       "Delay transitions:              3137\r\n",
       "\r\n",
       "Delay requests granted:         4520\r\n",
       "\r\n",
       "Garbage collection cleanup cycles: 27680\r\n",
       "Number of reclaimed objects:       840\r\n",
       "\r\n",
       "Virtual machine cycles: 26904387\r\n",
       "\r\n",
       "</pre>"
      ],
      "text/plain": [
       "<IPython.core.display.HTML object>"
      ]
     },
     "metadata": {},
     "output_type": "display_data"
    },
    {
     "data": {
      "text/html": [
       "<pre style=\"color:blue\">An exception occurred during run.\r\n",
       "Latency is diverging. Throughput constraint is not met.\r\n",
       "\r\n",
       "\r\n",
       "\r\n",
       "Real time:       2.454\r\n",
       "Steps:           174145\r\n",
       "Simulated time:  0.148294\r\n",
       "\r\n",
       "Fix requests granted:           0\r\n",
       "Action transitions:             134933\r\n",
       "Communication transitions:      35860\r\n",
       "Communication requests tested:  0\r\n",
       "Delay transitions:              3352\r\n",
       "\r\n",
       "Delay requests granted:         4815\r\n",
       "\r\n",
       "Garbage collection cleanup cycles: 28228\r\n",
       "Number of reclaimed objects:       6559\r\n",
       "\r\n",
       "Virtual machine cycles: 30107082\r\n",
       "\r\n",
       "</pre>"
      ],
      "text/plain": [
       "<IPython.core.display.HTML object>"
      ]
     },
     "metadata": {},
     "output_type": "display_data"
    },
    {
     "data": {
      "text/html": [
       "<pre style=\"color:blue\">An exception occurred during run.\r\n",
       "Latency is diverging. Throughput constraint is not met.\r\n",
       "\r\n",
       "\r\n",
       "\r\n",
       "Real time:       2.24\r\n",
       "Steps:           173636\r\n",
       "Simulated time:  0.148014\r\n",
       "\r\n",
       "Fix requests granted:           0\r\n",
       "Action transitions:             134349\r\n",
       "Communication transitions:      35924\r\n",
       "Communication requests tested:  0\r\n",
       "Delay transitions:              3363\r\n",
       "\r\n",
       "Delay requests granted:         4828\r\n",
       "\r\n",
       "Garbage collection cleanup cycles: 27790\r\n",
       "Number of reclaimed objects:       0\r\n",
       "\r\n",
       "Virtual machine cycles: 27111813\r\n",
       "\r\n",
       "</pre>"
      ],
      "text/plain": [
       "<IPython.core.display.HTML object>"
      ]
     },
     "metadata": {},
     "output_type": "display_data"
    },
    {
     "data": {
      "text/html": [
       "<pre style=\"color:blue\">An exception occurred during run.\r\n",
       "Latency is diverging. Throughput constraint is not met.\r\n",
       "\r\n",
       "\r\n",
       "\r\n",
       "Real time:       1.295\r\n",
       "Steps:           91094\r\n",
       "Simulated time:  0.0761353\r\n",
       "\r\n",
       "Fix requests granted:           0\r\n",
       "Action transitions:             73215\r\n",
       "Communication transitions:      16327\r\n",
       "Communication requests tested:  0\r\n",
       "Delay transitions:              1552\r\n",
       "\r\n",
       "Delay requests granted:         2213\r\n",
       "\r\n",
       "Garbage collection cleanup cycles: 15015\r\n",
       "Number of reclaimed objects:       0\r\n",
       "\r\n",
       "Virtual machine cycles: 8349270\r\n",
       "\r\n",
       "</pre>"
      ],
      "text/plain": [
       "<IPython.core.display.HTML object>"
      ]
     },
     "metadata": {},
     "output_type": "display_data"
    },
    {
     "data": {
      "text/html": [
       "<pre style=\"color:blue\">An exception occurred during run.\r\n",
       "Latency is diverging. Throughput constraint is not met.\r\n",
       "\r\n",
       "\r\n",
       "\r\n",
       "Real time:       1.339\r\n",
       "Steps:           103609\r\n",
       "Simulated time:  0.0841783\r\n",
       "\r\n",
       "Fix requests granted:           0\r\n",
       "Action transitions:             83379\r\n",
       "Communication transitions:      18596\r\n",
       "Communication requests tested:  0\r\n",
       "Delay transitions:              1634\r\n",
       "\r\n",
       "Delay requests granted:         2512\r\n",
       "\r\n",
       "Garbage collection cleanup cycles: 18777\r\n",
       "Number of reclaimed objects:       0\r\n",
       "\r\n",
       "Virtual machine cycles: 9387289\r\n",
       "\r\n",
       "</pre>"
      ],
      "text/plain": [
       "<IPython.core.display.HTML object>"
      ]
     },
     "metadata": {},
     "output_type": "display_data"
    },
    {
     "data": {
      "text/html": [
       "<pre style=\"color:blue\">An exception occurred during run.\r\n",
       "Latency is diverging. Throughput constraint is not met.\r\n",
       "\r\n",
       "\r\n",
       "\r\n",
       "Real time:       2.522\r\n",
       "Steps:           168853\r\n",
       "Simulated time:  0.142036\r\n",
       "\r\n",
       "Fix requests granted:           0\r\n",
       "Action transitions:             131556\r\n",
       "Communication transitions:      34274\r\n",
       "Communication requests tested:  0\r\n",
       "Delay transitions:              3023\r\n",
       "\r\n",
       "Delay requests granted:         4624\r\n",
       "\r\n",
       "Garbage collection cleanup cycles: 27429\r\n",
       "Number of reclaimed objects:       563\r\n",
       "\r\n",
       "Virtual machine cycles: 28085361\r\n",
       "\r\n",
       "</pre>"
      ],
      "text/plain": [
       "<IPython.core.display.HTML object>"
      ]
     },
     "metadata": {},
     "output_type": "display_data"
    },
    {
     "data": {
      "text/html": [
       "<pre style=\"color:blue\">An exception occurred during run.\r\n",
       "Latency is diverging. Throughput constraint is not met.\r\n",
       "\r\n",
       "\r\n",
       "\r\n",
       "Real time:       1.458\r\n",
       "Steps:           120624\r\n",
       "Simulated time:  0.0941975\r\n",
       "\r\n",
       "Fix requests granted:           0\r\n",
       "Action transitions:             97057\r\n",
       "Communication transitions:      21611\r\n",
       "Communication requests tested:  0\r\n",
       "Delay transitions:              1956\r\n",
       "\r\n",
       "Delay requests granted:         2935\r\n",
       "\r\n",
       "Garbage collection cleanup cycles: 23420\r\n",
       "Number of reclaimed objects:       0\r\n",
       "\r\n",
       "Virtual machine cycles: 10625733\r\n",
       "\r\n",
       "</pre>"
      ],
      "text/plain": [
       "<IPython.core.display.HTML object>"
      ]
     },
     "metadata": {},
     "output_type": "display_data"
    },
    {
     "name": "stdout",
     "output_type": "stream",
     "text": [
      "Now simulating :  NodeProcessorType1 : \"Adreno\" NodeProcessorType2 : \"Adreno\" NodeProcessorType3 : \"Adreno\" NodeProcessorType4 : \"Adreno\" NodeProcessorType5 : \"Adreno\" NodeProcessorType6 : \"ARMv8\" VSF1 : 1.0 VSF2 : 1.0 VSF3 : 0.6666666666666666 VSF4 : 0.6666666666666666 VSF5 : 1.0 VSF6 : 0.25 OSPolicy1 : \"PB\" OSPolicy2 : \"FCFS\" OSPolicy3 : \"PB\" OSPolicy4 : \"FCFS\" OSPolicy5 : \"PB\" OSPolicy6 : \"FCFS\"\n",
      "items left : 48 ,time last sim :  30.99 sec ,est time rem : 1487.3093490600586 sec\n"
     ]
    },
    {
     "data": {
      "text/html": [
       "<pre style=\"color:blue\">Real Time:           4.682 Steps:          786432 Simulated Time:        0.787812\r\n",
       "Real Time:          31.832 Steps:    7.99539e+006 Simulated Time:         8.62025\r\n",
       "Real Time:          33.507 Steps:    8.38861e+006 Simulated Time:         9.04821\r\n",
       "Real Time:            35.7 Steps:     8.9129e+006 Simulated Time:         9.61821\r\n",
       "Real Time:           58.42 Steps:    1.52044e+007 Simulated Time:         16.4526\r\n",
       "Real Time:           63.86 Steps:    1.67775e+007 Simulated Time:         18.1547\r\n",
       "Real Time:          66.762 Steps:    1.75636e+007 Simulated Time:           19.01\r\n",
       "Real Time:          73.464 Steps:    1.92676e+007 Simulated Time:         20.8627\r\n",
       "\r\n",
       "\r\n",
       "Real time:       91.568\r\n",
       "Steps:           23858289\r\n",
       "Simulated time:  25.86\r\n",
       "\r\n",
       "Fix requests granted:           0\r\n",
       "Action transitions:             16143310\r\n",
       "Communication transitions:      7054202\r\n",
       "Communication requests tested:  0\r\n",
       "Delay transitions:              660777\r\n",
       "\r\n",
       "Delay requests granted:         945657\r\n",
       "\r\n",
       "Garbage collection cleanup cycles: 32864\r\n",
       "Number of reclaimed objects:       17798\r\n",
       "\r\n",
       "Virtual machine cycles: 1850720661\r\n",
       "\r\n",
       "</pre>"
      ],
      "text/plain": [
       "<IPython.core.display.HTML object>"
      ]
     },
     "metadata": {},
     "output_type": "display_data"
    },
    {
     "data": {
      "text/html": [
       "<pre style=\"color:red\">All registered observers are activated. Caused by completion observer (MemoryBufferNode2)\r\n",
       "</pre>"
      ],
      "text/plain": [
       "<IPython.core.display.HTML object>"
      ]
     },
     "metadata": {},
     "output_type": "display_data"
    },
    {
     "name": "stdout",
     "output_type": "stream",
     "text": [
      "Now simulating :  NodeProcessorType1 : \"Adreno\" NodeProcessorType2 : \"Adreno\" NodeProcessorType3 : \"Adreno\" NodeProcessorType4 : \"Adreno\" NodeProcessorType5 : \"Adreno\" NodeProcessorType6 : \"ARMv8\" VSF1 : 1.0 VSF2 : 1.0 VSF3 : 0.6666666666666666 VSF4 : 0.6666666666666666 VSF5 : 1.0 VSF6 : 0.25 OSPolicy1 : \"PB\" OSPolicy2 : \"FCFS\" OSPolicy3 : \"PB\" OSPolicy4 : \"FCFS\" OSPolicy5 : \"PB\" OSPolicy6 : \"PB\"\n",
      "items left : 43 ,time last sim :  94.38 sec ,est time rem : 4058.2146639823914 sec\n"
     ]
    },
    {
     "data": {
      "text/html": [
       "<pre style=\"color:blue\">An exception occurred during run.\r\n",
       "Latency is diverging. Throughput constraint is not met.\r\n",
       "\r\n",
       "\r\n",
       "\r\n",
       "Real time:       2.939\r\n",
       "Steps:           212696\r\n",
       "Simulated time:  0.204045\r\n",
       "\r\n",
       "Fix requests granted:           0\r\n",
       "Action transitions:             160457\r\n",
       "Communication transitions:      48380\r\n",
       "Communication requests tested:  0\r\n",
       "Delay transitions:              3859\r\n",
       "\r\n",
       "Delay requests granted:         6466\r\n",
       "\r\n",
       "Garbage collection cleanup cycles: 27021\r\n",
       "Number of reclaimed objects:       10876\r\n",
       "\r\n",
       "Virtual machine cycles: 33178241\r\n",
       "\r\n",
       "</pre>"
      ],
      "text/plain": [
       "<IPython.core.display.HTML object>"
      ]
     },
     "metadata": {},
     "output_type": "display_data"
    },
    {
     "data": {
      "text/html": [
       "<pre style=\"color:blue\">An exception occurred during run.\r\n",
       "Latency is diverging. Throughput constraint is not met.\r\n",
       "\r\n",
       "\r\n",
       "\r\n",
       "Real time:       2.582\r\n",
       "Steps:           201205\r\n",
       "Simulated time:  0.188068\r\n",
       "\r\n",
       "Fix requests granted:           0\r\n",
       "Action transitions:             152873\r\n",
       "Communication transitions:      44556\r\n",
       "Communication requests tested:  0\r\n",
       "Delay transitions:              3776\r\n",
       "\r\n",
       "Delay requests granted:         5972\r\n",
       "\r\n",
       "Garbage collection cleanup cycles: 26940\r\n",
       "Number of reclaimed objects:       1277\r\n",
       "\r\n",
       "Virtual machine cycles: 28056985\r\n",
       "\r\n",
       "</pre>"
      ],
      "text/plain": [
       "<IPython.core.display.HTML object>"
      ]
     },
     "metadata": {},
     "output_type": "display_data"
    },
    {
     "data": {
      "text/html": [
       "<pre style=\"color:blue\">An exception occurred during run.\r\n",
       "Latency is diverging. Throughput constraint is not met.\r\n",
       "\r\n",
       "\r\n",
       "\r\n",
       "Real time:       2.545\r\n",
       "Steps:           192476\r\n",
       "Simulated time:  0.180167\r\n",
       "\r\n",
       "Fix requests granted:           0\r\n",
       "Action transitions:             146695\r\n",
       "Communication transitions:      42216\r\n",
       "Communication requests tested:  0\r\n",
       "Delay transitions:              3565\r\n",
       "\r\n",
       "Delay requests granted:         5652\r\n",
       "\r\n",
       "Garbage collection cleanup cycles: 26318\r\n",
       "Number of reclaimed objects:       2378\r\n",
       "\r\n",
       "Virtual machine cycles: 27807702\r\n",
       "\r\n",
       "</pre>"
      ],
      "text/plain": [
       "<IPython.core.display.HTML object>"
      ]
     },
     "metadata": {},
     "output_type": "display_data"
    },
    {
     "data": {
      "text/html": [
       "<pre style=\"color:blue\">An exception occurred during run.\r\n",
       "Latency is diverging. Throughput constraint is not met.\r\n",
       "\r\n",
       "\r\n",
       "\r\n",
       "Real time:       2.432\r\n",
       "Steps:           192990\r\n",
       "Simulated time:  0.180281\r\n",
       "\r\n",
       "Fix requests granted:           0\r\n",
       "Action transitions:             147115\r\n",
       "Communication transitions:      42309\r\n",
       "Communication requests tested:  0\r\n",
       "Delay transitions:              3566\r\n",
       "\r\n",
       "Delay requests granted:         5675\r\n",
       "\r\n",
       "Garbage collection cleanup cycles: 26632\r\n",
       "Number of reclaimed objects:       1836\r\n",
       "\r\n",
       "Virtual machine cycles: 27655927\r\n",
       "\r\n",
       "</pre>"
      ],
      "text/plain": [
       "<IPython.core.display.HTML object>"
      ]
     },
     "metadata": {},
     "output_type": "display_data"
    },
    {
     "data": {
      "text/html": [
       "<pre style=\"color:blue\">An exception occurred during run.\r\n",
       "Latency is diverging. Throughput constraint is not met.\r\n",
       "\r\n",
       "\r\n",
       "\r\n",
       "Real time:       2.105\r\n",
       "Steps:           151350\r\n",
       "Simulated time:  0.13639\r\n",
       "\r\n",
       "Fix requests granted:           0\r\n",
       "Action transitions:             118365\r\n",
       "Communication transitions:      30459\r\n",
       "Communication requests tested:  0\r\n",
       "Delay transitions:              2526\r\n",
       "\r\n",
       "Delay requests granted:         4078\r\n",
       "\r\n",
       "Garbage collection cleanup cycles: 26206\r\n",
       "Number of reclaimed objects:       1547\r\n",
       "\r\n",
       "Virtual machine cycles: 25044132\r\n",
       "\r\n",
       "</pre>"
      ],
      "text/plain": [
       "<IPython.core.display.HTML object>"
      ]
     },
     "metadata": {},
     "output_type": "display_data"
    },
    {
     "data": {
      "text/html": [
       "<pre style=\"color:blue\">An exception occurred during run.\r\n",
       "Latency is diverging. Throughput constraint is not met.\r\n",
       "\r\n",
       "\r\n",
       "\r\n",
       "Real time:       2.254\r\n",
       "Steps:           194963\r\n",
       "Simulated time:  0.180154\r\n",
       "\r\n",
       "Fix requests granted:           0\r\n",
       "Action transitions:             148615\r\n",
       "Communication transitions:      42761\r\n",
       "Communication requests tested:  0\r\n",
       "Delay transitions:              3587\r\n",
       "\r\n",
       "Delay requests granted:         5728\r\n",
       "\r\n",
       "Garbage collection cleanup cycles: 27294\r\n",
       "Number of reclaimed objects:       1355\r\n",
       "\r\n",
       "Virtual machine cycles: 29023666\r\n",
       "\r\n",
       "</pre>"
      ],
      "text/plain": [
       "<IPython.core.display.HTML object>"
      ]
     },
     "metadata": {},
     "output_type": "display_data"
    },
    {
     "data": {
      "text/html": [
       "<pre style=\"color:blue\">An exception occurred during run.\r\n",
       "Latency is diverging. Throughput constraint is not met.\r\n",
       "\r\n",
       "\r\n",
       "\r\n",
       "Real time:       2.132\r\n",
       "Steps:           143954\r\n",
       "Simulated time:  0.124065\r\n",
       "\r\n",
       "Fix requests granted:           0\r\n",
       "Action transitions:             113596\r\n",
       "Communication transitions:      28041\r\n",
       "Communication requests tested:  0\r\n",
       "Delay transitions:              2317\r\n",
       "\r\n",
       "Delay requests granted:         3764\r\n",
       "\r\n",
       "Garbage collection cleanup cycles: 26267\r\n",
       "Number of reclaimed objects:       429\r\n",
       "\r\n",
       "Virtual machine cycles: 23494274\r\n",
       "\r\n",
       "</pre>"
      ],
      "text/plain": [
       "<IPython.core.display.HTML object>"
      ]
     },
     "metadata": {},
     "output_type": "display_data"
    },
    {
     "data": {
      "text/html": [
       "<pre style=\"color:blue\">An exception occurred during run.\r\n",
       "Latency is diverging. Throughput constraint is not met.\r\n",
       "\r\n",
       "\r\n",
       "\r\n",
       "Real time:       1.114\r\n",
       "Steps:           77632\r\n",
       "Simulated time:  0.0703885\r\n",
       "\r\n",
       "Fix requests granted:           0\r\n",
       "Action transitions:             62413\r\n",
       "Communication transitions:      14044\r\n",
       "Communication requests tested:  0\r\n",
       "Delay transitions:              1175\r\n",
       "\r\n",
       "Delay requests granted:         1892\r\n",
       "\r\n",
       "Garbage collection cleanup cycles: 12058\r\n",
       "Number of reclaimed objects:       0\r\n",
       "\r\n",
       "Virtual machine cycles: 6831760\r\n",
       "\r\n",
       "</pre>"
      ],
      "text/plain": [
       "<IPython.core.display.HTML object>"
      ]
     },
     "metadata": {},
     "output_type": "display_data"
    },
    {
     "data": {
      "text/html": [
       "<pre style=\"color:blue\">An exception occurred during run.\r\n",
       "Latency is diverging. Throughput constraint is not met.\r\n",
       "\r\n",
       "\r\n",
       "\r\n",
       "Real time:       1.594\r\n",
       "Steps:           115879\r\n",
       "Simulated time:  0.0981336\r\n",
       "\r\n",
       "Fix requests granted:           0\r\n",
       "Action transitions:             93154\r\n",
       "Communication transitions:      21017\r\n",
       "Communication requests tested:  0\r\n",
       "Delay transitions:              1708\r\n",
       "\r\n",
       "Delay requests granted:         2823\r\n",
       "\r\n",
       "Garbage collection cleanup cycles: 23757\r\n",
       "Number of reclaimed objects:       0\r\n",
       "\r\n",
       "Virtual machine cycles: 10544991\r\n",
       "\r\n",
       "</pre>"
      ],
      "text/plain": [
       "<IPython.core.display.HTML object>"
      ]
     },
     "metadata": {},
     "output_type": "display_data"
    },
    {
     "data": {
      "text/html": [
       "<pre style=\"color:blue\">An exception occurred during run.\r\n",
       "Latency is diverging. Throughput constraint is not met.\r\n",
       "\r\n",
       "\r\n",
       "\r\n",
       "Real time:       3.51\r\n",
       "Steps:           351193\r\n",
       "Simulated time:  0.34022\r\n",
       "\r\n",
       "Fix requests granted:           0\r\n",
       "Action transitions:             255254\r\n",
       "Communication transitions:      88202\r\n",
       "Communication requests tested:  0\r\n",
       "Delay transitions:              7737\r\n",
       "\r\n",
       "Delay requests granted:         11869\r\n",
       "\r\n",
       "Garbage collection cleanup cycles: 29259\r\n",
       "Number of reclaimed objects:       14588\r\n",
       "\r\n",
       "Virtual machine cycles: 49350225\r\n",
       "\r\n",
       "</pre>"
      ],
      "text/plain": [
       "<IPython.core.display.HTML object>"
      ]
     },
     "metadata": {},
     "output_type": "display_data"
    },
    {
     "data": {
      "text/html": [
       "<pre style=\"color:blue\">An exception occurred during run.\r\n",
       "Latency is diverging. Throughput constraint is not met.\r\n",
       "\r\n",
       "\r\n",
       "\r\n",
       "Real time:       2.183\r\n",
       "Steps:           191204\r\n",
       "Simulated time:  0.172261\r\n",
       "\r\n",
       "Fix requests granted:           0\r\n",
       "Action transitions:             146646\r\n",
       "Communication transitions:      41076\r\n",
       "Communication requests tested:  0\r\n",
       "Delay transitions:              3482\r\n",
       "\r\n",
       "Delay requests granted:         5521\r\n",
       "\r\n",
       "Garbage collection cleanup cycles: 27647\r\n",
       "Number of reclaimed objects:       0\r\n",
       "\r\n",
       "Virtual machine cycles: 28016095\r\n",
       "\r\n",
       "</pre>"
      ],
      "text/plain": [
       "<IPython.core.display.HTML object>"
      ]
     },
     "metadata": {},
     "output_type": "display_data"
    },
    {
     "name": "stdout",
     "output_type": "stream",
     "text": [
      "Now simulating :  NodeProcessorType1 : \"Adreno\" NodeProcessorType2 : \"Adreno\" NodeProcessorType3 : \"Adreno\" NodeProcessorType4 : \"MIPS\" NodeProcessorType5 : \"Adreno\" NodeProcessorType6 : \"ARMv8\" VSF1 : 1.0 VSF2 : 1.0 VSF3 : 0.6666666666666666 VSF4 : 0.6666666666666666 VSF5 : 0.6666666666666666 VSF6 : 0.25 OSPolicy1 : \"PB\" OSPolicy2 : \"FCFS\" OSPolicy3 : \"PB\" OSPolicy4 : \"FCFS\" OSPolicy5 : \"PB\" OSPolicy6 : \"FCFS\"\n",
      "items left : 41 ,time last sim :  33.61 sec ,est time rem : 1377.8240916728973 sec\n"
     ]
    },
    {
     "data": {
      "text/html": [
       "<pre style=\"color:blue\">An exception occurred during run.\r\n",
       "Latency is diverging. Throughput constraint is not met.\r\n",
       "\r\n",
       "\r\n",
       "\r\n",
       "Real time:       0.807\r\n",
       "Steps:           58771\r\n",
       "Simulated time:  0.054193\r\n",
       "\r\n",
       "Fix requests granted:           0\r\n",
       "Action transitions:             47254\r\n",
       "Communication transitions:      10563\r\n",
       "Communication requests tested:  0\r\n",
       "Delay transitions:              954\r\n",
       "\r\n",
       "Delay requests granted:         1426\r\n",
       "\r\n",
       "Garbage collection cleanup cycles: 7556\r\n",
       "Number of reclaimed objects:       0\r\n",
       "\r\n",
       "Virtual machine cycles: 5389563\r\n",
       "\r\n",
       "</pre>"
      ],
      "text/plain": [
       "<IPython.core.display.HTML object>"
      ]
     },
     "metadata": {},
     "output_type": "display_data"
    },
    {
     "data": {
      "text/html": [
       "<pre style=\"color:blue\">An exception occurred during run.\r\n",
       "Latency is diverging. Throughput constraint is not met.\r\n",
       "\r\n",
       "\r\n",
       "\r\n",
       "Real time:       2.4\r\n",
       "Steps:           197931\r\n",
       "Simulated time:  0.17452\r\n",
       "\r\n",
       "Fix requests granted:           0\r\n",
       "Action transitions:             151385\r\n",
       "Communication transitions:      42599\r\n",
       "Communication requests tested:  0\r\n",
       "Delay transitions:              3947\r\n",
       "\r\n",
       "Delay requests granted:         5736\r\n",
       "\r\n",
       "Garbage collection cleanup cycles: 27758\r\n",
       "Number of reclaimed objects:       2326\r\n",
       "\r\n",
       "Virtual machine cycles: 30338852\r\n",
       "\r\n",
       "</pre>"
      ],
      "text/plain": [
       "<IPython.core.display.HTML object>"
      ]
     },
     "metadata": {},
     "output_type": "display_data"
    },
    {
     "data": {
      "text/html": [
       "<pre style=\"color:blue\">An exception occurred during run.\r\n",
       "Latency is diverging. Throughput constraint is not met.\r\n",
       "\r\n",
       "\r\n",
       "\r\n",
       "Real time:       3.103\r\n",
       "Steps:           292614\r\n",
       "Simulated time:  0.270395\r\n",
       "\r\n",
       "Fix requests granted:           0\r\n",
       "Action transitions:             216543\r\n",
       "Communication transitions:      69623\r\n",
       "Communication requests tested:  0\r\n",
       "Delay transitions:              6448\r\n",
       "\r\n",
       "Delay requests granted:         9386\r\n",
       "\r\n",
       "Garbage collection cleanup cycles: 30533\r\n",
       "Number of reclaimed objects:       3970\r\n",
       "\r\n",
       "Virtual machine cycles: 39051602\r\n",
       "\r\n",
       "</pre>"
      ],
      "text/plain": [
       "<IPython.core.display.HTML object>"
      ]
     },
     "metadata": {},
     "output_type": "display_data"
    },
    {
     "data": {
      "text/html": [
       "<pre style=\"color:blue\">An exception occurred during run.\r\n",
       "Latency is diverging. Throughput constraint is not met.\r\n",
       "\r\n",
       "\r\n",
       "\r\n",
       "Real time:       2.253\r\n",
       "Steps:           163211\r\n",
       "Simulated time:  0.14054\r\n",
       "\r\n",
       "Fix requests granted:           0\r\n",
       "Action transitions:             127089\r\n",
       "Communication transitions:      33057\r\n",
       "Communication requests tested:  0\r\n",
       "Delay transitions:              3065\r\n",
       "\r\n",
       "Delay requests granted:         4457\r\n",
       "\r\n",
       "Garbage collection cleanup cycles: 26116\r\n",
       "Number of reclaimed objects:       2158\r\n",
       "\r\n",
       "Virtual machine cycles: 27022424\r\n",
       "\r\n",
       "</pre>"
      ],
      "text/plain": [
       "<IPython.core.display.HTML object>"
      ]
     },
     "metadata": {},
     "output_type": "display_data"
    },
    {
     "data": {
      "text/html": [
       "<pre style=\"color:blue\">An exception occurred during run.\r\n",
       "Latency is diverging. Throughput constraint is not met.\r\n",
       "\r\n",
       "\r\n",
       "\r\n",
       "Real time:       2.399\r\n",
       "Steps:           192838\r\n",
       "Simulated time:  0.166871\r\n",
       "\r\n",
       "Fix requests granted:           0\r\n",
       "Action transitions:             147937\r\n",
       "Communication transitions:      41188\r\n",
       "Communication requests tested:  0\r\n",
       "Delay transitions:              3713\r\n",
       "\r\n",
       "Delay requests granted:         5543\r\n",
       "\r\n",
       "Garbage collection cleanup cycles: 29096\r\n",
       "Number of reclaimed objects:       368\r\n",
       "\r\n",
       "Virtual machine cycles: 30602665\r\n",
       "\r\n",
       "</pre>"
      ],
      "text/plain": [
       "<IPython.core.display.HTML object>"
      ]
     },
     "metadata": {},
     "output_type": "display_data"
    },
    {
     "data": {
      "text/html": [
       "<pre style=\"color:blue\">An exception occurred during run.\r\n",
       "Latency is diverging. Throughput constraint is not met.\r\n",
       "\r\n",
       "\r\n",
       "\r\n",
       "Real time:       0.821\r\n",
       "Steps:           40350\r\n",
       "Simulated time:  0.0424853\r\n",
       "\r\n",
       "Fix requests granted:           0\r\n",
       "Action transitions:             32503\r\n",
       "Communication transitions:      7240\r\n",
       "Communication requests tested:  0\r\n",
       "Delay transitions:              607\r\n",
       "\r\n",
       "Delay requests granted:         988\r\n",
       "\r\n",
       "Garbage collection cleanup cycles: 4398\r\n",
       "Number of reclaimed objects:       0\r\n",
       "\r\n",
       "Virtual machine cycles: 3830947\r\n",
       "\r\n",
       "</pre>"
      ],
      "text/plain": [
       "<IPython.core.display.HTML object>"
      ]
     },
     "metadata": {},
     "output_type": "display_data"
    },
    {
     "data": {
      "text/html": [
       "<pre style=\"color:blue\">An exception occurred during run.\r\n",
       "Latency is diverging. Throughput constraint is not met.\r\n",
       "\r\n",
       "\r\n",
       "\r\n",
       "Real time:       2.658\r\n",
       "Steps:           222321\r\n",
       "Simulated time:  0.198284\r\n",
       "\r\n",
       "Fix requests granted:           0\r\n",
       "Action transitions:             168304\r\n",
       "Communication transitions:      49457\r\n",
       "Communication requests tested:  0\r\n",
       "Delay transitions:              4560\r\n",
       "\r\n",
       "Delay requests granted:         6663\r\n",
       "\r\n",
       "Garbage collection cleanup cycles: 29074\r\n",
       "Number of reclaimed objects:       2517\r\n",
       "\r\n",
       "Virtual machine cycles: 32532761\r\n",
       "\r\n",
       "</pre>"
      ],
      "text/plain": [
       "<IPython.core.display.HTML object>"
      ]
     },
     "metadata": {},
     "output_type": "display_data"
    },
    {
     "data": {
      "text/html": [
       "<pre style=\"color:blue\">An exception occurred during run.\r\n",
       "Latency is diverging. Throughput constraint is not met.\r\n",
       "\r\n",
       "\r\n",
       "\r\n",
       "Real time:       0.807\r\n",
       "Steps:           56259\r\n",
       "Simulated time:  0.0545717\r\n",
       "\r\n",
       "Fix requests granted:           0\r\n",
       "Action transitions:             45254\r\n",
       "Communication transitions:      10144\r\n",
       "Communication requests tested:  0\r\n",
       "Delay transitions:              861\r\n",
       "\r\n",
       "Delay requests granted:         1367\r\n",
       "\r\n",
       "Garbage collection cleanup cycles: 7398\r\n",
       "Number of reclaimed objects:       0\r\n",
       "\r\n",
       "Virtual machine cycles: 5250045\r\n",
       "\r\n",
       "</pre>"
      ],
      "text/plain": [
       "<IPython.core.display.HTML object>"
      ]
     },
     "metadata": {},
     "output_type": "display_data"
    },
    {
     "data": {
      "text/html": [
       "<pre style=\"color:blue\">An exception occurred during run.\r\n",
       "Latency is diverging. Throughput constraint is not met.\r\n",
       "\r\n",
       "\r\n",
       "\r\n",
       "Real time:       0.846\r\n",
       "Steps:           68453\r\n",
       "Simulated time:  0.0604087\r\n",
       "\r\n",
       "Fix requests granted:           0\r\n",
       "Action transitions:             55042\r\n",
       "Communication transitions:      12337\r\n",
       "Communication requests tested:  0\r\n",
       "Delay transitions:              1074\r\n",
       "\r\n",
       "Delay requests granted:         1685\r\n",
       "\r\n",
       "Garbage collection cleanup cycles: 9962\r\n",
       "Number of reclaimed objects:       0\r\n",
       "\r\n",
       "Virtual machine cycles: 6582591\r\n",
       "\r\n",
       "</pre>"
      ],
      "text/plain": [
       "<IPython.core.display.HTML object>"
      ]
     },
     "metadata": {},
     "output_type": "display_data"
    },
    {
     "data": {
      "text/html": [
       "<pre style=\"color:blue\">An exception occurred during run.\r\n",
       "Latency is diverging. Throughput constraint is not met.\r\n",
       "\r\n",
       "\r\n",
       "\r\n",
       "Real time:       2.665\r\n",
       "Steps:           217190\r\n",
       "Simulated time:  0.196047\r\n",
       "\r\n",
       "Fix requests granted:           0\r\n",
       "Action transitions:             164276\r\n",
       "Communication transitions:      48566\r\n",
       "Communication requests tested:  0\r\n",
       "Delay transitions:              4348\r\n",
       "\r\n",
       "Delay requests granted:         6544\r\n",
       "\r\n",
       "Garbage collection cleanup cycles: 28677\r\n",
       "Number of reclaimed objects:       5770\r\n",
       "\r\n",
       "Virtual machine cycles: 34981554\r\n",
       "\r\n",
       "</pre>"
      ],
      "text/plain": [
       "<IPython.core.display.HTML object>"
      ]
     },
     "metadata": {},
     "output_type": "display_data"
    },
    {
     "data": {
      "text/html": [
       "<pre style=\"color:blue\">An exception occurred during run.\r\n",
       "Latency is diverging. Throughput constraint is not met.\r\n",
       "\r\n",
       "\r\n",
       "\r\n",
       "Real time:       2.351\r\n",
       "Steps:           178973\r\n",
       "Simulated time:  0.15009\r\n",
       "\r\n",
       "Fix requests granted:           0\r\n",
       "Action transitions:             138811\r\n",
       "Communication transitions:      36724\r\n",
       "Communication requests tested:  0\r\n",
       "Delay transitions:              3438\r\n",
       "\r\n",
       "Delay requests granted:         4951\r\n",
       "\r\n",
       "Garbage collection cleanup cycles: 28911\r\n",
       "Number of reclaimed objects:       0\r\n",
       "\r\n",
       "Virtual machine cycles: 27964151\r\n",
       "\r\n",
       "</pre>"
      ],
      "text/plain": [
       "<IPython.core.display.HTML object>"
      ]
     },
     "metadata": {},
     "output_type": "display_data"
    },
    {
     "name": "stdout",
     "output_type": "stream",
     "text": [
      "Now simulating :  NodeProcessorType1 : \"Adreno\" NodeProcessorType2 : \"Adreno\" NodeProcessorType3 : \"Adreno\" NodeProcessorType4 : \"Adreno\" NodeProcessorType5 : \"Adreno\" NodeProcessorType6 : \"MIPS\" VSF1 : 1.0 VSF2 : 1.0 VSF3 : 0.6666666666666666 VSF4 : 0.6666666666666666 VSF5 : 0.6666666666666666 VSF6 : 0.25 OSPolicy1 : \"PB\" OSPolicy2 : \"FCFS\" OSPolicy3 : \"PB\" OSPolicy4 : \"FCFS\" OSPolicy5 : \"PB\" OSPolicy6 : \"FCFS\"\n",
      "items left : 40 ,time last sim :  28.11 sec ,est time rem : 1124.3598651885986 sec\n"
     ]
    },
    {
     "data": {
      "text/html": [
       "<pre style=\"color:blue\">An exception occurred during run.\r\n",
       "Latency is diverging. Throughput constraint is not met.\r\n",
       "\r\n",
       "\r\n",
       "\r\n",
       "Real time:       1.06\r\n",
       "Steps:           76179\r\n",
       "Simulated time:  0.0661875\r\n",
       "\r\n",
       "Fix requests granted:           0\r\n",
       "Action transitions:             61327\r\n",
       "Communication transitions:      13619\r\n",
       "Communication requests tested:  0\r\n",
       "Delay transitions:              1233\r\n",
       "\r\n",
       "Delay requests granted:         1860\r\n",
       "\r\n",
       "Garbage collection cleanup cycles: 11570\r\n",
       "Number of reclaimed objects:       0\r\n",
       "\r\n",
       "Virtual machine cycles: 7719115\r\n",
       "\r\n",
       "</pre>"
      ],
      "text/plain": [
       "<IPython.core.display.HTML object>"
      ]
     },
     "metadata": {},
     "output_type": "display_data"
    },
    {
     "data": {
      "text/html": [
       "<pre style=\"color:blue\">An exception occurred during run.\r\n",
       "Latency is diverging. Throughput constraint is not met.\r\n",
       "\r\n",
       "\r\n",
       "\r\n",
       "Real time:       2.335\r\n",
       "Steps:           140774\r\n",
       "Simulated time:  0.115218\r\n",
       "\r\n",
       "Fix requests granted:           0\r\n",
       "Action transitions:             111928\r\n",
       "Communication transitions:      26660\r\n",
       "Communication requests tested:  0\r\n",
       "Delay transitions:              2186\r\n",
       "\r\n",
       "Delay requests granted:         3573\r\n",
       "\r\n",
       "Garbage collection cleanup cycles: 27566\r\n",
       "Number of reclaimed objects:       0\r\n",
       "\r\n",
       "Virtual machine cycles: 24719310\r\n",
       "\r\n",
       "</pre>"
      ],
      "text/plain": [
       "<IPython.core.display.HTML object>"
      ]
     },
     "metadata": {},
     "output_type": "display_data"
    },
    {
     "data": {
      "text/html": [
       "<pre style=\"color:blue\">An exception occurred during run.\r\n",
       "Latency is diverging. Throughput constraint is not met.\r\n",
       "\r\n",
       "\r\n",
       "\r\n",
       "Real time:       0.999\r\n",
       "Steps:           76409\r\n",
       "Simulated time:  0.0663338\r\n",
       "\r\n",
       "Fix requests granted:           0\r\n",
       "Action transitions:             61517\r\n",
       "Communication transitions:      13664\r\n",
       "Communication requests tested:  0\r\n",
       "Delay transitions:              1228\r\n",
       "\r\n",
       "Delay requests granted:         1861\r\n",
       "\r\n",
       "Garbage collection cleanup cycles: 11676\r\n",
       "Number of reclaimed objects:       0\r\n",
       "\r\n",
       "Virtual machine cycles: 7204645\r\n",
       "\r\n",
       "</pre>"
      ],
      "text/plain": [
       "<IPython.core.display.HTML object>"
      ]
     },
     "metadata": {},
     "output_type": "display_data"
    },
    {
     "data": {
      "text/html": [
       "<pre style=\"color:blue\">An exception occurred during run.\r\n",
       "Latency is diverging. Throughput constraint is not met.\r\n",
       "\r\n",
       "\r\n",
       "\r\n",
       "Real time:       0.864\r\n",
       "Steps:           65673\r\n",
       "Simulated time:  0.0585562\r\n",
       "\r\n",
       "Fix requests granted:           0\r\n",
       "Action transitions:             52854\r\n",
       "Communication transitions:      11766\r\n",
       "Communication requests tested:  0\r\n",
       "Delay transitions:              1053\r\n",
       "\r\n",
       "Delay requests granted:         1591\r\n",
       "\r\n",
       "Garbage collection cleanup cycles: 9132\r\n",
       "Number of reclaimed objects:       0\r\n",
       "\r\n",
       "Virtual machine cycles: 6298999\r\n",
       "\r\n",
       "</pre>"
      ],
      "text/plain": [
       "<IPython.core.display.HTML object>"
      ]
     },
     "metadata": {},
     "output_type": "display_data"
    },
    {
     "data": {
      "text/html": [
       "<pre style=\"color:blue\">An exception occurred during run.\r\n",
       "Latency is diverging. Throughput constraint is not met.\r\n",
       "\r\n",
       "\r\n",
       "\r\n",
       "Real time:       0.836\r\n",
       "Steps:           73354\r\n",
       "Simulated time:  0.0643316\r\n",
       "\r\n",
       "Fix requests granted:           0\r\n",
       "Action transitions:             59073\r\n",
       "Communication transitions:      13144\r\n",
       "Communication requests tested:  0\r\n",
       "Delay transitions:              1137\r\n",
       "\r\n",
       "Delay requests granted:         1797\r\n",
       "\r\n",
       "Garbage collection cleanup cycles: 11141\r\n",
       "Number of reclaimed objects:       0\r\n",
       "\r\n",
       "Virtual machine cycles: 7015060\r\n",
       "\r\n",
       "</pre>"
      ],
      "text/plain": [
       "<IPython.core.display.HTML object>"
      ]
     },
     "metadata": {},
     "output_type": "display_data"
    },
    {
     "data": {
      "text/html": [
       "<pre style=\"color:blue\">An exception occurred during run.\r\n",
       "Latency is diverging. Throughput constraint is not met.\r\n",
       "\r\n",
       "\r\n",
       "\r\n",
       "Real time:       0.981\r\n",
       "Steps:           69635\r\n",
       "Simulated time:  0.062165\r\n",
       "\r\n",
       "Fix requests granted:           0\r\n",
       "Action transitions:             56005\r\n",
       "Communication transitions:      12523\r\n",
       "Communication requests tested:  0\r\n",
       "Delay transitions:              1107\r\n",
       "\r\n",
       "Delay requests granted:         1707\r\n",
       "\r\n",
       "Garbage collection cleanup cycles: 10125\r\n",
       "Number of reclaimed objects:       0\r\n",
       "\r\n",
       "Virtual machine cycles: 6897341\r\n",
       "\r\n",
       "</pre>"
      ],
      "text/plain": [
       "<IPython.core.display.HTML object>"
      ]
     },
     "metadata": {},
     "output_type": "display_data"
    },
    {
     "data": {
      "text/html": [
       "<pre style=\"color:blue\">An exception occurred during run.\r\n",
       "Latency is diverging. Throughput constraint is not met.\r\n",
       "\r\n",
       "\r\n",
       "\r\n",
       "Real time:       1.043\r\n",
       "Steps:           70213\r\n",
       "Simulated time:  0.0634025\r\n",
       "\r\n",
       "Fix requests granted:           0\r\n",
       "Action transitions:             56486\r\n",
       "Communication transitions:      12619\r\n",
       "Communication requests tested:  0\r\n",
       "Delay transitions:              1108\r\n",
       "\r\n",
       "Delay requests granted:         1718\r\n",
       "\r\n",
       "Garbage collection cleanup cycles: 10382\r\n",
       "Number of reclaimed objects:       0\r\n",
       "\r\n",
       "Virtual machine cycles: 6884389\r\n",
       "\r\n",
       "</pre>"
      ],
      "text/plain": [
       "<IPython.core.display.HTML object>"
      ]
     },
     "metadata": {},
     "output_type": "display_data"
    },
    {
     "data": {
      "text/html": [
       "<pre style=\"color:blue\">An exception occurred during run.\r\n",
       "Latency is diverging. Throughput constraint is not met.\r\n",
       "\r\n",
       "\r\n",
       "\r\n",
       "Real time:       1.398\r\n",
       "Steps:           118228\r\n",
       "Simulated time:  0.0941111\r\n",
       "\r\n",
       "Fix requests granted:           0\r\n",
       "Action transitions:             95143\r\n",
       "Communication transitions:      21139\r\n",
       "Communication requests tested:  0\r\n",
       "Delay transitions:              1946\r\n",
       "\r\n",
       "Delay requests granted:         2862\r\n",
       "\r\n",
       "Garbage collection cleanup cycles: 22697\r\n",
       "Number of reclaimed objects:       0\r\n",
       "\r\n",
       "Virtual machine cycles: 12018565\r\n",
       "\r\n",
       "</pre>"
      ],
      "text/plain": [
       "<IPython.core.display.HTML object>"
      ]
     },
     "metadata": {},
     "output_type": "display_data"
    },
    {
     "data": {
      "text/html": [
       "<pre style=\"color:blue\">An exception occurred during run.\r\n",
       "Latency is diverging. Throughput constraint is not met.\r\n",
       "\r\n",
       "\r\n",
       "\r\n",
       "Real time:       1.121\r\n",
       "Steps:           74433\r\n",
       "Simulated time:  0.0646048\r\n",
       "\r\n",
       "Fix requests granted:           0\r\n",
       "Action transitions:             59909\r\n",
       "Communication transitions:      13298\r\n",
       "Communication requests tested:  0\r\n",
       "Delay transitions:              1226\r\n",
       "\r\n",
       "Delay requests granted:         1815\r\n",
       "\r\n",
       "Garbage collection cleanup cycles: 11031\r\n",
       "Number of reclaimed objects:       0\r\n",
       "\r\n",
       "Virtual machine cycles: 7435658\r\n",
       "\r\n",
       "</pre>"
      ],
      "text/plain": [
       "<IPython.core.display.HTML object>"
      ]
     },
     "metadata": {},
     "output_type": "display_data"
    },
    {
     "data": {
      "text/html": [
       "<pre style=\"color:blue\">An exception occurred during run.\r\n",
       "Latency is diverging. Throughput constraint is not met.\r\n",
       "\r\n",
       "\r\n",
       "\r\n",
       "Real time:       2.71\r\n",
       "Steps:           238766\r\n",
       "Simulated time:  0.216255\r\n",
       "\r\n",
       "Fix requests granted:           0\r\n",
       "Action transitions:             179306\r\n",
       "Communication transitions:      54690\r\n",
       "Communication requests tested:  0\r\n",
       "Delay transitions:              4770\r\n",
       "\r\n",
       "Delay requests granted:         7362\r\n",
       "\r\n",
       "Garbage collection cleanup cycles: 28893\r\n",
       "Number of reclaimed objects:       5816\r\n",
       "\r\n",
       "Virtual machine cycles: 34558212\r\n",
       "\r\n",
       "</pre>"
      ],
      "text/plain": [
       "<IPython.core.display.HTML object>"
      ]
     },
     "metadata": {},
     "output_type": "display_data"
    },
    {
     "data": {
      "text/html": [
       "<pre style=\"color:blue\">An exception occurred during run.\r\n",
       "Latency is diverging. Throughput constraint is not met.\r\n",
       "\r\n",
       "\r\n",
       "\r\n",
       "Real time:       1.065\r\n",
       "Steps:           72769\r\n",
       "Simulated time:  0.0628774\r\n",
       "\r\n",
       "Fix requests granted:           0\r\n",
       "Action transitions:             58727\r\n",
       "Communication transitions:      12903\r\n",
       "Communication requests tested:  0\r\n",
       "Delay transitions:              1139\r\n",
       "\r\n",
       "Delay requests granted:         1765\r\n",
       "\r\n",
       "Garbage collection cleanup cycles: 10846\r\n",
       "Number of reclaimed objects:       0\r\n",
       "\r\n",
       "Virtual machine cycles: 6662378\r\n",
       "\r\n",
       "</pre>"
      ],
      "text/plain": [
       "<IPython.core.display.HTML object>"
      ]
     },
     "metadata": {},
     "output_type": "display_data"
    },
    {
     "name": "stdout",
     "output_type": "stream",
     "text": [
      "Now simulating :  NodeProcessorType1 : \"Adreno\" NodeProcessorType2 : \"Adreno\" NodeProcessorType3 : \"MIPS\" NodeProcessorType4 : \"Adreno\" NodeProcessorType5 : \"Adreno\" NodeProcessorType6 : \"ARMv8\" VSF1 : 1.0 VSF2 : 1.0 VSF3 : 0.6666666666666666 VSF4 : 0.5 VSF5 : 0.6666666666666666 VSF6 : 0.25 OSPolicy1 : \"PB\" OSPolicy2 : \"FCFS\" OSPolicy3 : \"PB\" OSPolicy4 : \"FCFS\" OSPolicy5 : \"PB\" OSPolicy6 : \"FCFS\"\n",
      "items left : 38 ,time last sim :  21.15 sec ,est time rem : 803.6402716636658 sec\n"
     ]
    },
    {
     "data": {
      "text/html": [
       "<pre style=\"color:blue\">An exception occurred during run.\r\n",
       "Latency is diverging. Throughput constraint is not met.\r\n",
       "\r\n",
       "\r\n",
       "\r\n",
       "Real time:       0.924\r\n",
       "Steps:           52820\r\n",
       "Simulated time:  0.0509476\r\n",
       "\r\n",
       "Fix requests granted:           0\r\n",
       "Action transitions:             42591\r\n",
       "Communication transitions:      9426\r\n",
       "Communication requests tested:  0\r\n",
       "Delay transitions:              803\r\n",
       "\r\n",
       "Delay requests granted:         1280\r\n",
       "\r\n",
       "Garbage collection cleanup cycles: 6539\r\n",
       "Number of reclaimed objects:       0\r\n",
       "\r\n",
       "Virtual machine cycles: 4805600\r\n",
       "\r\n",
       "</pre>"
      ],
      "text/plain": [
       "<IPython.core.display.HTML object>"
      ]
     },
     "metadata": {},
     "output_type": "display_data"
    },
    {
     "data": {
      "text/html": [
       "<pre style=\"color:blue\">An exception occurred during run.\r\n",
       "Latency is diverging. Throughput constraint is not met.\r\n",
       "\r\n",
       "\r\n",
       "\r\n",
       "Real time:       2.325\r\n",
       "Steps:           197895\r\n",
       "Simulated time:  0.172557\r\n",
       "\r\n",
       "Fix requests granted:           0\r\n",
       "Action transitions:             151445\r\n",
       "Communication transitions:      42751\r\n",
       "Communication requests tested:  0\r\n",
       "Delay transitions:              3699\r\n",
       "\r\n",
       "Delay requests granted:         5733\r\n",
       "\r\n",
       "Garbage collection cleanup cycles: 29003\r\n",
       "Number of reclaimed objects:       479\r\n",
       "\r\n",
       "Virtual machine cycles: 29431905\r\n",
       "\r\n",
       "</pre>"
      ],
      "text/plain": [
       "<IPython.core.display.HTML object>"
      ]
     },
     "metadata": {},
     "output_type": "display_data"
    },
    {
     "data": {
      "text/html": [
       "<pre style=\"color:blue\">An exception occurred during run.\r\n",
       "Latency is diverging. Throughput constraint is not met.\r\n",
       "\r\n",
       "\r\n",
       "\r\n",
       "Real time:       1.103\r\n",
       "Steps:           68716\r\n",
       "Simulated time:  0.0603029\r\n",
       "\r\n",
       "Fix requests granted:           0\r\n",
       "Action transitions:             55359\r\n",
       "Communication transitions:      12332\r\n",
       "Communication requests tested:  0\r\n",
       "Delay transitions:              1025\r\n",
       "\r\n",
       "Delay requests granted:         1676\r\n",
       "\r\n",
       "Garbage collection cleanup cycles: 10278\r\n",
       "Number of reclaimed objects:       0\r\n",
       "\r\n",
       "Virtual machine cycles: 6126202\r\n",
       "\r\n",
       "</pre>"
      ],
      "text/plain": [
       "<IPython.core.display.HTML object>"
      ]
     },
     "metadata": {},
     "output_type": "display_data"
    },
    {
     "data": {
      "text/html": [
       "<pre style=\"color:blue\">An exception occurred during run.\r\n",
       "Latency is diverging. Throughput constraint is not met.\r\n",
       "\r\n",
       "\r\n",
       "\r\n",
       "Real time:       0.939\r\n",
       "Steps:           68576\r\n",
       "Simulated time:  0.0602455\r\n",
       "\r\n",
       "Fix requests granted:           0\r\n",
       "Action transitions:             55217\r\n",
       "Communication transitions:      12300\r\n",
       "Communication requests tested:  0\r\n",
       "Delay transitions:              1059\r\n",
       "\r\n",
       "Delay requests granted:         1677\r\n",
       "\r\n",
       "Garbage collection cleanup cycles: 9869\r\n",
       "Number of reclaimed objects:       0\r\n",
       "\r\n",
       "Virtual machine cycles: 6159335\r\n",
       "\r\n",
       "</pre>"
      ],
      "text/plain": [
       "<IPython.core.display.HTML object>"
      ]
     },
     "metadata": {},
     "output_type": "display_data"
    },
    {
     "data": {
      "text/html": [
       "<pre style=\"color:blue\">An exception occurred during run.\r\n",
       "Latency is diverging. Throughput constraint is not met.\r\n",
       "\r\n",
       "\r\n",
       "\r\n",
       "Real time:       1.15\r\n",
       "Steps:           87631\r\n",
       "Simulated time:  0.0745144\r\n",
       "\r\n",
       "Fix requests granted:           0\r\n",
       "Action transitions:             70482\r\n",
       "Communication transitions:      15801\r\n",
       "Communication requests tested:  0\r\n",
       "Delay transitions:              1348\r\n",
       "\r\n",
       "Delay requests granted:         2138\r\n",
       "\r\n",
       "Garbage collection cleanup cycles: 14728\r\n",
       "Number of reclaimed objects:       0\r\n",
       "\r\n",
       "Virtual machine cycles: 8743144\r\n",
       "\r\n",
       "</pre>"
      ],
      "text/plain": [
       "<IPython.core.display.HTML object>"
      ]
     },
     "metadata": {},
     "output_type": "display_data"
    },
    {
     "data": {
      "text/html": [
       "<pre style=\"color:blue\">An exception occurred during run.\r\n",
       "Latency is diverging. Throughput constraint is not met.\r\n",
       "\r\n",
       "\r\n",
       "\r\n",
       "Real time:       0.797\r\n",
       "Steps:           67523\r\n",
       "Simulated time:  0.0581083\r\n",
       "\r\n",
       "Fix requests granted:           0\r\n",
       "Action transitions:             54437\r\n",
       "Communication transitions:      12074\r\n",
       "Communication requests tested:  0\r\n",
       "Delay transitions:              1012\r\n",
       "\r\n",
       "Delay requests granted:         1631\r\n",
       "\r\n",
       "Garbage collection cleanup cycles: 9782\r\n",
       "Number of reclaimed objects:       0\r\n",
       "\r\n",
       "Virtual machine cycles: 6244337\r\n",
       "\r\n",
       "</pre>"
      ],
      "text/plain": [
       "<IPython.core.display.HTML object>"
      ]
     },
     "metadata": {},
     "output_type": "display_data"
    },
    {
     "data": {
      "text/html": [
       "<pre style=\"color:blue\">An exception occurred during run.\r\n",
       "Latency is diverging. Throughput constraint is not met.\r\n",
       "\r\n",
       "\r\n",
       "\r\n",
       "Real time:       0.831\r\n",
       "Steps:           63330\r\n",
       "Simulated time:  0.0568759\r\n",
       "\r\n",
       "Fix requests granted:           0\r\n",
       "Action transitions:             51056\r\n",
       "Communication transitions:      11317\r\n",
       "Communication requests tested:  0\r\n",
       "Delay transitions:              957\r\n",
       "\r\n",
       "Delay requests granted:         1532\r\n",
       "\r\n",
       "Garbage collection cleanup cycles: 8788\r\n",
       "Number of reclaimed objects:       0\r\n",
       "\r\n",
       "Virtual machine cycles: 5903792\r\n",
       "\r\n",
       "</pre>"
      ],
      "text/plain": [
       "<IPython.core.display.HTML object>"
      ]
     },
     "metadata": {},
     "output_type": "display_data"
    },
    {
     "data": {
      "text/html": [
       "<pre style=\"color:blue\">An exception occurred during run.\r\n",
       "Latency is diverging. Throughput constraint is not met.\r\n",
       "\r\n",
       "\r\n",
       "\r\n",
       "Real time:       0.771\r\n",
       "Steps:           56438\r\n",
       "Simulated time:  0.0523499\r\n",
       "\r\n",
       "Fix requests granted:           0\r\n",
       "Action transitions:             45504\r\n",
       "Communication transitions:      10076\r\n",
       "Communication requests tested:  0\r\n",
       "Delay transitions:              858\r\n",
       "\r\n",
       "Delay requests granted:         1369\r\n",
       "\r\n",
       "Garbage collection cleanup cycles: 7331\r\n",
       "Number of reclaimed objects:       0\r\n",
       "\r\n",
       "Virtual machine cycles: 5168572\r\n",
       "\r\n",
       "</pre>"
      ],
      "text/plain": [
       "<IPython.core.display.HTML object>"
      ]
     },
     "metadata": {},
     "output_type": "display_data"
    },
    {
     "data": {
      "text/html": [
       "<pre style=\"color:blue\">An exception occurred during run.\r\n",
       "Latency is diverging. Throughput constraint is not met.\r\n",
       "\r\n",
       "\r\n",
       "\r\n",
       "Real time:       1.05\r\n",
       "Steps:           65117\r\n",
       "Simulated time:  0.0560673\r\n",
       "\r\n",
       "Fix requests granted:           0\r\n",
       "Action transitions:             52494\r\n",
       "Communication transitions:      11575\r\n",
       "Communication requests tested:  0\r\n",
       "Delay transitions:              1048\r\n",
       "\r\n",
       "Delay requests granted:         1568\r\n",
       "\r\n",
       "Garbage collection cleanup cycles: 9109\r\n",
       "Number of reclaimed objects:       0\r\n",
       "\r\n",
       "Virtual machine cycles: 5811191\r\n",
       "\r\n",
       "</pre>"
      ],
      "text/plain": [
       "<IPython.core.display.HTML object>"
      ]
     },
     "metadata": {},
     "output_type": "display_data"
    },
    {
     "data": {
      "text/html": [
       "<pre style=\"color:blue\">An exception occurred during run.\r\n",
       "Latency is diverging. Throughput constraint is not met.\r\n",
       "\r\n",
       "\r\n",
       "\r\n",
       "Real time:       0.776\r\n",
       "Steps:           66766\r\n",
       "Simulated time:  0.0586599\r\n",
       "\r\n",
       "Fix requests granted:           0\r\n",
       "Action transitions:             53823\r\n",
       "Communication transitions:      11907\r\n",
       "Communication requests tested:  0\r\n",
       "Delay transitions:              1036\r\n",
       "\r\n",
       "Delay requests granted:         1605\r\n",
       "\r\n",
       "Garbage collection cleanup cycles: 9557\r\n",
       "Number of reclaimed objects:       0\r\n",
       "\r\n",
       "Virtual machine cycles: 5941395\r\n",
       "\r\n",
       "</pre>"
      ],
      "text/plain": [
       "<IPython.core.display.HTML object>"
      ]
     },
     "metadata": {},
     "output_type": "display_data"
    },
    {
     "data": {
      "text/html": [
       "<pre style=\"color:blue\">An exception occurred during run.\r\n",
       "Latency is diverging. Throughput constraint is not met.\r\n",
       "\r\n",
       "\r\n",
       "\r\n",
       "Real time:       0.789\r\n",
       "Steps:           58580\r\n",
       "Simulated time:  0.05491\r\n",
       "\r\n",
       "Fix requests granted:           0\r\n",
       "Action transitions:             47179\r\n",
       "Communication transitions:      10504\r\n",
       "Communication requests tested:  0\r\n",
       "Delay transitions:              897\r\n",
       "\r\n",
       "Delay requests granted:         1418\r\n",
       "\r\n",
       "Garbage collection cleanup cycles: 7685\r\n",
       "Number of reclaimed objects:       0\r\n",
       "\r\n",
       "Virtual machine cycles: 5259845\r\n",
       "\r\n",
       "</pre>"
      ],
      "text/plain": [
       "<IPython.core.display.HTML object>"
      ]
     },
     "metadata": {},
     "output_type": "display_data"
    },
    {
     "name": "stdout",
     "output_type": "stream",
     "text": [
      "Now simulating :  NodeProcessorType1 : \"Adreno\" NodeProcessorType2 : \"Adreno\" NodeProcessorType3 : \"Adreno\" NodeProcessorType4 : \"Adreno\" NodeProcessorType5 : \"Adreno\" NodeProcessorType6 : \"ARMv8\" VSF1 : 1.0 VSF2 : 1.0 VSF3 : 0.6666666666666666 VSF4 : 0.6666666666666666 VSF5 : 1.0 VSF6 : 0.25 OSPolicy1 : \"PB\" OSPolicy2 : \"FCFS\" OSPolicy3 : \"PB\" OSPolicy4 : \"FCFS\" OSPolicy5 : \"PB\" OSPolicy6 : \"FCFS\"\n",
      "items left : 35 ,time last sim :  18.57 sec ,est time rem : 650.0693929195404 sec\n"
     ]
    },
    {
     "data": {
      "text/html": [
       "<pre style=\"color:blue\">Real Time:          34.577 Steps:    8.38861e+006 Simulated Time:         9.19737\r\n",
       "Real Time:          48.042 Steps:    1.20586e+007 Simulated Time:         13.2471\r\n",
       "\r\n",
       "\r\n",
       "Real time:       59.237\r\n",
       "Steps:           14949419\r\n",
       "Simulated time:  16.44\r\n",
       "\r\n",
       "Fix requests granted:           0\r\n",
       "Action transitions:             10104447\r\n",
       "Communication transitions:      4438467\r\n",
       "Communication requests tested:  0\r\n",
       "Delay transitions:              406505\r\n",
       "\r\n",
       "Delay requests granted:         593747\r\n",
       "\r\n",
       "Garbage collection cleanup cycles: 32598\r\n",
       "Number of reclaimed objects:       12903\r\n",
       "\r\n",
       "Virtual machine cycles: 1186013214\r\n",
       "\r\n",
       "</pre>"
      ],
      "text/plain": [
       "<IPython.core.display.HTML object>"
      ]
     },
     "metadata": {},
     "output_type": "display_data"
    },
    {
     "data": {
      "text/html": [
       "<pre style=\"color:red\">All registered observers are activated. Caused by completion observer (MemoryBufferNode3)\r\n",
       "</pre>"
      ],
      "text/plain": [
       "<IPython.core.display.HTML object>"
      ]
     },
     "metadata": {},
     "output_type": "display_data"
    },
    {
     "name": "stdout",
     "output_type": "stream",
     "text": [
      "Now simulating :  NodeProcessorType1 : \"Adreno\" NodeProcessorType2 : \"Adreno\" NodeProcessorType3 : \"Adreno\" NodeProcessorType4 : \"Adreno\" NodeProcessorType5 : \"Adreno\" NodeProcessorType6 : \"ARMv8\" VSF1 : 1.0 VSF2 : 1.0 VSF3 : 0.6666666666666666 VSF4 : 0.6666666666666666 VSF5 : 0.6666666666666666 VSF6 : 0.25 OSPolicy1 : \"PB\" OSPolicy2 : \"FCFS\" OSPolicy3 : \"PB\" OSPolicy4 : \"PB\" OSPolicy5 : \"FCFS\" OSPolicy6 : \"FCFS\"\n",
      "items left : 31 ,time last sim :  61.99 sec ,est time rem : 1921.5993647575378 sec\n"
     ]
    },
    {
     "data": {
      "text/html": [
       "<pre style=\"color:blue\">Real Time:           2.551 Steps:          262144 Simulated Time:        0.229732\r\n",
       "Real Time:            6.25 Steps:    1.17965e+006 Simulated Time:         1.24689\r\n",
       "An exception occurred during run.\r\n",
       "Latency is diverging. Throughput constraint is not met.\r\n",
       "\r\n",
       "\r\n",
       "\r\n",
       "Real time:       12.549\r\n",
       "Steps:           2686979\r\n",
       "Simulated time:  2.92807\r\n",
       "\r\n",
       "Fix requests granted:           0\r\n",
       "Action transitions:             1832884\r\n",
       "Communication transitions:      784361\r\n",
       "Communication requests tested:  0\r\n",
       "Delay transitions:              69734\r\n",
       "\r\n",
       "Delay requests granted:         103997\r\n",
       "\r\n",
       "Garbage collection cleanup cycles: 31491\r\n",
       "Number of reclaimed objects:       16582\r\n",
       "\r\n",
       "Virtual machine cycles: 250938435\r\n",
       "\r\n",
       "</pre>"
      ],
      "text/plain": [
       "<IPython.core.display.HTML object>"
      ]
     },
     "metadata": {},
     "output_type": "display_data"
    },
    {
     "data": {
      "text/html": [
       "<pre style=\"color:blue\">Real Time:           2.449 Steps:          262144 Simulated Time:        0.235798\r\n",
       "An exception occurred during run.\r\n",
       "Latency is diverging. Throughput constraint is not met.\r\n",
       "\r\n",
       "\r\n",
       "\r\n",
       "Real time:       3.137\r\n",
       "Steps:           344660\r\n",
       "Simulated time:  0.332029\r\n",
       "\r\n",
       "Fix requests granted:           0\r\n",
       "Action transitions:             250705\r\n",
       "Communication transitions:      86049\r\n",
       "Communication requests tested:  0\r\n",
       "Delay transitions:              7906\r\n",
       "\r\n",
       "Delay requests granted:         11579\r\n",
       "\r\n",
       "Garbage collection cleanup cycles: 29415\r\n",
       "Number of reclaimed objects:       3305\r\n",
       "\r\n",
       "Virtual machine cycles: 43532706\r\n",
       "\r\n",
       "</pre>"
      ],
      "text/plain": [
       "<IPython.core.display.HTML object>"
      ]
     },
     "metadata": {},
     "output_type": "display_data"
    },
    {
     "data": {
      "text/html": [
       "<pre style=\"color:blue\">An exception occurred during run.\r\n",
       "Latency is diverging. Throughput constraint is not met.\r\n",
       "\r\n",
       "\r\n",
       "\r\n",
       "Real time:       3\r\n",
       "Steps:           282757\r\n",
       "Simulated time:  0.266029\r\n",
       "\r\n",
       "Fix requests granted:           0\r\n",
       "Action transitions:             208889\r\n",
       "Communication transitions:      67661\r\n",
       "Communication requests tested:  0\r\n",
       "Delay transitions:              6207\r\n",
       "\r\n",
       "Delay requests granted:         9111\r\n",
       "\r\n",
       "Garbage collection cleanup cycles: 30177\r\n",
       "Number of reclaimed objects:       1245\r\n",
       "\r\n",
       "Virtual machine cycles: 37395951\r\n",
       "\r\n",
       "</pre>"
      ],
      "text/plain": [
       "<IPython.core.display.HTML object>"
      ]
     },
     "metadata": {},
     "output_type": "display_data"
    },
    {
     "data": {
      "text/html": [
       "<pre style=\"color:blue\">Real Time:           12.45 Steps:    2.88358e+006 Simulated Time:         3.12097\r\n",
       "Real Time:          25.826 Steps:     6.5536e+006 Simulated Time:         7.19141\r\n",
       "\r\n",
       "\r\n",
       "Real time:       30.244\r\n",
       "Steps:           7700157\r\n",
       "Simulated time:  8.46\r\n",
       "\r\n",
       "Fix requests granted:           0\r\n",
       "Action transitions:             5209099\r\n",
       "Communication transitions:      2276057\r\n",
       "Communication requests tested:  0\r\n",
       "Delay transitions:              215001\r\n",
       "\r\n",
       "Delay requests granted:         304370\r\n",
       "\r\n",
       "Garbage collection cleanup cycles: 31203\r\n",
       "Number of reclaimed objects:       18125\r\n",
       "\r\n",
       "Virtual machine cycles: 614448091\r\n",
       "\r\n",
       "</pre>"
      ],
      "text/plain": [
       "<IPython.core.display.HTML object>"
      ]
     },
     "metadata": {},
     "output_type": "display_data"
    },
    {
     "data": {
      "text/html": [
       "<pre style=\"color:red\">All registered observers are activated. Caused by completion observer (MemoryDataNode1)\r\n",
       "</pre>"
      ],
      "text/plain": [
       "<IPython.core.display.HTML object>"
      ]
     },
     "metadata": {},
     "output_type": "display_data"
    },
    {
     "name": "stdout",
     "output_type": "stream",
     "text": [
      "Now simulating :  NodeProcessorType1 : \"Adreno\" NodeProcessorType2 : \"Adreno\" NodeProcessorType3 : \"Adreno\" NodeProcessorType4 : \"Adreno\" NodeProcessorType5 : \"MIPS\" NodeProcessorType6 : \"ARMv8\" VSF1 : 1.0 VSF2 : 1.0 VSF3 : 0.6666666666666666 VSF4 : 0.6666666666666666 VSF5 : 0.6666666666666666 VSF6 : 0.25 OSPolicy1 : \"PB\" OSPolicy2 : \"FCFS\" OSPolicy3 : \"PB\" OSPolicy4 : \"FCFS\" OSPolicy5 : \"FCFS\" OSPolicy6 : \"FCFS\"\n",
      "items left : 28 ,time last sim :  52.93 sec ,est time rem : 1482.1677885055542 sec\n"
     ]
    },
    {
     "data": {
      "text/html": [
       "<pre style=\"color:blue\">An exception occurred during run.\r\n",
       "Latency is diverging. Throughput constraint is not met.\r\n",
       "\r\n",
       "\r\n",
       "\r\n",
       "Real time:       2.192\r\n",
       "Steps:           166424\r\n",
       "Simulated time:  0.142127\r\n",
       "\r\n",
       "Fix requests granted:           0\r\n",
       "Action transitions:             129761\r\n",
       "Communication transitions:      33768\r\n",
       "Communication requests tested:  0\r\n",
       "Delay transitions:              2895\r\n",
       "\r\n",
       "Delay requests granted:         4552\r\n",
       "\r\n",
       "Garbage collection cleanup cycles: 27555\r\n",
       "Number of reclaimed objects:       353\r\n",
       "\r\n",
       "Virtual machine cycles: 26664598\r\n",
       "\r\n",
       "</pre>"
      ],
      "text/plain": [
       "<IPython.core.display.HTML object>"
      ]
     },
     "metadata": {},
     "output_type": "display_data"
    },
    {
     "data": {
      "text/html": [
       "<pre style=\"color:blue\">An exception occurred during run.\r\n",
       "Latency is diverging. Throughput constraint is not met.\r\n",
       "\r\n",
       "\r\n",
       "\r\n",
       "Real time:       2.349\r\n",
       "Steps:           185436\r\n",
       "Simulated time:  0.160211\r\n",
       "\r\n",
       "Fix requests granted:           0\r\n",
       "Action transitions:             142816\r\n",
       "Communication transitions:      39251\r\n",
       "Communication requests tested:  0\r\n",
       "Delay transitions:              3369\r\n",
       "\r\n",
       "Delay requests granted:         5285\r\n",
       "\r\n",
       "Garbage collection cleanup cycles: 28700\r\n",
       "Number of reclaimed objects:       357\r\n",
       "\r\n",
       "Virtual machine cycles: 27985050\r\n",
       "\r\n",
       "</pre>"
      ],
      "text/plain": [
       "<IPython.core.display.HTML object>"
      ]
     },
     "metadata": {},
     "output_type": "display_data"
    },
    {
     "data": {
      "text/html": [
       "<pre style=\"color:blue\">An exception occurred during run.\r\n",
       "Latency is diverging. Throughput constraint is not met.\r\n",
       "\r\n",
       "\r\n",
       "\r\n",
       "Real time:       1.187\r\n",
       "Steps:           83747\r\n",
       "Simulated time:  0.0700621\r\n",
       "\r\n",
       "Fix requests granted:           0\r\n",
       "Action transitions:             67382\r\n",
       "Communication transitions:      15042\r\n",
       "Communication requests tested:  0\r\n",
       "Delay transitions:              1323\r\n",
       "\r\n",
       "Delay requests granted:         2040\r\n",
       "\r\n",
       "Garbage collection cleanup cycles: 13342\r\n",
       "Number of reclaimed objects:       0\r\n",
       "\r\n",
       "Virtual machine cycles: 7824341\r\n",
       "\r\n",
       "</pre>"
      ],
      "text/plain": [
       "<IPython.core.display.HTML object>"
      ]
     },
     "metadata": {},
     "output_type": "display_data"
    },
    {
     "data": {
      "text/html": [
       "<pre style=\"color:blue\">An exception occurred during run.\r\n",
       "Latency is diverging. Throughput constraint is not met.\r\n",
       "\r\n",
       "\r\n",
       "\r\n",
       "Real time:       1.121\r\n",
       "Steps:           75992\r\n",
       "Simulated time:  0.0663275\r\n",
       "\r\n",
       "Fix requests granted:           0\r\n",
       "Action transitions:             61143\r\n",
       "Communication transitions:      13633\r\n",
       "Communication requests tested:  0\r\n",
       "Delay transitions:              1216\r\n",
       "\r\n",
       "Delay requests granted:         1848\r\n",
       "\r\n",
       "Garbage collection cleanup cycles: 11562\r\n",
       "Number of reclaimed objects:       0\r\n",
       "\r\n",
       "Virtual machine cycles: 6839442\r\n",
       "\r\n",
       "</pre>"
      ],
      "text/plain": [
       "<IPython.core.display.HTML object>"
      ]
     },
     "metadata": {},
     "output_type": "display_data"
    },
    {
     "data": {
      "text/html": [
       "<pre style=\"color:blue\">An exception occurred during run.\r\n",
       "Latency is diverging. Throughput constraint is not met.\r\n",
       "\r\n",
       "\r\n",
       "\r\n",
       "Real time:       1.176\r\n",
       "Steps:           83291\r\n",
       "Simulated time:  0.0705069\r\n",
       "\r\n",
       "Fix requests granted:           0\r\n",
       "Action transitions:             67048\r\n",
       "Communication transitions:      14962\r\n",
       "Communication requests tested:  0\r\n",
       "Delay transitions:              1281\r\n",
       "\r\n",
       "Delay requests granted:         2026\r\n",
       "\r\n",
       "Garbage collection cleanup cycles: 13570\r\n",
       "Number of reclaimed objects:       0\r\n",
       "\r\n",
       "Virtual machine cycles: 7693957\r\n",
       "\r\n",
       "</pre>"
      ],
      "text/plain": [
       "<IPython.core.display.HTML object>"
      ]
     },
     "metadata": {},
     "output_type": "display_data"
    },
    {
     "data": {
      "text/html": [
       "<pre style=\"color:blue\">An exception occurred during run.\r\n",
       "Latency is diverging. Throughput constraint is not met.\r\n",
       "\r\n",
       "\r\n",
       "\r\n",
       "Real time:       1.076\r\n",
       "Steps:           81093\r\n",
       "Simulated time:  0.0681624\r\n",
       "\r\n",
       "Fix requests granted:           0\r\n",
       "Action transitions:             65303\r\n",
       "Communication transitions:      14533\r\n",
       "Communication requests tested:  0\r\n",
       "Delay transitions:              1257\r\n",
       "\r\n",
       "Delay requests granted:         1973\r\n",
       "\r\n",
       "Garbage collection cleanup cycles: 13278\r\n",
       "Number of reclaimed objects:       0\r\n",
       "\r\n",
       "Virtual machine cycles: 7845031\r\n",
       "\r\n",
       "</pre>"
      ],
      "text/plain": [
       "<IPython.core.display.HTML object>"
      ]
     },
     "metadata": {},
     "output_type": "display_data"
    },
    {
     "data": {
      "text/html": [
       "<pre style=\"color:blue\">An exception occurred during run.\r\n",
       "Latency is diverging. Throughput constraint is not met.\r\n",
       "\r\n",
       "\r\n",
       "\r\n",
       "Real time:       0.865\r\n",
       "Steps:           63126\r\n",
       "Simulated time:  0.0572646\r\n",
       "\r\n",
       "Fix requests granted:           0\r\n",
       "Action transitions:             50815\r\n",
       "Communication transitions:      11332\r\n",
       "Communication requests tested:  0\r\n",
       "Delay transitions:              979\r\n",
       "\r\n",
       "Delay requests granted:         1526\r\n",
       "\r\n",
       "Garbage collection cleanup cycles: 8990\r\n",
       "Number of reclaimed objects:       0\r\n",
       "\r\n",
       "Virtual machine cycles: 5737442\r\n",
       "\r\n",
       "</pre>"
      ],
      "text/plain": [
       "<IPython.core.display.HTML object>"
      ]
     },
     "metadata": {},
     "output_type": "display_data"
    },
    {
     "data": {
      "text/html": [
       "<pre style=\"color:blue\">An exception occurred during run.\r\n",
       "Latency is diverging. Throughput constraint is not met.\r\n",
       "\r\n",
       "\r\n",
       "\r\n",
       "Real time:       0.863\r\n",
       "Steps:           63199\r\n",
       "Simulated time:  0.057192\r\n",
       "\r\n",
       "Fix requests granted:           0\r\n",
       "Action transitions:             50896\r\n",
       "Communication transitions:      11330\r\n",
       "Communication requests tested:  0\r\n",
       "Delay transitions:              973\r\n",
       "\r\n",
       "Delay requests granted:         1527\r\n",
       "\r\n",
       "Garbage collection cleanup cycles: 8994\r\n",
       "Number of reclaimed objects:       0\r\n",
       "\r\n",
       "Virtual machine cycles: 5856149\r\n",
       "\r\n",
       "</pre>"
      ],
      "text/plain": [
       "<IPython.core.display.HTML object>"
      ]
     },
     "metadata": {},
     "output_type": "display_data"
    },
    {
     "data": {
      "text/html": [
       "<pre style=\"color:blue\">An exception occurred during run.\r\n",
       "Latency is diverging. Throughput constraint is not met.\r\n",
       "\r\n",
       "\r\n",
       "\r\n",
       "Real time:       1.391\r\n",
       "Steps:           95822\r\n",
       "Simulated time:  0.0789578\r\n",
       "\r\n",
       "Fix requests granted:           0\r\n",
       "Action transitions:             77174\r\n",
       "Communication transitions:      17169\r\n",
       "Communication requests tested:  0\r\n",
       "Delay transitions:              1479\r\n",
       "\r\n",
       "Delay requests granted:         2318\r\n",
       "\r\n",
       "Garbage collection cleanup cycles: 17143\r\n",
       "Number of reclaimed objects:       0\r\n",
       "\r\n",
       "Virtual machine cycles: 9054546\r\n",
       "\r\n",
       "</pre>"
      ],
      "text/plain": [
       "<IPython.core.display.HTML object>"
      ]
     },
     "metadata": {},
     "output_type": "display_data"
    },
    {
     "data": {
      "text/html": [
       "<pre style=\"color:blue\">An exception occurred during run.\r\n",
       "Latency is diverging. Throughput constraint is not met.\r\n",
       "\r\n",
       "\r\n",
       "\r\n",
       "Real time:       2.27\r\n",
       "Steps:           169507\r\n",
       "Simulated time:  0.144662\r\n",
       "\r\n",
       "Fix requests granted:           0\r\n",
       "Action transitions:             131734\r\n",
       "Communication transitions:      34522\r\n",
       "Communication requests tested:  0\r\n",
       "Delay transitions:              3251\r\n",
       "\r\n",
       "Delay requests granted:         4639\r\n",
       "\r\n",
       "Garbage collection cleanup cycles: 26952\r\n",
       "Number of reclaimed objects:       1385\r\n",
       "\r\n",
       "Virtual machine cycles: 27132545\r\n",
       "\r\n",
       "</pre>"
      ],
      "text/plain": [
       "<IPython.core.display.HTML object>"
      ]
     },
     "metadata": {},
     "output_type": "display_data"
    },
    {
     "data": {
      "text/html": [
       "<pre style=\"color:blue\">An exception occurred during run.\r\n",
       "Latency is diverging. Throughput constraint is not met.\r\n",
       "\r\n",
       "\r\n",
       "\r\n",
       "Real time:       1.104\r\n",
       "Steps:           76692\r\n",
       "Simulated time:  0.0648689\r\n",
       "\r\n",
       "Fix requests granted:           0\r\n",
       "Action transitions:             61724\r\n",
       "Communication transitions:      13714\r\n",
       "Communication requests tested:  0\r\n",
       "Delay transitions:              1254\r\n",
       "\r\n",
       "Delay requests granted:         1864\r\n",
       "\r\n",
       "Garbage collection cleanup cycles: 11914\r\n",
       "Number of reclaimed objects:       0\r\n",
       "\r\n",
       "Virtual machine cycles: 8019525\r\n",
       "\r\n",
       "</pre>"
      ],
      "text/plain": [
       "<IPython.core.display.HTML object>"
      ]
     },
     "metadata": {},
     "output_type": "display_data"
    },
    {
     "name": "stdout",
     "output_type": "stream",
     "text": [
      "Now simulating :  NodeProcessorType1 : \"Adreno\" NodeProcessorType2 : \"Adreno\" NodeProcessorType3 : \"Adreno\" NodeProcessorType4 : \"Adreno\" NodeProcessorType5 : \"Adreno\" NodeProcessorType6 : \"ARMv8\" VSF1 : 1.0 VSF2 : 1.0 VSF3 : 0.6666666666666666 VSF4 : 0.6666666666666666 VSF5 : 0.6666666666666666 VSF6 : 0.25 OSPolicy1 : \"FCFS\" OSPolicy2 : \"FCFS\" OSPolicy3 : \"PB\" OSPolicy4 : \"PB\" OSPolicy5 : \"PB\" OSPolicy6 : \"FCFS\"\n",
      "items left : 25 ,time last sim :  22.28 sec ,est time rem : 557.1114420890808 sec\n"
     ]
    },
    {
     "data": {
      "text/html": [
       "<pre style=\"color:blue\">An exception occurred during run.\r\n",
       "Latency is diverging. Throughput constraint is not met.\r\n",
       "\r\n",
       "\r\n",
       "\r\n",
       "Real time:       2.995\r\n",
       "Steps:           301132\r\n",
       "Simulated time:  0.284254\r\n",
       "\r\n",
       "Fix requests granted:           0\r\n",
       "Action transitions:             221706\r\n",
       "Communication transitions:      73053\r\n",
       "Communication requests tested:  0\r\n",
       "Delay transitions:              6373\r\n",
       "\r\n",
       "Delay requests granted:         9815\r\n",
       "\r\n",
       "Garbage collection cleanup cycles: 30433\r\n",
       "Number of reclaimed objects:       1202\r\n",
       "\r\n",
       "Virtual machine cycles: 40063098\r\n",
       "\r\n",
       "</pre>"
      ],
      "text/plain": [
       "<IPython.core.display.HTML object>"
      ]
     },
     "metadata": {},
     "output_type": "display_data"
    },
    {
     "data": {
      "text/html": [
       "<pre style=\"color:blue\">An exception occurred during run.\r\n",
       "Latency is diverging. Throughput constraint is not met.\r\n",
       "\r\n",
       "\r\n",
       "\r\n",
       "Real time:       3.322\r\n",
       "Steps:           372642\r\n",
       "Simulated time:  0.370112\r\n",
       "\r\n",
       "Fix requests granted:           0\r\n",
       "Action transitions:             269965\r\n",
       "Communication transitions:      94627\r\n",
       "Communication requests tested:  0\r\n",
       "Delay transitions:              8050\r\n",
       "\r\n",
       "Delay requests granted:         12655\r\n",
       "\r\n",
       "Garbage collection cleanup cycles: 30372\r\n",
       "Number of reclaimed objects:       6647\r\n",
       "\r\n",
       "Virtual machine cycles: 45098317\r\n",
       "\r\n",
       "</pre>"
      ],
      "text/plain": [
       "<IPython.core.display.HTML object>"
      ]
     },
     "metadata": {},
     "output_type": "display_data"
    },
    {
     "data": {
      "text/html": [
       "<pre style=\"color:blue\">An exception occurred during run.\r\n",
       "Latency is diverging. Throughput constraint is not met.\r\n",
       "\r\n",
       "\r\n",
       "\r\n",
       "Real time:       2.345\r\n",
       "Steps:           196692\r\n",
       "Simulated time:  0.174144\r\n",
       "\r\n",
       "Fix requests granted:           0\r\n",
       "Action transitions:             150074\r\n",
       "Communication transitions:      42654\r\n",
       "Communication requests tested:  0\r\n",
       "Delay transitions:              3964\r\n",
       "\r\n",
       "Delay requests granted:         5748\r\n",
       "\r\n",
       "Garbage collection cleanup cycles: 27010\r\n",
       "Number of reclaimed objects:       0\r\n",
       "\r\n",
       "Virtual machine cycles: 28512530\r\n",
       "\r\n",
       "</pre>"
      ],
      "text/plain": [
       "<IPython.core.display.HTML object>"
      ]
     },
     "metadata": {},
     "output_type": "display_data"
    },
    {
     "data": {
      "text/html": [
       "<pre style=\"color:blue\">An exception occurred during run.\r\n",
       "Latency is diverging. Throughput constraint is not met.\r\n",
       "\r\n",
       "\r\n",
       "\r\n",
       "Real time:       2.553\r\n",
       "Steps:           216509\r\n",
       "Simulated time:  0.198569\r\n",
       "\r\n",
       "Fix requests granted:           0\r\n",
       "Action transitions:             163546\r\n",
       "Communication transitions:      48746\r\n",
       "Communication requests tested:  0\r\n",
       "Delay transitions:              4217\r\n",
       "\r\n",
       "Delay requests granted:         6553\r\n",
       "\r\n",
       "Garbage collection cleanup cycles: 28874\r\n",
       "Number of reclaimed objects:       736\r\n",
       "\r\n",
       "Virtual machine cycles: 30543988\r\n",
       "\r\n",
       "</pre>"
      ],
      "text/plain": [
       "<IPython.core.display.HTML object>"
      ]
     },
     "metadata": {},
     "output_type": "display_data"
    },
    {
     "data": {
      "text/html": [
       "<pre style=\"color:blue\">An exception occurred during run.\r\n",
       "Latency is diverging. Throughput constraint is not met.\r\n",
       "\r\n",
       "\r\n",
       "\r\n",
       "Real time:       2.316\r\n",
       "Steps:           206048\r\n",
       "Simulated time:  0.184183\r\n",
       "\r\n",
       "Fix requests granted:           0\r\n",
       "Action transitions:             156646\r\n",
       "Communication transitions:      45170\r\n",
       "Communication requests tested:  0\r\n",
       "Delay transitions:              4232\r\n",
       "\r\n",
       "Delay requests granted:         6095\r\n",
       "\r\n",
       "Garbage collection cleanup cycles: 27193\r\n",
       "Number of reclaimed objects:       1100\r\n",
       "\r\n",
       "Virtual machine cycles: 28838150\r\n",
       "\r\n",
       "</pre>"
      ],
      "text/plain": [
       "<IPython.core.display.HTML object>"
      ]
     },
     "metadata": {},
     "output_type": "display_data"
    },
    {
     "data": {
      "text/html": [
       "<pre style=\"color:blue\">An exception occurred during run.\r\n",
       "Latency is diverging. Throughput constraint is not met.\r\n",
       "\r\n",
       "\r\n",
       "\r\n",
       "Real time:       2.427\r\n",
       "Steps:           206502\r\n",
       "Simulated time:  0.184352\r\n",
       "\r\n",
       "Fix requests granted:           0\r\n",
       "Action transitions:             157000\r\n",
       "Communication transitions:      45238\r\n",
       "Communication requests tested:  0\r\n",
       "Delay transitions:              4264\r\n",
       "\r\n",
       "Delay requests granted:         6080\r\n",
       "\r\n",
       "Garbage collection cleanup cycles: 28057\r\n",
       "Number of reclaimed objects:       2318\r\n",
       "\r\n",
       "Virtual machine cycles: 29619570\r\n",
       "\r\n",
       "</pre>"
      ],
      "text/plain": [
       "<IPython.core.display.HTML object>"
      ]
     },
     "metadata": {},
     "output_type": "display_data"
    },
    {
     "data": {
      "text/html": [
       "<pre style=\"color:blue\">An exception occurred during run.\r\n",
       "Latency is diverging. Throughput constraint is not met.\r\n",
       "\r\n",
       "\r\n",
       "\r\n",
       "Real time:       2.572\r\n",
       "Steps:           233931\r\n",
       "Simulated time:  0.210302\r\n",
       "\r\n",
       "Fix requests granted:           0\r\n",
       "Action transitions:             176101\r\n",
       "Communication transitions:      52865\r\n",
       "Communication requests tested:  0\r\n",
       "Delay transitions:              4965\r\n",
       "\r\n",
       "Delay requests granted:         7120\r\n",
       "\r\n",
       "Garbage collection cleanup cycles: 29050\r\n",
       "Number of reclaimed objects:       1686\r\n",
       "\r\n",
       "Virtual machine cycles: 31428184\r\n",
       "\r\n",
       "</pre>"
      ],
      "text/plain": [
       "<IPython.core.display.HTML object>"
      ]
     },
     "metadata": {},
     "output_type": "display_data"
    },
    {
     "data": {
      "text/html": [
       "<pre style=\"color:blue\">An exception occurred during run.\r\n",
       "Latency is diverging. Throughput constraint is not met.\r\n",
       "\r\n",
       "\r\n",
       "\r\n",
       "Real time:       1.468\r\n",
       "Steps:           118210\r\n",
       "Simulated time:  0.0947815\r\n",
       "\r\n",
       "Fix requests granted:           0\r\n",
       "Action transitions:             95078\r\n",
       "Communication transitions:      21380\r\n",
       "Communication requests tested:  0\r\n",
       "Delay transitions:              1752\r\n",
       "\r\n",
       "Delay requests granted:         2879\r\n",
       "\r\n",
       "Garbage collection cleanup cycles: 23424\r\n",
       "Number of reclaimed objects:       0\r\n",
       "\r\n",
       "Virtual machine cycles: 11123300\r\n",
       "\r\n",
       "</pre>"
      ],
      "text/plain": [
       "<IPython.core.display.HTML object>"
      ]
     },
     "metadata": {},
     "output_type": "display_data"
    },
    {
     "data": {
      "text/html": [
       "<pre style=\"color:blue\">An exception occurred during run.\r\n",
       "Latency is diverging. Throughput constraint is not met.\r\n",
       "\r\n",
       "\r\n",
       "\r\n",
       "Real time:       1.447\r\n",
       "Steps:           110374\r\n",
       "Simulated time:  0.088537\r\n",
       "\r\n",
       "Fix requests granted:           0\r\n",
       "Action transitions:             88752\r\n",
       "Communication transitions:      19816\r\n",
       "Communication requests tested:  0\r\n",
       "Delay transitions:              1806\r\n",
       "\r\n",
       "Delay requests granted:         2669\r\n",
       "\r\n",
       "Garbage collection cleanup cycles: 20640\r\n",
       "Number of reclaimed objects:       0\r\n",
       "\r\n",
       "Virtual machine cycles: 9785974\r\n",
       "\r\n",
       "</pre>"
      ],
      "text/plain": [
       "<IPython.core.display.HTML object>"
      ]
     },
     "metadata": {},
     "output_type": "display_data"
    },
    {
     "data": {
      "text/html": [
       "<pre style=\"color:blue\">An exception occurred during run.\r\n",
       "Latency is diverging. Throughput constraint is not met.\r\n",
       "\r\n",
       "\r\n",
       "\r\n",
       "Real time:       4.023\r\n",
       "Steps:           557645\r\n",
       "Simulated time:  0.574086\r\n",
       "\r\n",
       "Fix requests granted:           0\r\n",
       "Action transitions:             395499\r\n",
       "Communication transitions:      149716\r\n",
       "Communication requests tested:  0\r\n",
       "Delay transitions:              12430\r\n",
       "\r\n",
       "Delay requests granted:         20016\r\n",
       "\r\n",
       "Garbage collection cleanup cycles: 32670\r\n",
       "Number of reclaimed objects:       6752\r\n",
       "\r\n",
       "Virtual machine cycles: 59756614\r\n",
       "\r\n",
       "</pre>"
      ],
      "text/plain": [
       "<IPython.core.display.HTML object>"
      ]
     },
     "metadata": {},
     "output_type": "display_data"
    },
    {
     "data": {
      "text/html": [
       "<pre style=\"color:blue\">An exception occurred during run.\r\n",
       "Latency is diverging. Throughput constraint is not met.\r\n",
       "\r\n",
       "\r\n",
       "\r\n",
       "Real time:       2.369\r\n",
       "Steps:           190128\r\n",
       "Simulated time:  0.166015\r\n",
       "\r\n",
       "Fix requests granted:           0\r\n",
       "Action transitions:             145816\r\n",
       "Communication transitions:      40525\r\n",
       "Communication requests tested:  0\r\n",
       "Delay transitions:              3787\r\n",
       "\r\n",
       "Delay requests granted:         5458\r\n",
       "\r\n",
       "Garbage collection cleanup cycles: 27634\r\n",
       "Number of reclaimed objects:       440\r\n",
       "\r\n",
       "Virtual machine cycles: 28723780\r\n",
       "\r\n",
       "</pre>"
      ],
      "text/plain": [
       "<IPython.core.display.HTML object>"
      ]
     },
     "metadata": {},
     "output_type": "display_data"
    },
    {
     "name": "stdout",
     "output_type": "stream",
     "text": [
      "Now simulating :  NodeProcessorType1 : \"Adreno\" NodeProcessorType2 : \"Adreno\" NodeProcessorType3 : \"Adreno\" NodeProcessorType4 : \"Adreno\" NodeProcessorType5 : \"Adreno\" NodeProcessorType6 : \"Adreno\" VSF1 : 1.0 VSF2 : 1.0 VSF3 : 0.6666666666666666 VSF4 : 0.6666666666666666 VSF5 : 0.6666666666666666 VSF6 : 0.25 OSPolicy1 : \"PB\" OSPolicy2 : \"FCFS\" OSPolicy3 : \"PB\" OSPolicy4 : \"FCFS\" OSPolicy5 : \"PB\" OSPolicy6 : \"FCFS\"\n",
      "items left : 22 ,time last sim :  34.91 sec ,est time rem : 768.038722038269 sec\n"
     ]
    },
    {
     "data": {
      "text/html": [
       "<pre style=\"color:blue\">An exception occurred during run.\r\n",
       "Latency is diverging. Throughput constraint is not met.\r\n",
       "\r\n",
       "\r\n",
       "\r\n",
       "Real time:       2.692\r\n",
       "Steps:           208496\r\n",
       "Simulated time:  0.182106\r\n",
       "\r\n",
       "Fix requests granted:           0\r\n",
       "Action transitions:             159196\r\n",
       "Communication transitions:      45220\r\n",
       "Communication requests tested:  0\r\n",
       "Delay transitions:              4080\r\n",
       "\r\n",
       "Delay requests granted:         6115\r\n",
       "\r\n",
       "Garbage collection cleanup cycles: 30016\r\n",
       "Number of reclaimed objects:       291\r\n",
       "\r\n",
       "Virtual machine cycles: 30831872\r\n",
       "\r\n",
       "</pre>"
      ],
      "text/plain": [
       "<IPython.core.display.HTML object>"
      ]
     },
     "metadata": {},
     "output_type": "display_data"
    },
    {
     "data": {
      "text/html": [
       "<pre style=\"color:blue\">An exception occurred during run.\r\n",
       "Latency is diverging. Throughput constraint is not met.\r\n",
       "\r\n",
       "\r\n",
       "\r\n",
       "Real time:       1.526\r\n",
       "Steps:           126806\r\n",
       "Simulated time:  0.0984203\r\n",
       "\r\n",
       "Fix requests granted:           0\r\n",
       "Action transitions:             102017\r\n",
       "Communication transitions:      22783\r\n",
       "Communication requests tested:  0\r\n",
       "Delay transitions:              2006\r\n",
       "\r\n",
       "Delay requests granted:         3087\r\n",
       "\r\n",
       "Garbage collection cleanup cycles: 24992\r\n",
       "Number of reclaimed objects:       0\r\n",
       "\r\n",
       "Virtual machine cycles: 11116573\r\n",
       "\r\n",
       "</pre>"
      ],
      "text/plain": [
       "<IPython.core.display.HTML object>"
      ]
     },
     "metadata": {},
     "output_type": "display_data"
    },
    {
     "data": {
      "text/html": [
       "<pre style=\"color:blue\">An exception occurred during run.\r\n",
       "Latency is diverging. Throughput constraint is not met.\r\n",
       "\r\n",
       "\r\n",
       "\r\n",
       "Real time:       2.427\r\n",
       "Steps:           171712\r\n",
       "Simulated time:  0.146899\r\n",
       "\r\n",
       "Fix requests granted:           0\r\n",
       "Action transitions:             133349\r\n",
       "Communication transitions:      35277\r\n",
       "Communication requests tested:  0\r\n",
       "Delay transitions:              3086\r\n",
       "\r\n",
       "Delay requests granted:         4756\r\n",
       "\r\n",
       "Garbage collection cleanup cycles: 28159\r\n",
       "Number of reclaimed objects:       708\r\n",
       "\r\n",
       "Virtual machine cycles: 28554877\r\n",
       "\r\n",
       "</pre>"
      ],
      "text/plain": [
       "<IPython.core.display.HTML object>"
      ]
     },
     "metadata": {},
     "output_type": "display_data"
    },
    {
     "data": {
      "text/html": [
       "<pre style=\"color:blue\">An exception occurred during run.\r\n",
       "Latency is diverging. Throughput constraint is not met.\r\n",
       "\r\n",
       "\r\n",
       "\r\n",
       "Real time:       2.286\r\n",
       "Steps:           140031\r\n",
       "Simulated time:  0.109821\r\n",
       "\r\n",
       "Fix requests granted:           0\r\n",
       "Action transitions:             111859\r\n",
       "Communication transitions:      25829\r\n",
       "Communication requests tested:  0\r\n",
       "Delay transitions:              2343\r\n",
       "\r\n",
       "Delay requests granted:         3495\r\n",
       "\r\n",
       "Garbage collection cleanup cycles: 26891\r\n",
       "Number of reclaimed objects:       0\r\n",
       "\r\n",
       "Virtual machine cycles: 23888904\r\n",
       "\r\n",
       "</pre>"
      ],
      "text/plain": [
       "<IPython.core.display.HTML object>"
      ]
     },
     "metadata": {},
     "output_type": "display_data"
    },
    {
     "data": {
      "text/html": [
       "<pre style=\"color:blue\">An exception occurred during run.\r\n",
       "Latency is diverging. Throughput constraint is not met.\r\n",
       "\r\n",
       "\r\n",
       "\r\n",
       "Real time:       1.526\r\n",
       "Steps:           110392\r\n",
       "Simulated time:  0.0866075\r\n",
       "\r\n",
       "Fix requests granted:           0\r\n",
       "Action transitions:             88934\r\n",
       "Communication transitions:      19757\r\n",
       "Communication requests tested:  0\r\n",
       "Delay transitions:              1701\r\n",
       "\r\n",
       "Delay requests granted:         2671\r\n",
       "\r\n",
       "Garbage collection cleanup cycles: 20262\r\n",
       "Number of reclaimed objects:       0\r\n",
       "\r\n",
       "Virtual machine cycles: 9679699\r\n",
       "\r\n",
       "</pre>"
      ],
      "text/plain": [
       "<IPython.core.display.HTML object>"
      ]
     },
     "metadata": {},
     "output_type": "display_data"
    },
    {
     "data": {
      "text/html": [
       "<pre style=\"color:blue\">An exception occurred during run.\r\n",
       "Latency is diverging. Throughput constraint is not met.\r\n",
       "\r\n",
       "\r\n",
       "\r\n",
       "Real time:       1.328\r\n",
       "Steps:           100217\r\n",
       "Simulated time:  0.0821353\r\n",
       "\r\n",
       "Fix requests granted:           0\r\n",
       "Action transitions:             80695\r\n",
       "Communication transitions:      17983\r\n",
       "Communication requests tested:  0\r\n",
       "Delay transitions:              1539\r\n",
       "\r\n",
       "Delay requests granted:         2426\r\n",
       "\r\n",
       "Garbage collection cleanup cycles: 18285\r\n",
       "Number of reclaimed objects:       0\r\n",
       "\r\n",
       "Virtual machine cycles: 9136416\r\n",
       "\r\n",
       "</pre>"
      ],
      "text/plain": [
       "<IPython.core.display.HTML object>"
      ]
     },
     "metadata": {},
     "output_type": "display_data"
    },
    {
     "data": {
      "text/html": [
       "<pre style=\"color:blue\">An exception occurred during run.\r\n",
       "Latency is diverging. Throughput constraint is not met.\r\n",
       "\r\n",
       "\r\n",
       "\r\n",
       "Real time:       2.391\r\n",
       "Steps:           182934\r\n",
       "Simulated time:  0.158192\r\n",
       "\r\n",
       "Fix requests granted:           0\r\n",
       "Action transitions:             141356\r\n",
       "Communication transitions:      38117\r\n",
       "Communication requests tested:  0\r\n",
       "Delay transitions:              3461\r\n",
       "\r\n",
       "Delay requests granted:         5146\r\n",
       "\r\n",
       "Garbage collection cleanup cycles: 29166\r\n",
       "Number of reclaimed objects:       726\r\n",
       "\r\n",
       "Virtual machine cycles: 30104420\r\n",
       "\r\n",
       "</pre>"
      ],
      "text/plain": [
       "<IPython.core.display.HTML object>"
      ]
     },
     "metadata": {},
     "output_type": "display_data"
    },
    {
     "data": {
      "text/html": [
       "<pre style=\"color:blue\">An exception occurred during run.\r\n",
       "Latency is diverging. Throughput constraint is not met.\r\n",
       "\r\n",
       "\r\n",
       "\r\n",
       "Real time:       2.12\r\n",
       "Steps:           132568\r\n",
       "Simulated time:  0.106083\r\n",
       "\r\n",
       "Fix requests granted:           0\r\n",
       "Action transitions:             106032\r\n",
       "Communication transitions:      24379\r\n",
       "Communication requests tested:  0\r\n",
       "Delay transitions:              2157\r\n",
       "\r\n",
       "Delay requests granted:         3297\r\n",
       "\r\n",
       "Garbage collection cleanup cycles: 26158\r\n",
       "Number of reclaimed objects:       0\r\n",
       "\r\n",
       "Virtual machine cycles: 24889009\r\n",
       "\r\n",
       "</pre>"
      ],
      "text/plain": [
       "<IPython.core.display.HTML object>"
      ]
     },
     "metadata": {},
     "output_type": "display_data"
    },
    {
     "data": {
      "text/html": [
       "<pre style=\"color:blue\">An exception occurred during run.\r\n",
       "Latency is diverging. Throughput constraint is not met.\r\n",
       "\r\n",
       "\r\n",
       "\r\n",
       "Real time:       2.326\r\n",
       "Steps:           189386\r\n",
       "Simulated time:  0.166171\r\n",
       "\r\n",
       "Fix requests granted:           0\r\n",
       "Action transitions:             145159\r\n",
       "Communication transitions:      40667\r\n",
       "Communication requests tested:  0\r\n",
       "Delay transitions:              3560\r\n",
       "\r\n",
       "Delay requests granted:         5468\r\n",
       "\r\n",
       "Garbage collection cleanup cycles: 27633\r\n",
       "Number of reclaimed objects:       1610\r\n",
       "\r\n",
       "Virtual machine cycles: 29567194\r\n",
       "\r\n",
       "</pre>"
      ],
      "text/plain": [
       "<IPython.core.display.HTML object>"
      ]
     },
     "metadata": {},
     "output_type": "display_data"
    },
    {
     "data": {
      "text/html": [
       "<pre style=\"color:blue\">An exception occurred during run.\r\n",
       "Latency is diverging. Throughput constraint is not met.\r\n",
       "\r\n",
       "\r\n",
       "\r\n",
       "Real time:       2.411\r\n",
       "Steps:           213678\r\n",
       "Simulated time:  0.194172\r\n",
       "\r\n",
       "Fix requests granted:           0\r\n",
       "Action transitions:             161804\r\n",
       "Communication transitions:      47561\r\n",
       "Communication requests tested:  0\r\n",
       "Delay transitions:              4313\r\n",
       "\r\n",
       "Delay requests granted:         6405\r\n",
       "\r\n",
       "Garbage collection cleanup cycles: 28240\r\n",
       "Number of reclaimed objects:       1848\r\n",
       "\r\n",
       "Virtual machine cycles: 32727457\r\n",
       "\r\n",
       "</pre>"
      ],
      "text/plain": [
       "<IPython.core.display.HTML object>"
      ]
     },
     "metadata": {},
     "output_type": "display_data"
    },
    {
     "data": {
      "text/html": [
       "<pre style=\"color:blue\">An exception occurred during run.\r\n",
       "Latency is diverging. Throughput constraint is not met.\r\n",
       "\r\n",
       "\r\n",
       "\r\n",
       "Real time:       1.146\r\n",
       "Steps:           96686\r\n",
       "Simulated time:  0.0782085\r\n",
       "\r\n",
       "Fix requests granted:           0\r\n",
       "Action transitions:             77971\r\n",
       "Communication transitions:      17310\r\n",
       "Communication requests tested:  0\r\n",
       "Delay transitions:              1405\r\n",
       "\r\n",
       "Delay requests granted:         2340\r\n",
       "\r\n",
       "Garbage collection cleanup cycles: 17433\r\n",
       "Number of reclaimed objects:       0\r\n",
       "\r\n",
       "Virtual machine cycles: 8554569\r\n",
       "\r\n",
       "</pre>"
      ],
      "text/plain": [
       "<IPython.core.display.HTML object>"
      ]
     },
     "metadata": {},
     "output_type": "display_data"
    },
    {
     "name": "stdout",
     "output_type": "stream",
     "text": [
      "Now simulating :  NodeProcessorType1 : \"Adreno\" NodeProcessorType2 : \"MIPS\" NodeProcessorType3 : \"Adreno\" NodeProcessorType4 : \"MIPS\" NodeProcessorType5 : \"Adreno\" NodeProcessorType6 : \"ARMv8\" VSF1 : 1.0 VSF2 : 1.0 VSF3 : 0.6666666666666666 VSF4 : 0.6666666666666666 VSF5 : 0.6666666666666666 VSF6 : 0.25 OSPolicy1 : \"PB\" OSPolicy2 : \"FCFS\" OSPolicy3 : \"PB\" OSPolicy4 : \"FCFS\" OSPolicy5 : \"PB\" OSPolicy6 : \"FCFS\"\n",
      "items left : 20 ,time last sim :  29.32 sec ,est time rem : 586.4670085906982 sec\n"
     ]
    },
    {
     "data": {
      "text/html": [
       "<pre style=\"color:blue\">An exception occurred during run.\r\n",
       "Latency is diverging. Throughput constraint is not met.\r\n",
       "\r\n",
       "\r\n",
       "\r\n",
       "Real time:       0.776\r\n",
       "Steps:           46123\r\n",
       "Simulated time:  0.0469415\r\n",
       "\r\n",
       "Fix requests granted:           0\r\n",
       "Action transitions:             37105\r\n",
       "Communication transitions:      8290\r\n",
       "Communication requests tested:  0\r\n",
       "Delay transitions:              728\r\n",
       "\r\n",
       "Delay requests granted:         1117\r\n",
       "\r\n",
       "Garbage collection cleanup cycles: 5390\r\n",
       "Number of reclaimed objects:       0\r\n",
       "\r\n",
       "Virtual machine cycles: 4928164\r\n",
       "\r\n",
       "</pre>"
      ],
      "text/plain": [
       "<IPython.core.display.HTML object>"
      ]
     },
     "metadata": {},
     "output_type": "display_data"
    },
    {
     "data": {
      "text/html": [
       "<pre style=\"color:blue\">An exception occurred during run.\r\n",
       "Latency is diverging. Throughput constraint is not met.\r\n",
       "\r\n",
       "\r\n",
       "\r\n",
       "Real time:       0.784\r\n",
       "Steps:           46828\r\n",
       "Simulated time:  0.0471877\r\n",
       "\r\n",
       "Fix requests granted:           0\r\n",
       "Action transitions:             37667\r\n",
       "Communication transitions:      8423\r\n",
       "Communication requests tested:  0\r\n",
       "Delay transitions:              738\r\n",
       "\r\n",
       "Delay requests granted:         1135\r\n",
       "\r\n",
       "Garbage collection cleanup cycles: 5497\r\n",
       "Number of reclaimed objects:       0\r\n",
       "\r\n",
       "Virtual machine cycles: 5132422\r\n",
       "\r\n",
       "</pre>"
      ],
      "text/plain": [
       "<IPython.core.display.HTML object>"
      ]
     },
     "metadata": {},
     "output_type": "display_data"
    },
    {
     "data": {
      "text/html": [
       "<pre style=\"color:blue\">An exception occurred during run.\r\n",
       "Latency is diverging. Throughput constraint is not met.\r\n",
       "\r\n",
       "\r\n",
       "\r\n",
       "Real time:       0.909\r\n",
       "Steps:           56719\r\n",
       "Simulated time:  0.0546284\r\n",
       "\r\n",
       "Fix requests granted:           0\r\n",
       "Action transitions:             45609\r\n",
       "Communication transitions:      10213\r\n",
       "Communication requests tested:  0\r\n",
       "Delay transitions:              897\r\n",
       "\r\n",
       "Delay requests granted:         1371\r\n",
       "\r\n",
       "Garbage collection cleanup cycles: 7463\r\n",
       "Number of reclaimed objects:       0\r\n",
       "\r\n",
       "Virtual machine cycles: 6078173\r\n",
       "\r\n",
       "</pre>"
      ],
      "text/plain": [
       "<IPython.core.display.HTML object>"
      ]
     },
     "metadata": {},
     "output_type": "display_data"
    },
    {
     "data": {
      "text/html": [
       "<pre style=\"color:blue\">An exception occurred during run.\r\n",
       "Latency is diverging. Throughput constraint is not met.\r\n",
       "\r\n",
       "\r\n",
       "\r\n",
       "Real time:       0.817\r\n",
       "Steps:           37273\r\n",
       "Simulated time:  0.0419321\r\n",
       "\r\n",
       "Fix requests granted:           0\r\n",
       "Action transitions:             30004\r\n",
       "Communication transitions:      6702\r\n",
       "Communication requests tested:  0\r\n",
       "Delay transitions:              567\r\n",
       "\r\n",
       "Delay requests granted:         907\r\n",
       "\r\n",
       "Garbage collection cleanup cycles: 3767\r\n",
       "Number of reclaimed objects:       0\r\n",
       "\r\n",
       "Virtual machine cycles: 3834250\r\n",
       "\r\n",
       "</pre>"
      ],
      "text/plain": [
       "<IPython.core.display.HTML object>"
      ]
     },
     "metadata": {},
     "output_type": "display_data"
    },
    {
     "data": {
      "text/html": [
       "<pre style=\"color:blue\">An exception occurred during run.\r\n",
       "Latency is diverging. Throughput constraint is not met.\r\n",
       "\r\n",
       "\r\n",
       "\r\n",
       "Real time:       1.041\r\n",
       "Steps:           64100\r\n",
       "Simulated time:  0.0587986\r\n",
       "\r\n",
       "Fix requests granted:           0\r\n",
       "Action transitions:             51504\r\n",
       "Communication transitions:      11557\r\n",
       "Communication requests tested:  0\r\n",
       "Delay transitions:              1039\r\n",
       "\r\n",
       "Delay requests granted:         1553\r\n",
       "\r\n",
       "Garbage collection cleanup cycles: 8891\r\n",
       "Number of reclaimed objects:       0\r\n",
       "\r\n",
       "Virtual machine cycles: 5930761\r\n",
       "\r\n",
       "</pre>"
      ],
      "text/plain": [
       "<IPython.core.display.HTML object>"
      ]
     },
     "metadata": {},
     "output_type": "display_data"
    },
    {
     "data": {
      "text/html": [
       "<pre style=\"color:blue\">An exception occurred during run.\r\n",
       "Latency is diverging. Throughput constraint is not met.\r\n",
       "\r\n",
       "\r\n",
       "\r\n",
       "Real time:       0.797\r\n",
       "Steps:           47086\r\n",
       "Simulated time:  0.0469947\r\n",
       "\r\n",
       "Fix requests granted:           0\r\n",
       "Action transitions:             37909\r\n",
       "Communication transitions:      8474\r\n",
       "Communication requests tested:  0\r\n",
       "Delay transitions:              703\r\n",
       "\r\n",
       "Delay requests granted:         1142\r\n",
       "\r\n",
       "Garbage collection cleanup cycles: 5617\r\n",
       "Number of reclaimed objects:       0\r\n",
       "\r\n",
       "Virtual machine cycles: 5025488\r\n",
       "\r\n",
       "</pre>"
      ],
      "text/plain": [
       "<IPython.core.display.HTML object>"
      ]
     },
     "metadata": {},
     "output_type": "display_data"
    },
    {
     "data": {
      "text/html": [
       "<pre style=\"color:blue\">An exception occurred during run.\r\n",
       "Latency is diverging. Throughput constraint is not met.\r\n",
       "\r\n",
       "\r\n",
       "\r\n",
       "Real time:       0.793\r\n",
       "Steps:           48686\r\n",
       "Simulated time:  0.0460621\r\n",
       "\r\n",
       "Fix requests granted:           0\r\n",
       "Action transitions:             39191\r\n",
       "Communication transitions:      8757\r\n",
       "Communication requests tested:  0\r\n",
       "Delay transitions:              738\r\n",
       "\r\n",
       "Delay requests granted:         1181\r\n",
       "\r\n",
       "Garbage collection cleanup cycles: 5949\r\n",
       "Number of reclaimed objects:       0\r\n",
       "\r\n",
       "Virtual machine cycles: 5140739\r\n",
       "\r\n",
       "</pre>"
      ],
      "text/plain": [
       "<IPython.core.display.HTML object>"
      ]
     },
     "metadata": {},
     "output_type": "display_data"
    },
    {
     "data": {
      "text/html": [
       "<pre style=\"color:blue\">An exception occurred during run.\r\n",
       "Latency is diverging. Throughput constraint is not met.\r\n",
       "\r\n",
       "\r\n",
       "\r\n",
       "Real time:       0.805\r\n",
       "Steps:           48416\r\n",
       "Simulated time:  0.0462064\r\n",
       "\r\n",
       "Fix requests granted:           0\r\n",
       "Action transitions:             38973\r\n",
       "Communication transitions:      8711\r\n",
       "Communication requests tested:  0\r\n",
       "Delay transitions:              732\r\n",
       "\r\n",
       "Delay requests granted:         1174\r\n",
       "\r\n",
       "Garbage collection cleanup cycles: 5856\r\n",
       "Number of reclaimed objects:       0\r\n",
       "\r\n",
       "Virtual machine cycles: 5155088\r\n",
       "\r\n",
       "</pre>"
      ],
      "text/plain": [
       "<IPython.core.display.HTML object>"
      ]
     },
     "metadata": {},
     "output_type": "display_data"
    },
    {
     "data": {
      "text/html": [
       "<pre style=\"color:blue\">An exception occurred during run.\r\n",
       "Latency is diverging. Throughput constraint is not met.\r\n",
       "\r\n",
       "\r\n",
       "\r\n",
       "Real time:       0.799\r\n",
       "Steps:           39113\r\n",
       "Simulated time:  0.0424844\r\n",
       "\r\n",
       "Fix requests granted:           0\r\n",
       "Action transitions:             31469\r\n",
       "Communication transitions:      7028\r\n",
       "Communication requests tested:  0\r\n",
       "Delay transitions:              616\r\n",
       "\r\n",
       "Delay requests granted:         953\r\n",
       "\r\n",
       "Garbage collection cleanup cycles: 4028\r\n",
       "Number of reclaimed objects:       0\r\n",
       "\r\n",
       "Virtual machine cycles: 3998514\r\n",
       "\r\n",
       "</pre>"
      ],
      "text/plain": [
       "<IPython.core.display.HTML object>"
      ]
     },
     "metadata": {},
     "output_type": "display_data"
    },
    {
     "data": {
      "text/html": [
       "<pre style=\"color:blue\">An exception occurred during run.\r\n",
       "Latency is diverging. Throughput constraint is not met.\r\n",
       "\r\n",
       "\r\n",
       "\r\n",
       "Real time:       1.111\r\n",
       "Steps:           70670\r\n",
       "Simulated time:  0.0633135\r\n",
       "\r\n",
       "Fix requests granted:           0\r\n",
       "Action transitions:             56812\r\n",
       "Communication transitions:      12723\r\n",
       "Communication requests tested:  0\r\n",
       "Delay transitions:              1135\r\n",
       "\r\n",
       "Delay requests granted:         1731\r\n",
       "\r\n",
       "Garbage collection cleanup cycles: 10538\r\n",
       "Number of reclaimed objects:       0\r\n",
       "\r\n",
       "Virtual machine cycles: 6629896\r\n",
       "\r\n",
       "</pre>"
      ],
      "text/plain": [
       "<IPython.core.display.HTML object>"
      ]
     },
     "metadata": {},
     "output_type": "display_data"
    },
    {
     "data": {
      "text/html": [
       "<pre style=\"color:blue\">An exception occurred during run.\r\n",
       "Latency is diverging. Throughput constraint is not met.\r\n",
       "\r\n",
       "\r\n",
       "\r\n",
       "Real time:       1.075\r\n",
       "Steps:           71167\r\n",
       "Simulated time:  0.0624935\r\n",
       "\r\n",
       "Fix requests granted:           0\r\n",
       "Action transitions:             57207\r\n",
       "Communication transitions:      12816\r\n",
       "Communication requests tested:  0\r\n",
       "Delay transitions:              1144\r\n",
       "\r\n",
       "Delay requests granted:         1743\r\n",
       "\r\n",
       "Garbage collection cleanup cycles: 10576\r\n",
       "Number of reclaimed objects:       0\r\n",
       "\r\n",
       "Virtual machine cycles: 6618533\r\n",
       "\r\n",
       "</pre>"
      ],
      "text/plain": [
       "<IPython.core.display.HTML object>"
      ]
     },
     "metadata": {},
     "output_type": "display_data"
    },
    {
     "name": "stdout",
     "output_type": "stream",
     "text": [
      "Now simulating :  NodeProcessorType1 : \"Adreno\" NodeProcessorType2 : \"Adreno\" NodeProcessorType3 : \"ARMv8\" NodeProcessorType4 : \"Adreno\" NodeProcessorType5 : \"Adreno\" NodeProcessorType6 : \"ARMv8\" VSF1 : 1.0 VSF2 : 1.0 VSF3 : 1.0 VSF4 : 0.6666666666666666 VSF5 : 0.6666666666666666 VSF6 : 0.25 OSPolicy1 : \"PB\" OSPolicy2 : \"FCFS\" OSPolicy3 : \"PB\" OSPolicy4 : \"FCFS\" OSPolicy5 : \"PB\" OSPolicy6 : \"FCFS\"\n",
      "items left : 19 ,time last sim :  16.17 sec ,est time rem : 307.1502788066864 sec\n"
     ]
    },
    {
     "data": {
      "text/html": [
       "<pre style=\"color:blue\">Real Time:          10.217 Steps:    2.22822e+006 Simulated Time:         2.37586\r\n",
       "\r\n",
       "\r\n",
       "Real time:       16\r\n",
       "Steps:           3622680\r\n",
       "Simulated time:  3.9\r\n",
       "\r\n",
       "Fix requests granted:           0\r\n",
       "Action transitions:             2467383\r\n",
       "Communication transitions:      1057989\r\n",
       "Communication requests tested:  0\r\n",
       "Delay transitions:              97308\r\n",
       "\r\n",
       "Delay requests granted:         141920\r\n",
       "\r\n",
       "Garbage collection cleanup cycles: 32877\r\n",
       "Number of reclaimed objects:       12558\r\n",
       "\r\n",
       "Virtual machine cycles: 320085337\r\n",
       "\r\n",
       "</pre>"
      ],
      "text/plain": [
       "<IPython.core.display.HTML object>"
      ]
     },
     "metadata": {},
     "output_type": "display_data"
    },
    {
     "data": {
      "text/html": [
       "<pre style=\"color:red\">All registered observers are activated. Caused by completion observer (MemoryDataNode1)\r\n",
       "</pre>"
      ],
      "text/plain": [
       "<IPython.core.display.HTML object>"
      ]
     },
     "metadata": {},
     "output_type": "display_data"
    },
    {
     "name": "stdout",
     "output_type": "stream",
     "text": [
      "Now simulating :  NodeProcessorType1 : \"MIPS\" NodeProcessorType2 : \"Adreno\" NodeProcessorType3 : \"MIPS\" NodeProcessorType4 : \"MIPS\" NodeProcessorType5 : \"Adreno\" NodeProcessorType6 : \"ARMv8\" VSF1 : 1.0 VSF2 : 1.0 VSF3 : 0.6666666666666666 VSF4 : 0.6666666666666666 VSF5 : 0.6666666666666666 VSF6 : 0.25 OSPolicy1 : \"PB\" OSPolicy2 : \"FCFS\" OSPolicy3 : \"PB\" OSPolicy4 : \"FCFS\" OSPolicy5 : \"PB\" OSPolicy6 : \"FCFS\"\n",
      "items left : 17 ,time last sim :  18.76 sec ,est time rem : 318.92770886421204 sec\n"
     ]
    },
    {
     "data": {
      "text/html": [
       "<pre style=\"color:blue\">An exception occurred during run.\r\n",
       "Latency is diverging. Throughput constraint is not met.\r\n",
       "\r\n",
       "\r\n",
       "\r\n",
       "Real time:       0.943\r\n",
       "Steps:           59198\r\n",
       "Simulated time:  0.0540862\r\n",
       "\r\n",
       "Fix requests granted:           0\r\n",
       "Action transitions:             47629\r\n",
       "Communication transitions:      10626\r\n",
       "Communication requests tested:  0\r\n",
       "Delay transitions:              943\r\n",
       "\r\n",
       "Delay requests granted:         1430\r\n",
       "\r\n",
       "Garbage collection cleanup cycles: 8094\r\n",
       "Number of reclaimed objects:       0\r\n",
       "\r\n",
       "Virtual machine cycles: 5573328\r\n",
       "\r\n",
       "</pre>"
      ],
      "text/plain": [
       "<IPython.core.display.HTML object>"
      ]
     },
     "metadata": {},
     "output_type": "display_data"
    },
    {
     "data": {
      "text/html": [
       "<pre style=\"color:blue\">An exception occurred during run.\r\n",
       "Latency is diverging. Throughput constraint is not met.\r\n",
       "\r\n",
       "\r\n",
       "\r\n",
       "Real time:       1.192\r\n",
       "Steps:           94071\r\n",
       "Simulated time:  0.076307\r\n",
       "\r\n",
       "Fix requests granted:           0\r\n",
       "Action transitions:             75792\r\n",
       "Communication transitions:      16816\r\n",
       "Communication requests tested:  0\r\n",
       "Delay transitions:              1463\r\n",
       "\r\n",
       "Delay requests granted:         2285\r\n",
       "\r\n",
       "Garbage collection cleanup cycles: 16461\r\n",
       "Number of reclaimed objects:       0\r\n",
       "\r\n",
       "Virtual machine cycles: 8793294\r\n",
       "\r\n",
       "</pre>"
      ],
      "text/plain": [
       "<IPython.core.display.HTML object>"
      ]
     },
     "metadata": {},
     "output_type": "display_data"
    },
    {
     "data": {
      "text/html": [
       "<pre style=\"color:blue\">An exception occurred during run.\r\n",
       "Latency is diverging. Throughput constraint is not met.\r\n",
       "\r\n",
       "\r\n",
       "\r\n",
       "Real time:       2.296\r\n",
       "Steps:           176868\r\n",
       "Simulated time:  0.152407\r\n",
       "\r\n",
       "Fix requests granted:           0\r\n",
       "Action transitions:             136780\r\n",
       "Communication transitions:      36843\r\n",
       "Communication requests tested:  0\r\n",
       "Delay transitions:              3245\r\n",
       "\r\n",
       "Delay requests granted:         4976\r\n",
       "\r\n",
       "Garbage collection cleanup cycles: 28582\r\n",
       "Number of reclaimed objects:       0\r\n",
       "\r\n",
       "Virtual machine cycles: 27585941\r\n",
       "\r\n",
       "</pre>"
      ],
      "text/plain": [
       "<IPython.core.display.HTML object>"
      ]
     },
     "metadata": {},
     "output_type": "display_data"
    },
    {
     "data": {
      "text/html": [
       "<pre style=\"color:blue\">An exception occurred during run.\r\n",
       "Latency is diverging. Throughput constraint is not met.\r\n",
       "\r\n",
       "\r\n",
       "\r\n",
       "Real time:       1.368\r\n",
       "Steps:           96749\r\n",
       "Simulated time:  0.0783011\r\n",
       "\r\n",
       "Fix requests granted:           0\r\n",
       "Action transitions:             77847\r\n",
       "Communication transitions:      17396\r\n",
       "Communication requests tested:  0\r\n",
       "Delay transitions:              1506\r\n",
       "\r\n",
       "Delay requests granted:         2349\r\n",
       "\r\n",
       "Garbage collection cleanup cycles: 17670\r\n",
       "Number of reclaimed objects:       0\r\n",
       "\r\n",
       "Virtual machine cycles: 9070606\r\n",
       "\r\n",
       "</pre>"
      ],
      "text/plain": [
       "<IPython.core.display.HTML object>"
      ]
     },
     "metadata": {},
     "output_type": "display_data"
    },
    {
     "data": {
      "text/html": [
       "<pre style=\"color:blue\">An exception occurred during run.\r\n",
       "Latency is diverging. Throughput constraint is not met.\r\n",
       "\r\n",
       "\r\n",
       "\r\n",
       "Real time:       1.015\r\n",
       "Steps:           70642\r\n",
       "Simulated time:  0.062586\r\n",
       "\r\n",
       "Fix requests granted:           0\r\n",
       "Action transitions:             56890\r\n",
       "Communication transitions:      12700\r\n",
       "Communication requests tested:  0\r\n",
       "Delay transitions:              1052\r\n",
       "\r\n",
       "Delay requests granted:         1721\r\n",
       "\r\n",
       "Garbage collection cleanup cycles: 11261\r\n",
       "Number of reclaimed objects:       0\r\n",
       "\r\n",
       "Virtual machine cycles: 6436401\r\n",
       "\r\n",
       "</pre>"
      ],
      "text/plain": [
       "<IPython.core.display.HTML object>"
      ]
     },
     "metadata": {},
     "output_type": "display_data"
    },
    {
     "data": {
      "text/html": [
       "<pre style=\"color:blue\">An exception occurred during run.\r\n",
       "Latency is diverging. Throughput constraint is not met.\r\n",
       "\r\n",
       "\r\n",
       "\r\n",
       "Real time:       1.169\r\n",
       "Steps:           76507\r\n",
       "Simulated time:  0.0662581\r\n",
       "\r\n",
       "Fix requests granted:           0\r\n",
       "Action transitions:             61608\r\n",
       "Communication transitions:      13724\r\n",
       "Communication requests tested:  0\r\n",
       "Delay transitions:              1175\r\n",
       "\r\n",
       "Delay requests granted:         1867\r\n",
       "\r\n",
       "Garbage collection cleanup cycles: 12174\r\n",
       "Number of reclaimed objects:       0\r\n",
       "\r\n",
       "Virtual machine cycles: 7048679\r\n",
       "\r\n",
       "</pre>"
      ],
      "text/plain": [
       "<IPython.core.display.HTML object>"
      ]
     },
     "metadata": {},
     "output_type": "display_data"
    },
    {
     "data": {
      "text/html": [
       "<pre style=\"color:blue\">An exception occurred during run.\r\n",
       "Latency is diverging. Throughput constraint is not met.\r\n",
       "\r\n",
       "\r\n",
       "\r\n",
       "Real time:       1.198\r\n",
       "Steps:           89085\r\n",
       "Simulated time:  0.074521\r\n",
       "\r\n",
       "Fix requests granted:           0\r\n",
       "Action transitions:             71711\r\n",
       "Communication transitions:      16000\r\n",
       "Communication requests tested:  0\r\n",
       "Delay transitions:              1374\r\n",
       "\r\n",
       "Delay requests granted:         2168\r\n",
       "\r\n",
       "Garbage collection cleanup cycles: 15325\r\n",
       "Number of reclaimed objects:       0\r\n",
       "\r\n",
       "Virtual machine cycles: 8159233\r\n",
       "\r\n",
       "</pre>"
      ],
      "text/plain": [
       "<IPython.core.display.HTML object>"
      ]
     },
     "metadata": {},
     "output_type": "display_data"
    },
    {
     "data": {
      "text/html": [
       "<pre style=\"color:blue\">An exception occurred during run.\r\n",
       "Latency is diverging. Throughput constraint is not met.\r\n",
       "\r\n",
       "\r\n",
       "\r\n",
       "Real time:       1.127\r\n",
       "Steps:           88740\r\n",
       "Simulated time:  0.0742022\r\n",
       "\r\n",
       "Fix requests granted:           0\r\n",
       "Action transitions:             71419\r\n",
       "Communication transitions:      15947\r\n",
       "Communication requests tested:  0\r\n",
       "Delay transitions:              1374\r\n",
       "\r\n",
       "Delay requests granted:         2164\r\n",
       "\r\n",
       "Garbage collection cleanup cycles: 15308\r\n",
       "Number of reclaimed objects:       0\r\n",
       "\r\n",
       "Virtual machine cycles: 8166460\r\n",
       "\r\n",
       "</pre>"
      ],
      "text/plain": [
       "<IPython.core.display.HTML object>"
      ]
     },
     "metadata": {},
     "output_type": "display_data"
    },
    {
     "data": {
      "text/html": [
       "<pre style=\"color:blue\">An exception occurred during run.\r\n",
       "Latency is diverging. Throughput constraint is not met.\r\n",
       "\r\n",
       "\r\n",
       "\r\n",
       "Real time:       1.039\r\n",
       "Steps:           72283\r\n",
       "Simulated time:  0.0621071\r\n",
       "\r\n",
       "Fix requests granted:           0\r\n",
       "Action transitions:             58265\r\n",
       "Communication transitions:      12914\r\n",
       "Communication requests tested:  0\r\n",
       "Delay transitions:              1104\r\n",
       "\r\n",
       "Delay requests granted:         1764\r\n",
       "\r\n",
       "Garbage collection cleanup cycles: 11124\r\n",
       "Number of reclaimed objects:       0\r\n",
       "\r\n",
       "Virtual machine cycles: 6459993\r\n",
       "\r\n",
       "</pre>"
      ],
      "text/plain": [
       "<IPython.core.display.HTML object>"
      ]
     },
     "metadata": {},
     "output_type": "display_data"
    },
    {
     "data": {
      "text/html": [
       "<pre style=\"color:blue\">An exception occurred during run.\r\n",
       "Latency is diverging. Throughput constraint is not met.\r\n",
       "\r\n",
       "\r\n",
       "\r\n",
       "Real time:       0.778\r\n",
       "Steps:           57777\r\n",
       "Simulated time:  0.0536088\r\n",
       "\r\n",
       "Fix requests granted:           0\r\n",
       "Action transitions:             46548\r\n",
       "Communication transitions:      10353\r\n",
       "Communication requests tested:  0\r\n",
       "Delay transitions:              876\r\n",
       "\r\n",
       "Delay requests granted:         1398\r\n",
       "\r\n",
       "Garbage collection cleanup cycles: 7947\r\n",
       "Number of reclaimed objects:       0\r\n",
       "\r\n",
       "Virtual machine cycles: 5510107\r\n",
       "\r\n",
       "</pre>"
      ],
      "text/plain": [
       "<IPython.core.display.HTML object>"
      ]
     },
     "metadata": {},
     "output_type": "display_data"
    },
    {
     "data": {
      "text/html": [
       "<pre style=\"color:blue\">An exception occurred during run.\r\n",
       "Latency is diverging. Throughput constraint is not met.\r\n",
       "\r\n",
       "\r\n",
       "\r\n",
       "Real time:       0.96\r\n",
       "Steps:           60292\r\n",
       "Simulated time:  0.0549624\r\n",
       "\r\n",
       "Fix requests granted:           0\r\n",
       "Action transitions:             48564\r\n",
       "Communication transitions:      10815\r\n",
       "Communication requests tested:  0\r\n",
       "Delay transitions:              913\r\n",
       "\r\n",
       "Delay requests granted:         1459\r\n",
       "\r\n",
       "Garbage collection cleanup cycles: 8523\r\n",
       "Number of reclaimed objects:       0\r\n",
       "\r\n",
       "Virtual machine cycles: 5818464\r\n",
       "\r\n",
       "</pre>"
      ],
      "text/plain": [
       "<IPython.core.display.HTML object>"
      ]
     },
     "metadata": {},
     "output_type": "display_data"
    },
    {
     "name": "stdout",
     "output_type": "stream",
     "text": [
      "Now simulating :  NodeProcessorType1 : \"ARMv8\" NodeProcessorType2 : \"Adreno\" NodeProcessorType3 : \"MIPS\" NodeProcessorType4 : \"Adreno\" NodeProcessorType5 : \"Adreno\" NodeProcessorType6 : \"ARMv8\" VSF1 : 0.6666666666666666 VSF2 : 1.0 VSF3 : 0.6666666666666666 VSF4 : 0.6666666666666666 VSF5 : 0.6666666666666666 VSF6 : 0.25 OSPolicy1 : \"PB\" OSPolicy2 : \"FCFS\" OSPolicy3 : \"PB\" OSPolicy4 : \"FCFS\" OSPolicy5 : \"PB\" OSPolicy6 : \"PB\"\n",
      "items left : 16 ,time last sim :  19.58 sec ,est time rem : 313.3419876098633 sec\n"
     ]
    },
    {
     "data": {
      "text/html": [
       "<pre style=\"color:blue\">An exception occurred during run.\r\n",
       "Latency is diverging. Throughput constraint is not met.\r\n",
       "\r\n",
       "\r\n",
       "\r\n",
       "Real time:       1.09\r\n",
       "Steps:           46403\r\n",
       "Simulated time:  0.0480063\r\n",
       "\r\n",
       "Fix requests granted:           0\r\n",
       "Action transitions:             37325\r\n",
       "Communication transitions:      8324\r\n",
       "Communication requests tested:  0\r\n",
       "Delay transitions:              754\r\n",
       "\r\n",
       "Delay requests granted:         1123\r\n",
       "\r\n",
       "Garbage collection cleanup cycles: 5263\r\n",
       "Number of reclaimed objects:       0\r\n",
       "\r\n",
       "Virtual machine cycles: 4232792\r\n",
       "\r\n",
       "</pre>"
      ],
      "text/plain": [
       "<IPython.core.display.HTML object>"
      ]
     },
     "metadata": {},
     "output_type": "display_data"
    },
    {
     "data": {
      "text/html": [
       "<pre style=\"color:blue\">An exception occurred during run.\r\n",
       "Latency is diverging. Throughput constraint is not met.\r\n",
       "\r\n",
       "\r\n",
       "\r\n",
       "Real time:       0.842\r\n",
       "Steps:           46880\r\n",
       "Simulated time:  0.0497242\r\n",
       "\r\n",
       "Fix requests granted:           0\r\n",
       "Action transitions:             37748\r\n",
       "Communication transitions:      8404\r\n",
       "Communication requests tested:  0\r\n",
       "Delay transitions:              728\r\n",
       "\r\n",
       "Delay requests granted:         1139\r\n",
       "\r\n",
       "Garbage collection cleanup cycles: 5563\r\n",
       "Number of reclaimed objects:       0\r\n",
       "\r\n",
       "Virtual machine cycles: 4950886\r\n",
       "\r\n",
       "</pre>"
      ],
      "text/plain": [
       "<IPython.core.display.HTML object>"
      ]
     },
     "metadata": {},
     "output_type": "display_data"
    },
    {
     "data": {
      "text/html": [
       "<pre style=\"color:blue\">An exception occurred during run.\r\n",
       "Latency is diverging. Throughput constraint is not met.\r\n",
       "\r\n",
       "\r\n",
       "\r\n",
       "Real time:       0.525\r\n",
       "Steps:           27157\r\n",
       "Simulated time:  0.0328694\r\n",
       "\r\n",
       "Fix requests granted:           0\r\n",
       "Action transitions:             21935\r\n",
       "Communication transitions:      4800\r\n",
       "Communication requests tested:  0\r\n",
       "Delay transitions:              422\r\n",
       "\r\n",
       "Delay requests granted:         667\r\n",
       "\r\n",
       "Garbage collection cleanup cycles: 2190\r\n",
       "Number of reclaimed objects:       0\r\n",
       "\r\n",
       "Virtual machine cycles: 2641864\r\n",
       "\r\n",
       "</pre>"
      ],
      "text/plain": [
       "<IPython.core.display.HTML object>"
      ]
     },
     "metadata": {},
     "output_type": "display_data"
    },
    {
     "data": {
      "text/html": [
       "<pre style=\"color:blue\">An exception occurred during run.\r\n",
       "Latency is diverging. Throughput constraint is not met.\r\n",
       "\r\n",
       "\r\n",
       "\r\n",
       "Real time:       1.432\r\n",
       "Steps:           104711\r\n",
       "Simulated time:  0.0842542\r\n",
       "\r\n",
       "Fix requests granted:           0\r\n",
       "Action transitions:             84195\r\n",
       "Communication transitions:      18862\r\n",
       "Communication requests tested:  0\r\n",
       "Delay transitions:              1654\r\n",
       "\r\n",
       "Delay requests granted:         2542\r\n",
       "\r\n",
       "Garbage collection cleanup cycles: 19613\r\n",
       "Number of reclaimed objects:       0\r\n",
       "\r\n",
       "Virtual machine cycles: 10192842\r\n",
       "\r\n",
       "</pre>"
      ],
      "text/plain": [
       "<IPython.core.display.HTML object>"
      ]
     },
     "metadata": {},
     "output_type": "display_data"
    },
    {
     "data": {
      "text/html": [
       "<pre style=\"color:blue\">An exception occurred during run.\r\n",
       "Latency is diverging. Throughput constraint is not met.\r\n",
       "\r\n",
       "\r\n",
       "\r\n",
       "Real time:       1.215\r\n",
       "Steps:           103637\r\n",
       "Simulated time:  0.0841945\r\n",
       "\r\n",
       "Fix requests granted:           0\r\n",
       "Action transitions:             83362\r\n",
       "Communication transitions:      18630\r\n",
       "Communication requests tested:  0\r\n",
       "Delay transitions:              1645\r\n",
       "\r\n",
       "Delay requests granted:         2511\r\n",
       "\r\n",
       "Garbage collection cleanup cycles: 19288\r\n",
       "Number of reclaimed objects:       0\r\n",
       "\r\n",
       "Virtual machine cycles: 9816831\r\n",
       "\r\n",
       "</pre>"
      ],
      "text/plain": [
       "<IPython.core.display.HTML object>"
      ]
     },
     "metadata": {},
     "output_type": "display_data"
    },
    {
     "data": {
      "text/html": [
       "<pre style=\"color:blue\">An exception occurred during run.\r\n",
       "Latency is diverging. Throughput constraint is not met.\r\n",
       "\r\n",
       "\r\n",
       "\r\n",
       "Real time:       0.801\r\n",
       "Steps:           41662\r\n",
       "Simulated time:  0.0423282\r\n",
       "\r\n",
       "Fix requests granted:           0\r\n",
       "Action transitions:             33568\r\n",
       "Communication transitions:      7457\r\n",
       "Communication requests tested:  0\r\n",
       "Delay transitions:              637\r\n",
       "\r\n",
       "Delay requests granted:         1013\r\n",
       "\r\n",
       "Garbage collection cleanup cycles: 4672\r\n",
       "Number of reclaimed objects:       0\r\n",
       "\r\n",
       "Virtual machine cycles: 3836886\r\n",
       "\r\n",
       "</pre>"
      ],
      "text/plain": [
       "<IPython.core.display.HTML object>"
      ]
     },
     "metadata": {},
     "output_type": "display_data"
    },
    {
     "data": {
      "text/html": [
       "<pre style=\"color:blue\">An exception occurred during run.\r\n",
       "Latency is diverging. Throughput constraint is not met.\r\n",
       "\r\n",
       "\r\n",
       "\r\n",
       "Real time:       1.175\r\n",
       "Steps:           86967\r\n",
       "Simulated time:  0.0745488\r\n",
       "\r\n",
       "Fix requests granted:           0\r\n",
       "Action transitions:             69899\r\n",
       "Communication transitions:      15691\r\n",
       "Communication requests tested:  0\r\n",
       "Delay transitions:              1377\r\n",
       "\r\n",
       "Delay requests granted:         2123\r\n",
       "\r\n",
       "Garbage collection cleanup cycles: 14200\r\n",
       "Number of reclaimed objects:       0\r\n",
       "\r\n",
       "Virtual machine cycles: 8217424\r\n",
       "\r\n",
       "</pre>"
      ],
      "text/plain": [
       "<IPython.core.display.HTML object>"
      ]
     },
     "metadata": {},
     "output_type": "display_data"
    },
    {
     "data": {
      "text/html": [
       "<pre style=\"color:blue\">An exception occurred during run.\r\n",
       "Latency is diverging. Throughput constraint is not met.\r\n",
       "\r\n",
       "\r\n",
       "\r\n",
       "Real time:       0.521\r\n",
       "Steps:           29643\r\n",
       "Simulated time:  0.0347776\r\n",
       "\r\n",
       "Fix requests granted:           0\r\n",
       "Action transitions:             23911\r\n",
       "Communication transitions:      5265\r\n",
       "Communication requests tested:  0\r\n",
       "Delay transitions:              467\r\n",
       "\r\n",
       "Delay requests granted:         733\r\n",
       "\r\n",
       "Garbage collection cleanup cycles: 2496\r\n",
       "Number of reclaimed objects:       0\r\n",
       "\r\n",
       "Virtual machine cycles: 2932903\r\n",
       "\r\n",
       "</pre>"
      ],
      "text/plain": [
       "<IPython.core.display.HTML object>"
      ]
     },
     "metadata": {},
     "output_type": "display_data"
    },
    {
     "data": {
      "text/html": [
       "<pre style=\"color:blue\">An exception occurred during run.\r\n",
       "Latency is diverging. Throughput constraint is not met.\r\n",
       "\r\n",
       "\r\n",
       "\r\n",
       "Real time:       0.52\r\n",
       "Steps:           29488\r\n",
       "Simulated time:  0.0350601\r\n",
       "\r\n",
       "Fix requests granted:           0\r\n",
       "Action transitions:             23787\r\n",
       "Communication transitions:      5236\r\n",
       "Communication requests tested:  0\r\n",
       "Delay transitions:              465\r\n",
       "\r\n",
       "Delay requests granted:         728\r\n",
       "\r\n",
       "Garbage collection cleanup cycles: 2453\r\n",
       "Number of reclaimed objects:       0\r\n",
       "\r\n",
       "Virtual machine cycles: 2960492\r\n",
       "\r\n",
       "</pre>"
      ],
      "text/plain": [
       "<IPython.core.display.HTML object>"
      ]
     },
     "metadata": {},
     "output_type": "display_data"
    },
    {
     "data": {
      "text/html": [
       "<pre style=\"color:blue\">An exception occurred during run.\r\n",
       "Latency is diverging. Throughput constraint is not met.\r\n",
       "\r\n",
       "\r\n",
       "\r\n",
       "Real time:       0.52\r\n",
       "Steps:           29897\r\n",
       "Simulated time:  0.0342266\r\n",
       "\r\n",
       "Fix requests granted:           0\r\n",
       "Action transitions:             24116\r\n",
       "Communication transitions:      5311\r\n",
       "Communication requests tested:  0\r\n",
       "Delay transitions:              470\r\n",
       "\r\n",
       "Delay requests granted:         739\r\n",
       "\r\n",
       "Garbage collection cleanup cycles: 2517\r\n",
       "Number of reclaimed objects:       0\r\n",
       "\r\n",
       "Virtual machine cycles: 2934068\r\n",
       "\r\n",
       "</pre>"
      ],
      "text/plain": [
       "<IPython.core.display.HTML object>"
      ]
     },
     "metadata": {},
     "output_type": "display_data"
    },
    {
     "data": {
      "text/html": [
       "<pre style=\"color:blue\">An exception occurred during run.\r\n",
       "Latency is diverging. Throughput constraint is not met.\r\n",
       "\r\n",
       "\r\n",
       "\r\n",
       "Real time:       0.52\r\n",
       "Steps:           29897\r\n",
       "Simulated time:  0.0342266\r\n",
       "\r\n",
       "Fix requests granted:           0\r\n",
       "Action transitions:             24116\r\n",
       "Communication transitions:      5311\r\n",
       "Communication requests tested:  0\r\n",
       "Delay transitions:              470\r\n",
       "\r\n",
       "Delay requests granted:         739\r\n",
       "\r\n",
       "Garbage collection cleanup cycles: 2517\r\n",
       "Number of reclaimed objects:       0\r\n",
       "\r\n",
       "Virtual machine cycles: 2934068\r\n",
       "\r\n",
       "</pre>"
      ],
      "text/plain": [
       "<IPython.core.display.HTML object>"
      ]
     },
     "metadata": {},
     "output_type": "display_data"
    },
    {
     "name": "stdout",
     "output_type": "stream",
     "text": [
      "Now simulating :  NodeProcessorType1 : \"Adreno\" NodeProcessorType2 : \"Adreno\" NodeProcessorType3 : \"Adreno\" NodeProcessorType4 : \"Adreno\" NodeProcessorType5 : \"Adreno\" NodeProcessorType6 : \"ARMv8\" VSF1 : 1.0 VSF2 : 1.0 VSF3 : 1.0 VSF4 : 1.0 VSF5 : 0.6666666666666666 VSF6 : 1.0 OSPolicy1 : \"PB\" OSPolicy2 : \"FCFS\" OSPolicy3 : \"PB\" OSPolicy4 : \"FCFS\" OSPolicy5 : \"PB\" OSPolicy6 : \"FCFS\"\n",
      "items left : 15 ,time last sim :  16.20 sec ,est time rem : 243.04274439811707 sec\n"
     ]
    },
    {
     "data": {
      "text/html": [
       "<pre style=\"color:blue\">Real Time:           5.998 Steps:    1.31072e+006 Simulated Time:         1.46829\r\n",
       "An exception occurred during run.\r\n",
       "Latency is diverging. Throughput constraint is not met.\r\n",
       "\r\n",
       "\r\n",
       "\r\n",
       "Real time:       8.275\r\n",
       "Steps:           1903920\r\n",
       "Simulated time:  2.16637\r\n",
       "\r\n",
       "Fix requests granted:           0\r\n",
       "Action transitions:             1305249\r\n",
       "Communication transitions:      553659\r\n",
       "Communication requests tested:  0\r\n",
       "Delay transitions:              45012\r\n",
       "\r\n",
       "Delay requests granted:         73513\r\n",
       "\r\n",
       "Garbage collection cleanup cycles: 30921\r\n",
       "Number of reclaimed objects:       6788\r\n",
       "\r\n",
       "Virtual machine cycles: 156887328\r\n",
       "\r\n",
       "</pre>"
      ],
      "text/plain": [
       "<IPython.core.display.HTML object>"
      ]
     },
     "metadata": {},
     "output_type": "display_data"
    },
    {
     "data": {
      "text/html": [
       "<pre style=\"color:blue\">Real Time:           3.618 Steps:          524288 Simulated Time:        0.539203\r\n",
       "Real Time:          18.328 Steps:    4.71859e+006 Simulated Time:         5.41896\r\n",
       "Real Time:          24.753 Steps:     6.5536e+006 Simulated Time:         7.55406\r\n",
       "Real Time:          31.169 Steps:    8.38861e+006 Simulated Time:         9.68821\r\n",
       "Real Time:          43.176 Steps:    1.17965e+007 Simulated Time:         13.6508\r\n",
       "\r\n",
       "\r\n",
       "Real time:       47.423\r\n",
       "Steps:           12850102\r\n",
       "Simulated time:  14.88\r\n",
       "\r\n",
       "Fix requests granted:           0\r\n",
       "Action transitions:             8689022\r\n",
       "Communication transitions:      3828340\r\n",
       "Communication requests tested:  0\r\n",
       "Delay transitions:              332740\r\n",
       "\r\n",
       "Delay requests granted:         510716\r\n",
       "\r\n",
       "Garbage collection cleanup cycles: 31532\r\n",
       "Number of reclaimed objects:       17947\r\n",
       "\r\n",
       "Virtual machine cycles: 1028746160\r\n",
       "\r\n",
       "</pre>"
      ],
      "text/plain": [
       "<IPython.core.display.HTML object>"
      ]
     },
     "metadata": {},
     "output_type": "display_data"
    },
    {
     "data": {
      "text/html": [
       "<pre style=\"color:red\">All registered observers are activated. Caused by completion observer (MemoryBufferNode1)\r\n",
       "</pre>"
      ],
      "text/plain": [
       "<IPython.core.display.HTML object>"
      ]
     },
     "metadata": {},
     "output_type": "display_data"
    },
    {
     "name": "stdout",
     "output_type": "stream",
     "text": [
      "Now simulating :  NodeProcessorType1 : \"Adreno\" NodeProcessorType2 : \"Adreno\" NodeProcessorType3 : \"Adreno\" NodeProcessorType4 : \"Adreno\" NodeProcessorType5 : \"Adreno\" NodeProcessorType6 : \"ARMv8\" VSF1 : 1.0 VSF2 : 1.0 VSF3 : 0.6666666666666666 VSF4 : 0.6666666666666666 VSF5 : 0.6666666666666666 VSF6 : 0.25 OSPolicy1 : \"PB\" OSPolicy2 : \"FCFS\" OSPolicy3 : \"PB\" OSPolicy4 : \"FCFS\" OSPolicy5 : \"PB\" OSPolicy6 : \"PB\"\n",
      "items left : 12 ,time last sim :  59.99 sec ,est time rem : 719.8776941299438 sec\n"
     ]
    },
    {
     "data": {
      "text/html": [
       "<pre style=\"color:blue\">An exception occurred during run.\r\n",
       "Latency is diverging. Throughput constraint is not met.\r\n",
       "\r\n",
       "\r\n",
       "\r\n",
       "Real time:       3.02\r\n",
       "Steps:           238551\r\n",
       "Simulated time:  0.220191\r\n",
       "\r\n",
       "Fix requests granted:           0\r\n",
       "Action transitions:             178889\r\n",
       "Communication transitions:      54902\r\n",
       "Communication requests tested:  0\r\n",
       "Delay transitions:              4760\r\n",
       "\r\n",
       "Delay requests granted:         7384\r\n",
       "\r\n",
       "Garbage collection cleanup cycles: 28696\r\n",
       "Number of reclaimed objects:       28789\r\n",
       "\r\n",
       "Virtual machine cycles: 44342440\r\n",
       "\r\n",
       "</pre>"
      ],
      "text/plain": [
       "<IPython.core.display.HTML object>"
      ]
     },
     "metadata": {},
     "output_type": "display_data"
    },
    {
     "data": {
      "text/html": [
       "<pre style=\"color:blue\">An exception occurred during run.\r\n",
       "Latency is diverging. Throughput constraint is not met.\r\n",
       "\r\n",
       "\r\n",
       "\r\n",
       "Real time:       0.998\r\n",
       "Steps:           60896\r\n",
       "Simulated time:  0.0581391\r\n",
       "\r\n",
       "Fix requests granted:           0\r\n",
       "Action transitions:             49037\r\n",
       "Communication transitions:      10987\r\n",
       "Communication requests tested:  0\r\n",
       "Delay transitions:              872\r\n",
       "\r\n",
       "Delay requests granted:         1474\r\n",
       "\r\n",
       "Garbage collection cleanup cycles: 8555\r\n",
       "Number of reclaimed objects:       0\r\n",
       "\r\n",
       "Virtual machine cycles: 5886825\r\n",
       "\r\n",
       "</pre>"
      ],
      "text/plain": [
       "<IPython.core.display.HTML object>"
      ]
     },
     "metadata": {},
     "output_type": "display_data"
    },
    {
     "data": {
      "text/html": [
       "<pre style=\"color:blue\">An exception occurred during run.\r\n",
       "Latency is diverging. Throughput constraint is not met.\r\n",
       "\r\n",
       "\r\n",
       "\r\n",
       "Real time:       1.402\r\n",
       "Steps:           120272\r\n",
       "Simulated time:  0.0940189\r\n",
       "\r\n",
       "Fix requests granted:           0\r\n",
       "Action transitions:             96833\r\n",
       "Communication transitions:      21516\r\n",
       "Communication requests tested:  0\r\n",
       "Delay transitions:              1923\r\n",
       "\r\n",
       "Delay requests granted:         2922\r\n",
       "\r\n",
       "Garbage collection cleanup cycles: 23586\r\n",
       "Number of reclaimed objects:       0\r\n",
       "\r\n",
       "Virtual machine cycles: 11204457\r\n",
       "\r\n",
       "</pre>"
      ],
      "text/plain": [
       "<IPython.core.display.HTML object>"
      ]
     },
     "metadata": {},
     "output_type": "display_data"
    },
    {
     "data": {
      "text/html": [
       "<pre style=\"color:blue\">An exception occurred during run.\r\n",
       "Latency is diverging. Throughput constraint is not met.\r\n",
       "\r\n",
       "\r\n",
       "\r\n",
       "Real time:       2.054\r\n",
       "Steps:           129539\r\n",
       "Simulated time:  0.10033\r\n",
       "\r\n",
       "Fix requests granted:           0\r\n",
       "Action transitions:             104253\r\n",
       "Communication transitions:      23161\r\n",
       "Communication requests tested:  0\r\n",
       "Delay transitions:              2125\r\n",
       "\r\n",
       "Delay requests granted:         3141\r\n",
       "\r\n",
       "Garbage collection cleanup cycles: 25759\r\n",
       "Number of reclaimed objects:       445\r\n",
       "\r\n",
       "Virtual machine cycles: 21968328\r\n",
       "\r\n",
       "</pre>"
      ],
      "text/plain": [
       "<IPython.core.display.HTML object>"
      ]
     },
     "metadata": {},
     "output_type": "display_data"
    },
    {
     "data": {
      "text/html": [
       "<pre style=\"color:blue\">An exception occurred during run.\r\n",
       "Latency is diverging. Throughput constraint is not met.\r\n",
       "\r\n",
       "\r\n",
       "\r\n",
       "Real time:       1.184\r\n",
       "Steps:           104499\r\n",
       "Simulated time:  0.0842492\r\n",
       "\r\n",
       "Fix requests granted:           0\r\n",
       "Action transitions:             84066\r\n",
       "Communication transitions:      18812\r\n",
       "Communication requests tested:  0\r\n",
       "Delay transitions:              1621\r\n",
       "\r\n",
       "Delay requests granted:         2529\r\n",
       "\r\n",
       "Garbage collection cleanup cycles: 19331\r\n",
       "Number of reclaimed objects:       0\r\n",
       "\r\n",
       "Virtual machine cycles: 9546305\r\n",
       "\r\n",
       "</pre>"
      ],
      "text/plain": [
       "<IPython.core.display.HTML object>"
      ]
     },
     "metadata": {},
     "output_type": "display_data"
    },
    {
     "data": {
      "text/html": [
       "<pre style=\"color:blue\">An exception occurred during run.\r\n",
       "Latency is diverging. Throughput constraint is not met.\r\n",
       "\r\n",
       "\r\n",
       "\r\n",
       "Real time:       1.286\r\n",
       "Steps:           97698\r\n",
       "Simulated time:  0.0809436\r\n",
       "\r\n",
       "Fix requests granted:           0\r\n",
       "Action transitions:             78642\r\n",
       "Communication transitions:      17547\r\n",
       "Communication requests tested:  0\r\n",
       "Delay transitions:              1509\r\n",
       "\r\n",
       "Delay requests granted:         2361\r\n",
       "\r\n",
       "Garbage collection cleanup cycles: 17758\r\n",
       "Number of reclaimed objects:       0\r\n",
       "\r\n",
       "Virtual machine cycles: 9270063\r\n",
       "\r\n",
       "</pre>"
      ],
      "text/plain": [
       "<IPython.core.display.HTML object>"
      ]
     },
     "metadata": {},
     "output_type": "display_data"
    },
    {
     "data": {
      "text/html": [
       "<pre style=\"color:blue\">An exception occurred during run.\r\n",
       "Latency is diverging. Throughput constraint is not met.\r\n",
       "\r\n",
       "\r\n",
       "\r\n",
       "Real time:       1.368\r\n",
       "Steps:           119199\r\n",
       "Simulated time:  0.0941999\r\n",
       "\r\n",
       "Fix requests granted:           0\r\n",
       "Action transitions:             95899\r\n",
       "Communication transitions:      21337\r\n",
       "Communication requests tested:  0\r\n",
       "Delay transitions:              1963\r\n",
       "\r\n",
       "Delay requests granted:         2907\r\n",
       "\r\n",
       "Garbage collection cleanup cycles: 22805\r\n",
       "Number of reclaimed objects:       0\r\n",
       "\r\n",
       "Virtual machine cycles: 11892354\r\n",
       "\r\n",
       "</pre>"
      ],
      "text/plain": [
       "<IPython.core.display.HTML object>"
      ]
     },
     "metadata": {},
     "output_type": "display_data"
    },
    {
     "data": {
      "text/html": [
       "<pre style=\"color:blue\">An exception occurred during run.\r\n",
       "Latency is diverging. Throughput constraint is not met.\r\n",
       "\r\n",
       "\r\n",
       "\r\n",
       "Real time:       1.538\r\n",
       "Steps:           125350\r\n",
       "Simulated time:  0.0982622\r\n",
       "\r\n",
       "Fix requests granted:           0\r\n",
       "Action transitions:             100887\r\n",
       "Communication transitions:      22404\r\n",
       "Communication requests tested:  0\r\n",
       "Delay transitions:              2059\r\n",
       "\r\n",
       "Delay requests granted:         3046\r\n",
       "\r\n",
       "Garbage collection cleanup cycles: 24749\r\n",
       "Number of reclaimed objects:       0\r\n",
       "\r\n",
       "Virtual machine cycles: 12586172\r\n",
       "\r\n",
       "</pre>"
      ],
      "text/plain": [
       "<IPython.core.display.HTML object>"
      ]
     },
     "metadata": {},
     "output_type": "display_data"
    },
    {
     "data": {
      "text/html": [
       "<pre style=\"color:blue\">An exception occurred during run.\r\n",
       "Latency is diverging. Throughput constraint is not met.\r\n",
       "\r\n",
       "\r\n",
       "\r\n",
       "Real time:       2.049\r\n",
       "Steps:           129412\r\n",
       "Simulated time:  0.10038\r\n",
       "\r\n",
       "Fix requests granted:           0\r\n",
       "Action transitions:             104177\r\n",
       "Communication transitions:      23114\r\n",
       "Communication requests tested:  0\r\n",
       "Delay transitions:              2121\r\n",
       "\r\n",
       "Delay requests granted:         3137\r\n",
       "\r\n",
       "Garbage collection cleanup cycles: 25515\r\n",
       "Number of reclaimed objects:       0\r\n",
       "\r\n",
       "Virtual machine cycles: 21976515\r\n",
       "\r\n",
       "</pre>"
      ],
      "text/plain": [
       "<IPython.core.display.HTML object>"
      ]
     },
     "metadata": {},
     "output_type": "display_data"
    },
    {
     "data": {
      "text/html": [
       "<pre style=\"color:blue\">An exception occurred during run.\r\n",
       "Latency is diverging. Throughput constraint is not met.\r\n",
       "\r\n",
       "\r\n",
       "\r\n",
       "Real time:       0.779\r\n",
       "Steps:           62569\r\n",
       "Simulated time:  0.0610259\r\n",
       "\r\n",
       "Fix requests granted:           0\r\n",
       "Action transitions:             50375\r\n",
       "Communication transitions:      11306\r\n",
       "Communication requests tested:  0\r\n",
       "Delay transitions:              888\r\n",
       "\r\n",
       "Delay requests granted:         1528\r\n",
       "\r\n",
       "Garbage collection cleanup cycles: 9152\r\n",
       "Number of reclaimed objects:       0\r\n",
       "\r\n",
       "Virtual machine cycles: 5862562\r\n",
       "\r\n",
       "</pre>"
      ],
      "text/plain": [
       "<IPython.core.display.HTML object>"
      ]
     },
     "metadata": {},
     "output_type": "display_data"
    },
    {
     "data": {
      "text/html": [
       "<pre style=\"color:blue\">An exception occurred during run.\r\n",
       "Latency is diverging. Throughput constraint is not met.\r\n",
       "\r\n",
       "\r\n",
       "\r\n",
       "Real time:       1.032\r\n",
       "Steps:           69872\r\n",
       "Simulated time:  0.0643648\r\n",
       "\r\n",
       "Fix requests granted:           0\r\n",
       "Action transitions:             56237\r\n",
       "Communication transitions:      12635\r\n",
       "Communication requests tested:  0\r\n",
       "Delay transitions:              1000\r\n",
       "\r\n",
       "Delay requests granted:         1704\r\n",
       "\r\n",
       "Garbage collection cleanup cycles: 10990\r\n",
       "Number of reclaimed objects:       0\r\n",
       "\r\n",
       "Virtual machine cycles: 6606622\r\n",
       "\r\n",
       "</pre>"
      ],
      "text/plain": [
       "<IPython.core.display.HTML object>"
      ]
     },
     "metadata": {},
     "output_type": "display_data"
    },
    {
     "name": "stdout",
     "output_type": "stream",
     "text": [
      "Now simulating :  NodeProcessorType1 : \"Adreno\" NodeProcessorType2 : \"MIPS\" NodeProcessorType3 : \"Adreno\" NodeProcessorType4 : \"MIPS\" NodeProcessorType5 : \"Adreno\" NodeProcessorType6 : \"ARMv8\" VSF1 : 1.0 VSF2 : 1.0 VSF3 : 0.6666666666666666 VSF4 : 0.6666666666666666 VSF5 : 0.6666666666666666 VSF6 : 0.25 OSPolicy1 : \"FCFS\" OSPolicy2 : \"FCFS\" OSPolicy3 : \"PB\" OSPolicy4 : \"FCFS\" OSPolicy5 : \"PB\" OSPolicy6 : \"FCFS\"\n",
      "items left : 10 ,time last sim :  24.16 sec ,est time rem : 241.55115604400635 sec\n"
     ]
    },
    {
     "data": {
      "text/html": [
       "<pre style=\"color:blue\">An exception occurred during run.\r\n",
       "Latency is diverging. Throughput constraint is not met.\r\n",
       "\r\n",
       "\r\n",
       "\r\n",
       "Real time:       2.239\r\n",
       "Steps:           195741\r\n",
       "Simulated time:  0.174046\r\n",
       "\r\n",
       "Fix requests granted:           0\r\n",
       "Action transitions:             149172\r\n",
       "Communication transitions:      42814\r\n",
       "Communication requests tested:  0\r\n",
       "Delay transitions:              3755\r\n",
       "\r\n",
       "Delay requests granted:         5753\r\n",
       "\r\n",
       "Garbage collection cleanup cycles: 26593\r\n",
       "Number of reclaimed objects:       450\r\n",
       "\r\n",
       "Virtual machine cycles: 28574190\r\n",
       "\r\n",
       "</pre>"
      ],
      "text/plain": [
       "<IPython.core.display.HTML object>"
      ]
     },
     "metadata": {},
     "output_type": "display_data"
    },
    {
     "data": {
      "text/html": [
       "<pre style=\"color:blue\">An exception occurred during run.\r\n",
       "Latency is diverging. Throughput constraint is not met.\r\n",
       "\r\n",
       "\r\n",
       "\r\n",
       "Real time:       2.398\r\n",
       "Steps:           213267\r\n",
       "Simulated time:  0.192276\r\n",
       "\r\n",
       "Fix requests granted:           0\r\n",
       "Action transitions:             161551\r\n",
       "Communication transitions:      47531\r\n",
       "Communication requests tested:  0\r\n",
       "Delay transitions:              4185\r\n",
       "\r\n",
       "Delay requests granted:         6391\r\n",
       "\r\n",
       "Garbage collection cleanup cycles: 27847\r\n",
       "Number of reclaimed objects:       1453\r\n",
       "\r\n",
       "Virtual machine cycles: 31545525\r\n",
       "\r\n",
       "</pre>"
      ],
      "text/plain": [
       "<IPython.core.display.HTML object>"
      ]
     },
     "metadata": {},
     "output_type": "display_data"
    },
    {
     "data": {
      "text/html": [
       "<pre style=\"color:blue\">An exception occurred during run.\r\n",
       "Latency is diverging. Throughput constraint is not met.\r\n",
       "\r\n",
       "\r\n",
       "\r\n",
       "Real time:       1.102\r\n",
       "Steps:           91080\r\n",
       "Simulated time:  0.0761299\r\n",
       "\r\n",
       "Fix requests granted:           0\r\n",
       "Action transitions:             73208\r\n",
       "Communication transitions:      16448\r\n",
       "Communication requests tested:  0\r\n",
       "Delay transitions:              1424\r\n",
       "\r\n",
       "Delay requests granted:         2215\r\n",
       "\r\n",
       "Garbage collection cleanup cycles: 15420\r\n",
       "Number of reclaimed objects:       0\r\n",
       "\r\n",
       "Virtual machine cycles: 8444652\r\n",
       "\r\n",
       "</pre>"
      ],
      "text/plain": [
       "<IPython.core.display.HTML object>"
      ]
     },
     "metadata": {},
     "output_type": "display_data"
    },
    {
     "data": {
      "text/html": [
       "<pre style=\"color:blue\">An exception occurred during run.\r\n",
       "Latency is diverging. Throughput constraint is not met.\r\n",
       "\r\n",
       "\r\n",
       "\r\n",
       "Real time:       1.1\r\n",
       "Steps:           87511\r\n",
       "Simulated time:  0.0745746\r\n",
       "\r\n",
       "Fix requests granted:           0\r\n",
       "Action transitions:             70348\r\n",
       "Communication transitions:      15797\r\n",
       "Communication requests tested:  0\r\n",
       "Delay transitions:              1366\r\n",
       "\r\n",
       "Delay requests granted:         2129\r\n",
       "\r\n",
       "Garbage collection cleanup cycles: 14490\r\n",
       "Number of reclaimed objects:       0\r\n",
       "\r\n",
       "Virtual machine cycles: 8111490\r\n",
       "\r\n",
       "</pre>"
      ],
      "text/plain": [
       "<IPython.core.display.HTML object>"
      ]
     },
     "metadata": {},
     "output_type": "display_data"
    },
    {
     "data": {
      "text/html": [
       "<pre style=\"color:blue\">An exception occurred during run.\r\n",
       "Latency is diverging. Throughput constraint is not met.\r\n",
       "\r\n",
       "\r\n",
       "\r\n",
       "Real time:       1.496\r\n",
       "Steps:           112383\r\n",
       "Simulated time:  0.0901499\r\n",
       "\r\n",
       "Fix requests granted:           0\r\n",
       "Action transitions:             90263\r\n",
       "Communication transitions:      20276\r\n",
       "Communication requests tested:  0\r\n",
       "Delay transitions:              1844\r\n",
       "\r\n",
       "Delay requests granted:         2748\r\n",
       "\r\n",
       "Garbage collection cleanup cycles: 20913\r\n",
       "Number of reclaimed objects:       0\r\n",
       "\r\n",
       "Virtual machine cycles: 10412592\r\n",
       "\r\n",
       "</pre>"
      ],
      "text/plain": [
       "<IPython.core.display.HTML object>"
      ]
     },
     "metadata": {},
     "output_type": "display_data"
    },
    {
     "data": {
      "text/html": [
       "<pre style=\"color:blue\">An exception occurred during run.\r\n",
       "Latency is diverging. Throughput constraint is not met.\r\n",
       "\r\n",
       "\r\n",
       "\r\n",
       "Real time:       1.419\r\n",
       "Steps:           119680\r\n",
       "Simulated time:  0.094176\r\n",
       "\r\n",
       "Fix requests granted:           0\r\n",
       "Action transitions:             96125\r\n",
       "Communication transitions:      21604\r\n",
       "Communication requests tested:  0\r\n",
       "Delay transitions:              1951\r\n",
       "\r\n",
       "Delay requests granted:         2915\r\n",
       "\r\n",
       "Garbage collection cleanup cycles: 23089\r\n",
       "Number of reclaimed objects:       0\r\n",
       "\r\n",
       "Virtual machine cycles: 11207419\r\n",
       "\r\n",
       "</pre>"
      ],
      "text/plain": [
       "<IPython.core.display.HTML object>"
      ]
     },
     "metadata": {},
     "output_type": "display_data"
    },
    {
     "data": {
      "text/html": [
       "<pre style=\"color:blue\">An exception occurred during run.\r\n",
       "Latency is diverging. Throughput constraint is not met.\r\n",
       "\r\n",
       "\r\n",
       "\r\n",
       "Real time:       1.434\r\n",
       "Steps:           106446\r\n",
       "Simulated time:  0.0863419\r\n",
       "\r\n",
       "Fix requests granted:           0\r\n",
       "Action transitions:             85496\r\n",
       "Communication transitions:      19217\r\n",
       "Communication requests tested:  0\r\n",
       "Delay transitions:              1733\r\n",
       "\r\n",
       "Delay requests granted:         2579\r\n",
       "\r\n",
       "Garbage collection cleanup cycles: 19303\r\n",
       "Number of reclaimed objects:       0\r\n",
       "\r\n",
       "Virtual machine cycles: 9726639\r\n",
       "\r\n",
       "</pre>"
      ],
      "text/plain": [
       "<IPython.core.display.HTML object>"
      ]
     },
     "metadata": {},
     "output_type": "display_data"
    },
    {
     "data": {
      "text/html": [
       "<pre style=\"color:blue\">An exception occurred during run.\r\n",
       "Latency is diverging. Throughput constraint is not met.\r\n",
       "\r\n",
       "\r\n",
       "\r\n",
       "Real time:       1.429\r\n",
       "Steps:           115232\r\n",
       "Simulated time:  0.0925163\r\n",
       "\r\n",
       "Fix requests granted:           0\r\n",
       "Action transitions:             92546\r\n",
       "Communication transitions:      20795\r\n",
       "Communication requests tested:  0\r\n",
       "Delay transitions:              1891\r\n",
       "\r\n",
       "Delay requests granted:         2818\r\n",
       "\r\n",
       "Garbage collection cleanup cycles: 21783\r\n",
       "Number of reclaimed objects:       0\r\n",
       "\r\n",
       "Virtual machine cycles: 10252268\r\n",
       "\r\n",
       "</pre>"
      ],
      "text/plain": [
       "<IPython.core.display.HTML object>"
      ]
     },
     "metadata": {},
     "output_type": "display_data"
    },
    {
     "data": {
      "text/html": [
       "<pre style=\"color:blue\">An exception occurred during run.\r\n",
       "Latency is diverging. Throughput constraint is not met.\r\n",
       "\r\n",
       "\r\n",
       "\r\n",
       "Real time:       1.071\r\n",
       "Steps:           88721\r\n",
       "Simulated time:  0.0742387\r\n",
       "\r\n",
       "Fix requests granted:           0\r\n",
       "Action transitions:             71315\r\n",
       "Communication transitions:      16016\r\n",
       "Communication requests tested:  0\r\n",
       "Delay transitions:              1390\r\n",
       "\r\n",
       "Delay requests granted:         2158\r\n",
       "\r\n",
       "Garbage collection cleanup cycles: 14769\r\n",
       "Number of reclaimed objects:       0\r\n",
       "\r\n",
       "Virtual machine cycles: 8060945\r\n",
       "\r\n",
       "</pre>"
      ],
      "text/plain": [
       "<IPython.core.display.HTML object>"
      ]
     },
     "metadata": {},
     "output_type": "display_data"
    },
    {
     "data": {
      "text/html": [
       "<pre style=\"color:blue\">An exception occurred during run.\r\n",
       "Latency is diverging. Throughput constraint is not met.\r\n",
       "\r\n",
       "\r\n",
       "\r\n",
       "Real time:       1.204\r\n",
       "Steps:           85495\r\n",
       "Simulated time:  0.0724238\r\n",
       "\r\n",
       "Fix requests granted:           0\r\n",
       "Action transitions:             68721\r\n",
       "Communication transitions:      15426\r\n",
       "Communication requests tested:  0\r\n",
       "Delay transitions:              1348\r\n",
       "\r\n",
       "Delay requests granted:         2088\r\n",
       "\r\n",
       "Garbage collection cleanup cycles: 14102\r\n",
       "Number of reclaimed objects:       0\r\n",
       "\r\n",
       "Virtual machine cycles: 8152604\r\n",
       "\r\n",
       "</pre>"
      ],
      "text/plain": [
       "<IPython.core.display.HTML object>"
      ]
     },
     "metadata": {},
     "output_type": "display_data"
    },
    {
     "data": {
      "text/html": [
       "<pre style=\"color:blue\">An exception occurred during run.\r\n",
       "Latency is diverging. Throughput constraint is not met.\r\n",
       "\r\n",
       "\r\n",
       "\r\n",
       "Real time:       0.935\r\n",
       "Steps:           53305\r\n",
       "Simulated time:  0.0504892\r\n",
       "\r\n",
       "Fix requests granted:           0\r\n",
       "Action transitions:             42875\r\n",
       "Communication transitions:      9618\r\n",
       "Communication requests tested:  0\r\n",
       "Delay transitions:              812\r\n",
       "\r\n",
       "Delay requests granted:         1294\r\n",
       "\r\n",
       "Garbage collection cleanup cycles: 6739\r\n",
       "Number of reclaimed objects:       0\r\n",
       "\r\n",
       "Virtual machine cycles: 4944687\r\n",
       "\r\n",
       "</pre>"
      ],
      "text/plain": [
       "<IPython.core.display.HTML object>"
      ]
     },
     "metadata": {},
     "output_type": "display_data"
    },
    {
     "name": "stdout",
     "output_type": "stream",
     "text": [
      "Now simulating :  NodeProcessorType1 : \"Adreno\" NodeProcessorType2 : \"Adreno\" NodeProcessorType3 : \"Adreno\" NodeProcessorType4 : \"MIPS\" NodeProcessorType5 : \"Adreno\" NodeProcessorType6 : \"ARMv8\" VSF1 : 1.0 VSF2 : 1.0 VSF3 : 0.6666666666666666 VSF4 : 0.6666666666666666 VSF5 : 0.6666666666666666 VSF6 : 0.25 OSPolicy1 : \"PB\" OSPolicy2 : \"PB\" OSPolicy3 : \"PB\" OSPolicy4 : \"FCFS\" OSPolicy5 : \"FCFS\" OSPolicy6 : \"FCFS\"\n",
      "items left : 8 ,time last sim :  22.91 sec ,est time rem : 183.24149703979492 sec\n"
     ]
    },
    {
     "data": {
      "text/html": [
       "<pre style=\"color:blue\">\r\n",
       "\r\n",
       "Real time:       20.621\r\n",
       "Steps:           5413935\r\n",
       "Simulated time:  5.85\r\n",
       "\r\n",
       "Fix requests granted:           0\r\n",
       "Action transitions:             3676330\r\n",
       "Communication transitions:      1590207\r\n",
       "Communication requests tested:  0\r\n",
       "Delay transitions:              147398\r\n",
       "\r\n",
       "Delay requests granted:         213145\r\n",
       "\r\n",
       "Garbage collection cleanup cycles: 31967\r\n",
       "Number of reclaimed objects:       15280\r\n",
       "\r\n",
       "Virtual machine cycles: 434877956\r\n",
       "\r\n",
       "</pre>"
      ],
      "text/plain": [
       "<IPython.core.display.HTML object>"
      ]
     },
     "metadata": {},
     "output_type": "display_data"
    },
    {
     "data": {
      "text/html": [
       "<pre style=\"color:red\">All registered observers are activated. Caused by completion observer (MemoryDataNode1)\r\n",
       "</pre>"
      ],
      "text/plain": [
       "<IPython.core.display.HTML object>"
      ]
     },
     "metadata": {},
     "output_type": "display_data"
    },
    {
     "name": "stdout",
     "output_type": "stream",
     "text": [
      "Now simulating :  NodeProcessorType1 : \"Adreno\" NodeProcessorType2 : \"Adreno\" NodeProcessorType3 : \"MIPS\" NodeProcessorType4 : \"Adreno\" NodeProcessorType5 : \"Adreno\" NodeProcessorType6 : \"ARMv8\" VSF1 : 1.0 VSF2 : 1.0 VSF3 : 0.6666666666666666 VSF4 : 0.6666666666666666 VSF5 : 1.0 VSF6 : 0.25 OSPolicy1 : \"PB\" OSPolicy2 : \"FCFS\" OSPolicy3 : \"PB\" OSPolicy4 : \"FCFS\" OSPolicy5 : \"PB\" OSPolicy6 : \"FCFS\"\n",
      "items left : 6 ,time last sim :  23.35 sec ,est time rem : 140.09596395492554 sec\n"
     ]
    },
    {
     "data": {
      "text/html": [
       "<pre style=\"color:blue\">An exception occurred during run.\r\n",
       "Latency is diverging. Throughput constraint is not met.\r\n",
       "\r\n",
       "\r\n",
       "\r\n",
       "Real time:       2.539\r\n",
       "Steps:           207491\r\n",
       "Simulated time:  0.200193\r\n",
       "\r\n",
       "Fix requests granted:           0\r\n",
       "Action transitions:             156884\r\n",
       "Communication transitions:      46759\r\n",
       "Communication requests tested:  0\r\n",
       "Delay transitions:              3848\r\n",
       "\r\n",
       "Delay requests granted:         6288\r\n",
       "\r\n",
       "Garbage collection cleanup cycles: 26623\r\n",
       "Number of reclaimed objects:       746\r\n",
       "\r\n",
       "Virtual machine cycles: 30452589\r\n",
       "\r\n",
       "</pre>"
      ],
      "text/plain": [
       "<IPython.core.display.HTML object>"
      ]
     },
     "metadata": {},
     "output_type": "display_data"
    },
    {
     "data": {
      "text/html": [
       "<pre style=\"color:blue\">An exception occurred during run.\r\n",
       "Latency is diverging. Throughput constraint is not met.\r\n",
       "\r\n",
       "\r\n",
       "\r\n",
       "Real time:       2.192\r\n",
       "Steps:           130000\r\n",
       "Simulated time:  0.108259\r\n",
       "\r\n",
       "Fix requests granted:           0\r\n",
       "Action transitions:             103963\r\n",
       "Communication transitions:      23987\r\n",
       "Communication requests tested:  0\r\n",
       "Delay transitions:              2050\r\n",
       "\r\n",
       "Delay requests granted:         3236\r\n",
       "\r\n",
       "Garbage collection cleanup cycles: 24551\r\n",
       "Number of reclaimed objects:       448\r\n",
       "\r\n",
       "Virtual machine cycles: 23682034\r\n",
       "\r\n",
       "</pre>"
      ],
      "text/plain": [
       "<IPython.core.display.HTML object>"
      ]
     },
     "metadata": {},
     "output_type": "display_data"
    },
    {
     "data": {
      "text/html": [
       "<pre style=\"color:blue\">An exception occurred during run.\r\n",
       "Latency is diverging. Throughput constraint is not met.\r\n",
       "\r\n",
       "\r\n",
       "\r\n",
       "Real time:       2.177\r\n",
       "Steps:           177861\r\n",
       "Simulated time:  0.166738\r\n",
       "\r\n",
       "Fix requests granted:           0\r\n",
       "Action transitions:             136366\r\n",
       "Communication transitions:      38277\r\n",
       "Communication requests tested:  0\r\n",
       "Delay transitions:              3218\r\n",
       "\r\n",
       "Delay requests granted:         5130\r\n",
       "\r\n",
       "Garbage collection cleanup cycles: 26002\r\n",
       "Number of reclaimed objects:       425\r\n",
       "\r\n",
       "Virtual machine cycles: 26448920\r\n",
       "\r\n",
       "</pre>"
      ],
      "text/plain": [
       "<IPython.core.display.HTML object>"
      ]
     },
     "metadata": {},
     "output_type": "display_data"
    },
    {
     "data": {
      "text/html": [
       "<pre style=\"color:blue\">Real Time:           3.875 Steps:          655360 Simulated Time:        0.700242\r\n",
       "Real Time:          14.806 Steps:    3.80109e+006 Simulated Time:         4.37481\r\n",
       "Real Time:          16.652 Steps:    4.32538e+006 Simulated Time:         4.98796\r\n",
       "Real Time:          30.404 Steps:    8.38861e+006 Simulated Time:         9.74632\r\n",
       "Real Time:          30.404 Steps:    8.38861e+006 Simulated Time:         9.74632\r\n",
       "Real Time:          37.646 Steps:    1.04858e+007 Simulated Time:         12.2006\r\n",
       "Real Time:          40.894 Steps:    1.14033e+007 Simulated Time:         13.2751\r\n",
       "Real Time:          59.615 Steps:    1.67775e+007 Simulated Time:         19.5629\r\n",
       "Real Time:          61.048 Steps:    1.71704e+007 Simulated Time:         20.0264\r\n",
       "Real Time:          67.893 Steps:    1.91365e+007 Simulated Time:          22.324\r\n",
       "Real Time:            69.2 Steps:    1.95297e+007 Simulated Time:         22.7831\r\n",
       "Real Time:          77.103 Steps:     2.1889e+007 Simulated Time:         25.5416\r\n",
       "Real Time:          88.294 Steps:    2.51663e+007 Simulated Time:         29.3794\r\n",
       "Real Time:          91.533 Steps:    2.60833e+007 Simulated Time:          30.452\r\n",
       "Real Time:         106.004 Steps:    3.02776e+007 Simulated Time:         35.3634\r\n",
       "Real Time:         108.199 Steps:     3.0933e+007 Simulated Time:         36.1312\r\n",
       "Real Time:         114.795 Steps:    3.28991e+007 Simulated Time:         38.4319\r\n",
       "Real Time:         117.043 Steps:    3.35552e+007 Simulated Time:         39.2009\r\n",
       "Real Time:         122.804 Steps:    3.52584e+007 Simulated Time:         41.1933\r\n",
       "Real Time:         126.853 Steps:     3.6438e+007 Simulated Time:         42.5714\r\n",
       "Real Time:         129.029 Steps:    3.70934e+007 Simulated Time:          43.335\r\n",
       "Real Time:         133.702 Steps:    3.84041e+007 Simulated Time:         44.8731\r\n",
       "Real Time:         145.932 Steps:    4.19441e+007 Simulated Time:         49.0181\r\n",
       "Real Time:         147.792 Steps:    4.24673e+007 Simulated Time:         49.6314\r\n",
       "An exception occurred during run.\r\n",
       "Statistical estimates did not converge within 50 time units. There may be something wrong in your model.\r\n",
       "\r\n",
       "\r\n",
       "\r\n",
       "Real time:       149.418\r\n",
       "Steps:           42781989\r\n",
       "Simulated time:  50\r\n",
       "\r\n",
       "Fix requests granted:           0\r\n",
       "Action transitions:             28900762\r\n",
       "Communication transitions:      12819626\r\n",
       "Communication requests tested:  0\r\n",
       "Delay transitions:              1061601\r\n",
       "\r\n",
       "Delay requests granted:         1701478\r\n",
       "\r\n",
       "Garbage collection cleanup cycles: 30585\r\n",
       "Number of reclaimed objects:       17469\r\n",
       "\r\n",
       "Virtual machine cycles: 3229696417\r\n",
       "\r\n",
       "</pre>"
      ],
      "text/plain": [
       "<IPython.core.display.HTML object>"
      ]
     },
     "metadata": {},
     "output_type": "display_data"
    },
    {
     "name": "stdout",
     "output_type": "stream",
     "text": [
      "Generation : 3\n",
      "Now simulating :  NodeProcessorType1 : \"Adreno\" NodeProcessorType2 : \"MIPS\" NodeProcessorType3 : \"ARMv8\" NodeProcessorType4 : \"Adreno\" NodeProcessorType5 : \"Adreno\" NodeProcessorType6 : \"ARMv8\" VSF1 : 1.0 VSF2 : 1.0 VSF3 : 1.0 VSF4 : 0.5 VSF5 : 1.0 VSF6 : 1.0 OSPolicy1 : \"PB\" OSPolicy2 : \"FCFS\" OSPolicy3 : \"FCFS\" OSPolicy4 : \"PB\" OSPolicy5 : \"PB\" OSPolicy6 : \"FCFS\"\n",
      "items left : 69 ,time last sim :  0.00 sec ,est time rem : 0 sec\n"
     ]
    },
    {
     "data": {
      "text/html": [
       "<pre style=\"color:blue\">Real Time:           9.521 Steps:    2.22822e+006 Simulated Time:         2.57948\r\n",
       "Real Time:          19.368 Steps:    4.98074e+006 Simulated Time:         5.84352\r\n",
       "Real Time:          19.858 Steps:    5.11181e+006 Simulated Time:         5.99637\r\n",
       "Real Time:          31.365 Steps:    8.38861e+006 Simulated Time:         9.87855\r\n",
       "Real Time:          61.234 Steps:    1.67775e+007 Simulated Time:         19.8348\r\n",
       "Real Time:          82.391 Steps:    2.26755e+007 Simulated Time:         26.8326\r\n",
       "Real Time:          83.321 Steps:    2.29376e+007 Simulated Time:         27.1501\r\n",
       "Real Time:          91.466 Steps:    2.51663e+007 Simulated Time:         29.7843\r\n",
       "Real Time:         121.378 Steps:    3.35552e+007 Simulated Time:         39.7324\r\n",
       "Real Time:         123.704 Steps:    3.42098e+007 Simulated Time:         40.5122\r\n",
       "\r\n",
       "\r\n",
       "Real time:       127.524\r\n",
       "Steps:           35135369\r\n",
       "Simulated time:  41.61\r\n",
       "\r\n",
       "Fix requests granted:           0\r\n",
       "Action transitions:             23691294\r\n",
       "Communication transitions:      10572413\r\n",
       "Communication requests tested:  0\r\n",
       "Delay transitions:              871662\r\n",
       "\r\n",
       "Delay requests granted:         1395578\r\n",
       "\r\n",
       "Garbage collection cleanup cycles: 30625\r\n",
       "Number of reclaimed objects:       12372\r\n",
       "\r\n",
       "Virtual machine cycles: 2753503339\r\n",
       "\r\n",
       "</pre>"
      ],
      "text/plain": [
       "<IPython.core.display.HTML object>"
      ]
     },
     "metadata": {},
     "output_type": "display_data"
    },
    {
     "data": {
      "text/html": [
       "<pre style=\"color:red\">All registered observers are activated. Caused by completion observer (ApplicationLatency)\r\n",
       "</pre>"
      ],
      "text/plain": [
       "<IPython.core.display.HTML object>"
      ]
     },
     "metadata": {},
     "output_type": "display_data"
    },
    {
     "name": "stdout",
     "output_type": "stream",
     "text": [
      "Now simulating :  NodeProcessorType1 : \"MIPS\" NodeProcessorType2 : \"Adreno\" NodeProcessorType3 : \"Adreno\" NodeProcessorType4 : \"Adreno\" NodeProcessorType5 : \"MIPS\" NodeProcessorType6 : \"MIPS\" VSF1 : 1.0 VSF2 : 0.6666666666666666 VSF3 : 1.0 VSF4 : 0.5 VSF5 : 1.0 VSF6 : 1.0 OSPolicy1 : \"PB\" OSPolicy2 : \"FCFS\" OSPolicy3 : \"FCFS\" OSPolicy4 : \"PB\" OSPolicy5 : \"PB\" OSPolicy6 : \"FCFS\"\n",
      "items left : 59 ,time last sim :  132.11 sec ,est time rem : 7794.717072486877 sec\n"
     ]
    },
    {
     "data": {
      "text/html": [
       "<pre style=\"color:blue\">An exception occurred during run.\r\n",
       "Latency is diverging. Throughput constraint is not met.\r\n",
       "\r\n",
       "\r\n",
       "\r\n",
       "Real time:       1.531\r\n",
       "Steps:           110911\r\n",
       "Simulated time:  0.0883255\r\n",
       "\r\n",
       "Fix requests granted:           0\r\n",
       "Action transitions:             89066\r\n",
       "Communication transitions:      20011\r\n",
       "Communication requests tested:  0\r\n",
       "Delay transitions:              1834\r\n",
       "\r\n",
       "Delay requests granted:         2692\r\n",
       "\r\n",
       "Garbage collection cleanup cycles: 20749\r\n",
       "Number of reclaimed objects:       0\r\n",
       "\r\n",
       "Virtual machine cycles: 10577199\r\n",
       "\r\n",
       "</pre>"
      ],
      "text/plain": [
       "<IPython.core.display.HTML object>"
      ]
     },
     "metadata": {},
     "output_type": "display_data"
    },
    {
     "data": {
      "text/html": [
       "<pre style=\"color:blue\">Real Time:          14.362 Steps:    3.14573e+006 Simulated Time:         3.40169\r\n",
       "\r\n",
       "\r\n",
       "Real time:       17.205\r\n",
       "Steps:           3764191\r\n",
       "Simulated time:  4.08\r\n",
       "\r\n",
       "Fix requests granted:           0\r\n",
       "Action transitions:             2556752\r\n",
       "Communication transitions:      1102156\r\n",
       "Communication requests tested:  0\r\n",
       "Delay transitions:              105283\r\n",
       "\r\n",
       "Delay requests granted:         147619\r\n",
       "\r\n",
       "Garbage collection cleanup cycles: 32886\r\n",
       "Number of reclaimed objects:       13021\r\n",
       "\r\n",
       "Virtual machine cycles: 365149167\r\n",
       "\r\n",
       "</pre>"
      ],
      "text/plain": [
       "<IPython.core.display.HTML object>"
      ]
     },
     "metadata": {},
     "output_type": "display_data"
    },
    {
     "data": {
      "text/html": [
       "<pre style=\"color:red\">All registered observers are activated. Caused by completion observer (MemoryDataNode5)\r\n",
       "</pre>"
      ],
      "text/plain": [
       "<IPython.core.display.HTML object>"
      ]
     },
     "metadata": {},
     "output_type": "display_data"
    },
    {
     "name": "stdout",
     "output_type": "stream",
     "text": [
      "Now simulating :  NodeProcessorType1 : \"Adreno\" NodeProcessorType2 : \"Adreno\" NodeProcessorType3 : \"Adreno\" NodeProcessorType4 : \"Adreno\" NodeProcessorType5 : \"MIPS\" NodeProcessorType6 : \"MIPS\" VSF1 : 1.0 VSF2 : 0.6666666666666666 VSF3 : 1.0 VSF4 : 0.5 VSF5 : 1.0 VSF6 : 1.0 OSPolicy1 : \"PB\" OSPolicy2 : \"FCFS\" OSPolicy3 : \"FCFS\" OSPolicy4 : \"FCFS\" OSPolicy5 : \"PB\" OSPolicy6 : \"FCFS\"\n",
      "items left : 57 ,time last sim :  21.79 sec ,est time rem : 1241.9336729049683 sec\n"
     ]
    },
    {
     "data": {
      "text/html": [
       "<pre style=\"color:blue\">An exception occurred during run.\r\n",
       "Latency is diverging. Throughput constraint is not met.\r\n",
       "\r\n",
       "\r\n",
       "\r\n",
       "Real time:       2.161\r\n",
       "Steps:           145030\r\n",
       "Simulated time:  0.112201\r\n",
       "\r\n",
       "Fix requests granted:           0\r\n",
       "Action transitions:             115751\r\n",
       "Communication transitions:      26864\r\n",
       "Communication requests tested:  0\r\n",
       "Delay transitions:              2415\r\n",
       "\r\n",
       "Delay requests granted:         3638\r\n",
       "\r\n",
       "Garbage collection cleanup cycles: 27920\r\n",
       "Number of reclaimed objects:       0\r\n",
       "\r\n",
       "Virtual machine cycles: 24720922\r\n",
       "\r\n",
       "</pre>"
      ],
      "text/plain": [
       "<IPython.core.display.HTML object>"
      ]
     },
     "metadata": {},
     "output_type": "display_data"
    },
    {
     "data": {
      "text/html": [
       "<pre style=\"color:blue\">An exception occurred during run.\r\n",
       "Latency is diverging. Throughput constraint is not met.\r\n",
       "\r\n",
       "\r\n",
       "\r\n",
       "Real time:       2.171\r\n",
       "Steps:           142262\r\n",
       "Simulated time:  0.110076\r\n",
       "\r\n",
       "Fix requests granted:           0\r\n",
       "Action transitions:             113614\r\n",
       "Communication transitions:      26288\r\n",
       "Communication requests tested:  0\r\n",
       "Delay transitions:              2360\r\n",
       "\r\n",
       "Delay requests granted:         3562\r\n",
       "\r\n",
       "Garbage collection cleanup cycles: 27401\r\n",
       "Number of reclaimed objects:       0\r\n",
       "\r\n",
       "Virtual machine cycles: 24459458\r\n",
       "\r\n",
       "</pre>"
      ],
      "text/plain": [
       "<IPython.core.display.HTML object>"
      ]
     },
     "metadata": {},
     "output_type": "display_data"
    },
    {
     "data": {
      "text/html": [
       "<pre style=\"color:blue\">Real Time:           4.636 Steps:          917504 Simulated Time:         1.01886\r\n",
       "Real Time:           8.852 Steps:    2.22822e+006 Simulated Time:         2.57295\r\n",
       "Real Time:          14.352 Steps:    3.93216e+006 Simulated Time:         4.59274\r\n",
       "Real Time:          18.714 Steps:    5.24288e+006 Simulated Time:         6.15017\r\n",
       "Real Time:          21.715 Steps:    6.16038e+006 Simulated Time:         7.23697\r\n",
       "Real Time:          27.015 Steps:    7.73325e+006 Simulated Time:          9.1035\r\n",
       "Real Time:          29.213 Steps:    8.38861e+006 Simulated Time:         9.88263\r\n",
       "\r\n",
       "\r\n",
       "Real time:       33.709\r\n",
       "Steps:           9643219\r\n",
       "Simulated time:  11.37\r\n",
       "\r\n",
       "Fix requests granted:           0\r\n",
       "Action transitions:             6513713\r\n",
       "Communication transitions:      2887069\r\n",
       "Communication requests tested:  0\r\n",
       "Delay transitions:              242437\r\n",
       "\r\n",
       "Delay requests granted:         383987\r\n",
       "\r\n",
       "Garbage collection cleanup cycles: 29957\r\n",
       "Number of reclaimed objects:       12885\r\n",
       "\r\n",
       "Virtual machine cycles: 696171131\r\n",
       "\r\n",
       "</pre>"
      ],
      "text/plain": [
       "<IPython.core.display.HTML object>"
      ]
     },
     "metadata": {},
     "output_type": "display_data"
    },
    {
     "data": {
      "text/html": [
       "<pre style=\"color:red\">All registered observers are activated. Caused by completion observer (ProcessorNode1)\r\n",
       "</pre>"
      ],
      "text/plain": [
       "<IPython.core.display.HTML object>"
      ]
     },
     "metadata": {},
     "output_type": "display_data"
    },
    {
     "name": "stdout",
     "output_type": "stream",
     "text": [
      "Now simulating :  NodeProcessorType1 : \"MIPS\" NodeProcessorType2 : \"Adreno\" NodeProcessorType3 : \"Adreno\" NodeProcessorType4 : \"Adreno\" NodeProcessorType5 : \"MIPS\" NodeProcessorType6 : \"MIPS\" VSF1 : 1.0 VSF2 : 0.6666666666666666 VSF3 : 1.0 VSF4 : 0.5 VSF5 : 1.0 VSF6 : 1.0 OSPolicy1 : \"PB\" OSPolicy2 : \"FCFS\" OSPolicy3 : \"FCFS\" OSPolicy4 : \"PB\" OSPolicy5 : \"PB\" OSPolicy6 : \"FCFS\"\n",
      "items left : 54 ,time last sim :  41.67 sec ,est time rem : 2250.3434858322144 sec\n"
     ]
    },
    {
     "data": {
      "text/html": [
       "<pre style=\"color:blue\">Real Time:          26.525 Steps:    6.02931e+006 Simulated Time:         6.61874\r\n",
       "Real Time:          36.087 Steps:    8.38861e+006 Simulated Time:         9.23498\r\n",
       "Real Time:          40.377 Steps:    9.43718e+006 Simulated Time:         10.4023\r\n",
       "Real Time:          53.102 Steps:    1.25829e+007 Simulated Time:         13.8904\r\n",
       "Real Time:          60.554 Steps:    1.44179e+007 Simulated Time:         15.9233\r\n",
       "\r\n",
       "\r\n",
       "Real time:       65.013\r\n",
       "Steps:           15394968\r\n",
       "Simulated time:  17.01\r\n",
       "\r\n",
       "Fix requests granted:           0\r\n",
       "Action transitions:             10413002\r\n",
       "Communication transitions:      4580546\r\n",
       "Communication requests tested:  0\r\n",
       "Delay transitions:              401420\r\n",
       "\r\n",
       "Delay requests granted:         607132\r\n",
       "\r\n",
       "Garbage collection cleanup cycles: 32043\r\n",
       "Number of reclaimed objects:       13948\r\n",
       "\r\n",
       "Virtual machine cycles: 1442918512\r\n",
       "\r\n",
       "</pre>"
      ],
      "text/plain": [
       "<IPython.core.display.HTML object>"
      ]
     },
     "metadata": {},
     "output_type": "display_data"
    },
    {
     "data": {
      "text/html": [
       "<pre style=\"color:red\">All registered observers are activated. Caused by completion observer (MemoryBufferNode6)\r\n",
       "</pre>"
      ],
      "text/plain": [
       "<IPython.core.display.HTML object>"
      ]
     },
     "metadata": {},
     "output_type": "display_data"
    },
    {
     "name": "stdout",
     "output_type": "stream",
     "text": [
      "Now simulating :  NodeProcessorType1 : \"MIPS\" NodeProcessorType2 : \"MIPS\" NodeProcessorType3 : \"Adreno\" NodeProcessorType4 : \"Adreno\" NodeProcessorType5 : \"MIPS\" NodeProcessorType6 : \"MIPS\" VSF1 : 1.0 VSF2 : 0.6666666666666666 VSF3 : 1.0 VSF4 : 0.5 VSF5 : 0.6666666666666666 VSF6 : 1.0 OSPolicy1 : \"PB\" OSPolicy2 : \"FCFS\" OSPolicy3 : \"FCFS\" OSPolicy4 : \"FCFS\" OSPolicy5 : \"PB\" OSPolicy6 : \"FCFS\"\n",
      "items left : 50 ,time last sim :  67.74 sec ,est time rem : 3386.7738366127014 sec\n"
     ]
    },
    {
     "data": {
      "text/html": [
       "<pre style=\"color:blue\">An exception occurred during run.\r\n",
       "Latency is diverging. Throughput constraint is not met.\r\n",
       "\r\n",
       "\r\n",
       "\r\n",
       "Real time:       1.166\r\n",
       "Steps:           84952\r\n",
       "Simulated time:  0.0750026\r\n",
       "\r\n",
       "Fix requests granted:           0\r\n",
       "Action transitions:             68360\r\n",
       "Communication transitions:      15325\r\n",
       "Communication requests tested:  0\r\n",
       "Delay transitions:              1267\r\n",
       "\r\n",
       "Delay requests granted:         2067\r\n",
       "\r\n",
       "Garbage collection cleanup cycles: 14330\r\n",
       "Number of reclaimed objects:       0\r\n",
       "\r\n",
       "Virtual machine cycles: 7670287\r\n",
       "\r\n",
       "</pre>"
      ],
      "text/plain": [
       "<IPython.core.display.HTML object>"
      ]
     },
     "metadata": {},
     "output_type": "display_data"
    },
    {
     "data": {
      "text/html": [
       "<pre style=\"color:blue\">An exception occurred during run.\r\n",
       "Latency is diverging. Throughput constraint is not met.\r\n",
       "\r\n",
       "\r\n",
       "\r\n",
       "Real time:       0.52\r\n",
       "Steps:           28601\r\n",
       "Simulated time:  0.0375464\r\n",
       "\r\n",
       "Fix requests granted:           0\r\n",
       "Action transitions:             23086\r\n",
       "Communication transitions:      5103\r\n",
       "Communication requests tested:  0\r\n",
       "Delay transitions:              412\r\n",
       "\r\n",
       "Delay requests granted:         698\r\n",
       "\r\n",
       "Garbage collection cleanup cycles: 2487\r\n",
       "Number of reclaimed objects:       0\r\n",
       "\r\n",
       "Virtual machine cycles: 2698614\r\n",
       "\r\n",
       "</pre>"
      ],
      "text/plain": [
       "<IPython.core.display.HTML object>"
      ]
     },
     "metadata": {},
     "output_type": "display_data"
    },
    {
     "data": {
      "text/html": [
       "<pre style=\"color:blue\">An exception occurred during run.\r\n",
       "Latency is diverging. Throughput constraint is not met.\r\n",
       "\r\n",
       "\r\n",
       "\r\n",
       "Real time:       2.305\r\n",
       "Steps:           144762\r\n",
       "Simulated time:  0.116539\r\n",
       "\r\n",
       "Fix requests granted:           0\r\n",
       "Action transitions:             114887\r\n",
       "Communication transitions:      27294\r\n",
       "Communication requests tested:  0\r\n",
       "Delay transitions:              2581\r\n",
       "\r\n",
       "Delay requests granted:         3681\r\n",
       "\r\n",
       "Garbage collection cleanup cycles: 27050\r\n",
       "Number of reclaimed objects:       501\r\n",
       "\r\n",
       "Virtual machine cycles: 25443455\r\n",
       "\r\n",
       "</pre>"
      ],
      "text/plain": [
       "<IPython.core.display.HTML object>"
      ]
     },
     "metadata": {},
     "output_type": "display_data"
    },
    {
     "data": {
      "text/html": [
       "<pre style=\"color:blue\">An exception occurred during run.\r\n",
       "Latency is diverging. Throughput constraint is not met.\r\n",
       "\r\n",
       "\r\n",
       "\r\n",
       "Real time:       1.529\r\n",
       "Steps:           116855\r\n",
       "Simulated time:  0.0923658\r\n",
       "\r\n",
       "Fix requests granted:           0\r\n",
       "Action transitions:             94130\r\n",
       "Communication transitions:      20920\r\n",
       "Communication requests tested:  0\r\n",
       "Delay transitions:              1805\r\n",
       "\r\n",
       "Delay requests granted:         2838\r\n",
       "\r\n",
       "Garbage collection cleanup cycles: 22783\r\n",
       "Number of reclaimed objects:       0\r\n",
       "\r\n",
       "Virtual machine cycles: 12039481\r\n",
       "\r\n",
       "</pre>"
      ],
      "text/plain": [
       "<IPython.core.display.HTML object>"
      ]
     },
     "metadata": {},
     "output_type": "display_data"
    },
    {
     "data": {
      "text/html": [
       "<pre style=\"color:blue\">An exception occurred during run.\r\n",
       "Latency is diverging. Throughput constraint is not met.\r\n",
       "\r\n",
       "\r\n",
       "\r\n",
       "Real time:       2.206\r\n",
       "Steps:           133900\r\n",
       "Simulated time:  0.104828\r\n",
       "\r\n",
       "Fix requests granted:           0\r\n",
       "Action transitions:             107435\r\n",
       "Communication transitions:      24394\r\n",
       "Communication requests tested:  0\r\n",
       "Delay transitions:              2071\r\n",
       "\r\n",
       "Delay requests granted:         3301\r\n",
       "\r\n",
       "Garbage collection cleanup cycles: 27354\r\n",
       "Number of reclaimed objects:       0\r\n",
       "\r\n",
       "Virtual machine cycles: 23952492\r\n",
       "\r\n",
       "</pre>"
      ],
      "text/plain": [
       "<IPython.core.display.HTML object>"
      ]
     },
     "metadata": {},
     "output_type": "display_data"
    },
    {
     "data": {
      "text/html": [
       "<pre style=\"color:blue\">An exception occurred during run.\r\n",
       "Latency is diverging. Throughput constraint is not met.\r\n",
       "\r\n",
       "\r\n",
       "\r\n",
       "Real time:       1.078\r\n",
       "Steps:           72510\r\n",
       "Simulated time:  0.0622273\r\n",
       "\r\n",
       "Fix requests granted:           0\r\n",
       "Action transitions:             58284\r\n",
       "Communication transitions:      12993\r\n",
       "Communication requests tested:  0\r\n",
       "Delay transitions:              1233\r\n",
       "\r\n",
       "Delay requests granted:         1774\r\n",
       "\r\n",
       "Garbage collection cleanup cycles: 10490\r\n",
       "Number of reclaimed objects:       0\r\n",
       "\r\n",
       "Virtual machine cycles: 6668752\r\n",
       "\r\n",
       "</pre>"
      ],
      "text/plain": [
       "<IPython.core.display.HTML object>"
      ]
     },
     "metadata": {},
     "output_type": "display_data"
    },
    {
     "data": {
      "text/html": [
       "<pre style=\"color:blue\">An exception occurred during run.\r\n",
       "Latency is diverging. Throughput constraint is not met.\r\n",
       "\r\n",
       "\r\n",
       "\r\n",
       "Real time:       1.219\r\n",
       "Steps:           110111\r\n",
       "Simulated time:  0.086622\r\n",
       "\r\n",
       "Fix requests granted:           0\r\n",
       "Action transitions:             88555\r\n",
       "Communication transitions:      19719\r\n",
       "Communication requests tested:  0\r\n",
       "Delay transitions:              1837\r\n",
       "\r\n",
       "Delay requests granted:         2661\r\n",
       "\r\n",
       "Garbage collection cleanup cycles: 20365\r\n",
       "Number of reclaimed objects:       0\r\n",
       "\r\n",
       "Virtual machine cycles: 10284577\r\n",
       "\r\n",
       "</pre>"
      ],
      "text/plain": [
       "<IPython.core.display.HTML object>"
      ]
     },
     "metadata": {},
     "output_type": "display_data"
    },
    {
     "data": {
      "text/html": [
       "<pre style=\"color:blue\">An exception occurred during run.\r\n",
       "Latency is diverging. Throughput constraint is not met.\r\n",
       "\r\n",
       "\r\n",
       "\r\n",
       "Real time:       0.86\r\n",
       "Steps:           75690\r\n",
       "Simulated time:  0.064804\r\n",
       "\r\n",
       "Fix requests granted:           0\r\n",
       "Action transitions:             60899\r\n",
       "Communication transitions:      13526\r\n",
       "Communication requests tested:  0\r\n",
       "Delay transitions:              1265\r\n",
       "\r\n",
       "Delay requests granted:         1840\r\n",
       "\r\n",
       "Garbage collection cleanup cycles: 11435\r\n",
       "Number of reclaimed objects:       0\r\n",
       "\r\n",
       "Virtual machine cycles: 6905065\r\n",
       "\r\n",
       "</pre>"
      ],
      "text/plain": [
       "<IPython.core.display.HTML object>"
      ]
     },
     "metadata": {},
     "output_type": "display_data"
    },
    {
     "data": {
      "text/html": [
       "<pre style=\"color:blue\">An exception occurred during run.\r\n",
       "Latency is diverging. Throughput constraint is not met.\r\n",
       "\r\n",
       "\r\n",
       "\r\n",
       "Real time:       1.132\r\n",
       "Steps:           93450\r\n",
       "Simulated time:  0.078822\r\n",
       "\r\n",
       "Fix requests granted:           0\r\n",
       "Action transitions:             75149\r\n",
       "Communication transitions:      16884\r\n",
       "Communication requests tested:  0\r\n",
       "Delay transitions:              1417\r\n",
       "\r\n",
       "Delay requests granted:         2279\r\n",
       "\r\n",
       "Garbage collection cleanup cycles: 16737\r\n",
       "Number of reclaimed objects:       0\r\n",
       "\r\n",
       "Virtual machine cycles: 8842280\r\n",
       "\r\n",
       "</pre>"
      ],
      "text/plain": [
       "<IPython.core.display.HTML object>"
      ]
     },
     "metadata": {},
     "output_type": "display_data"
    },
    {
     "data": {
      "text/html": [
       "<pre style=\"color:blue\">An exception occurred during run.\r\n",
       "Latency is diverging. Throughput constraint is not met.\r\n",
       "\r\n",
       "\r\n",
       "\r\n",
       "Real time:       2.859\r\n",
       "Steps:           291961\r\n",
       "Simulated time:  0.298018\r\n",
       "\r\n",
       "Fix requests granted:           0\r\n",
       "Action transitions:             214480\r\n",
       "Communication transitions:      71663\r\n",
       "Communication requests tested:  0\r\n",
       "Delay transitions:              5818\r\n",
       "\r\n",
       "Delay requests granted:         9599\r\n",
       "\r\n",
       "Garbage collection cleanup cycles: 28819\r\n",
       "Number of reclaimed objects:       6313\r\n",
       "\r\n",
       "Virtual machine cycles: 42509589\r\n",
       "\r\n",
       "</pre>"
      ],
      "text/plain": [
       "<IPython.core.display.HTML object>"
      ]
     },
     "metadata": {},
     "output_type": "display_data"
    },
    {
     "data": {
      "text/html": [
       "<pre style=\"color:blue\">An exception occurred during run.\r\n",
       "Latency is diverging. Throughput constraint is not met.\r\n",
       "\r\n",
       "\r\n",
       "\r\n",
       "Real time:       2.437\r\n",
       "Steps:           220807\r\n",
       "Simulated time:  0.208113\r\n",
       "\r\n",
       "Fix requests granted:           0\r\n",
       "Action transitions:             166539\r\n",
       "Communication transitions:      50202\r\n",
       "Communication requests tested:  0\r\n",
       "Delay transitions:              4066\r\n",
       "\r\n",
       "Delay requests granted:         6737\r\n",
       "\r\n",
       "Garbage collection cleanup cycles: 28975\r\n",
       "Number of reclaimed objects:       0\r\n",
       "\r\n",
       "Virtual machine cycles: 32294218\r\n",
       "\r\n",
       "</pre>"
      ],
      "text/plain": [
       "<IPython.core.display.HTML object>"
      ]
     },
     "metadata": {},
     "output_type": "display_data"
    },
    {
     "name": "stdout",
     "output_type": "stream",
     "text": [
      "Now simulating :  NodeProcessorType1 : \"MIPS\" NodeProcessorType2 : \"ARMv8\" NodeProcessorType3 : \"Adreno\" NodeProcessorType4 : \"Adreno\" NodeProcessorType5 : \"MIPS\" NodeProcessorType6 : \"MIPS\" VSF1 : 1.0 VSF2 : 0.6666666666666666 VSF3 : 1.0 VSF4 : 0.6666666666666666 VSF5 : 1.0 VSF6 : 1.0 OSPolicy1 : \"PB\" OSPolicy2 : \"FCFS\" OSPolicy3 : \"FCFS\" OSPolicy4 : \"FCFS\" OSPolicy5 : \"PB\" OSPolicy6 : \"FCFS\"\n",
      "items left : 49 ,time last sim :  24.28 sec ,est time rem : 1189.8215312957764 sec\n"
     ]
    },
    {
     "data": {
      "text/html": [
       "<pre style=\"color:blue\">An exception occurred during run.\r\n",
       "Latency is diverging. Throughput constraint is not met.\r\n",
       "\r\n",
       "\r\n",
       "\r\n",
       "Real time:       0.775\r\n",
       "Steps:           39496\r\n",
       "Simulated time:  0.0444934\r\n",
       "\r\n",
       "Fix requests granted:           0\r\n",
       "Action transitions:             31727\r\n",
       "Communication transitions:      7138\r\n",
       "Communication requests tested:  0\r\n",
       "Delay transitions:              631\r\n",
       "\r\n",
       "Delay requests granted:         970\r\n",
       "\r\n",
       "Garbage collection cleanup cycles: 4065\r\n",
       "Number of reclaimed objects:       0\r\n",
       "\r\n",
       "Virtual machine cycles: 3612164\r\n",
       "\r\n",
       "</pre>"
      ],
      "text/plain": [
       "<IPython.core.display.HTML object>"
      ]
     },
     "metadata": {},
     "output_type": "display_data"
    },
    {
     "data": {
      "text/html": [
       "<pre style=\"color:blue\">An exception occurred during run.\r\n",
       "Latency is diverging. Throughput constraint is not met.\r\n",
       "\r\n",
       "\r\n",
       "\r\n",
       "Real time:       3.596\r\n",
       "Steps:           487226\r\n",
       "Simulated time:  0.524096\r\n",
       "\r\n",
       "Fix requests granted:           0\r\n",
       "Action transitions:             345808\r\n",
       "Communication transitions:      129671\r\n",
       "Communication requests tested:  0\r\n",
       "Delay transitions:              11747\r\n",
       "\r\n",
       "Delay requests granted:         17287\r\n",
       "\r\n",
       "Garbage collection cleanup cycles: 29655\r\n",
       "Number of reclaimed objects:       2507\r\n",
       "\r\n",
       "Virtual machine cycles: 55795924\r\n",
       "\r\n",
       "</pre>"
      ],
      "text/plain": [
       "<IPython.core.display.HTML object>"
      ]
     },
     "metadata": {},
     "output_type": "display_data"
    },
    {
     "data": {
      "text/html": [
       "<pre style=\"color:blue\">Real Time:           3.305 Steps:          524288 Simulated Time:         0.54968\r\n",
       "Real Time:          19.039 Steps:    5.24288e+006 Simulated Time:          6.0847\r\n",
       "Real Time:          23.765 Steps:    6.68467e+006 Simulated Time:         7.77433\r\n",
       "Real Time:          29.334 Steps:    8.38861e+006 Simulated Time:         9.77353\r\n",
       "Real Time:          33.575 Steps:    9.69933e+006 Simulated Time:         11.3121\r\n",
       "\r\n",
       "\r\n",
       "Real time:       39.494\r\n",
       "Steps:           11438122\r\n",
       "Simulated time:  13.35\r\n",
       "\r\n",
       "Fix requests granted:           0\r\n",
       "Action transitions:             7722937\r\n",
       "Communication transitions:      3414802\r\n",
       "Communication requests tested:  0\r\n",
       "Delay transitions:              300383\r\n",
       "\r\n",
       "Delay requests granted:         455095\r\n",
       "\r\n",
       "Garbage collection cleanup cycles: 30970\r\n",
       "Number of reclaimed objects:       12387\r\n",
       "\r\n",
       "Virtual machine cycles: 817214674\r\n",
       "\r\n",
       "</pre>"
      ],
      "text/plain": [
       "<IPython.core.display.HTML object>"
      ]
     },
     "metadata": {},
     "output_type": "display_data"
    },
    {
     "data": {
      "text/html": [
       "<pre style=\"color:red\">All registered observers are activated. Caused by completion observer (MemoryBufferNode2)\r\n",
       "</pre>"
      ],
      "text/plain": [
       "<IPython.core.display.HTML object>"
      ]
     },
     "metadata": {},
     "output_type": "display_data"
    },
    {
     "name": "stdout",
     "output_type": "stream",
     "text": [
      "Now simulating :  NodeProcessorType1 : \"MIPS\" NodeProcessorType2 : \"Adreno\" NodeProcessorType3 : \"Adreno\" NodeProcessorType4 : \"Adreno\" NodeProcessorType5 : \"MIPS\" NodeProcessorType6 : \"MIPS\" VSF1 : 0.6666666666666666 VSF2 : 0.6666666666666666 VSF3 : 1.0 VSF4 : 0.5 VSF5 : 1.0 VSF6 : 1.0 OSPolicy1 : \"PB\" OSPolicy2 : \"FCFS\" OSPolicy3 : \"FCFS\" OSPolicy4 : \"FCFS\" OSPolicy5 : \"PB\" OSPolicy6 : \"FCFS\"\n",
      "items left : 46 ,time last sim :  48.23 sec ,est time rem : 2218.6308341026306 sec\n"
     ]
    },
    {
     "data": {
      "text/html": [
       "<pre style=\"color:blue\">An exception occurred during run.\r\n",
       "Latency is diverging. Throughput constraint is not met.\r\n",
       "\r\n",
       "\r\n",
       "\r\n",
       "Real time:       2.394\r\n",
       "Steps:           191476\r\n",
       "Simulated time:  0.166069\r\n",
       "\r\n",
       "Fix requests granted:           0\r\n",
       "Action transitions:             147234\r\n",
       "Communication transitions:      40704\r\n",
       "Communication requests tested:  0\r\n",
       "Delay transitions:              3538\r\n",
       "\r\n",
       "Delay requests granted:         5489\r\n",
       "\r\n",
       "Garbage collection cleanup cycles: 29421\r\n",
       "Number of reclaimed objects:       0\r\n",
       "\r\n",
       "Virtual machine cycles: 30596983\r\n",
       "\r\n",
       "</pre>"
      ],
      "text/plain": [
       "<IPython.core.display.HTML object>"
      ]
     },
     "metadata": {},
     "output_type": "display_data"
    },
    {
     "data": {
      "text/html": [
       "<pre style=\"color:blue\">An exception occurred during run.\r\n",
       "Latency is diverging. Throughput constraint is not met.\r\n",
       "\r\n",
       "\r\n",
       "\r\n",
       "Real time:       1.042\r\n",
       "Steps:           69731\r\n",
       "Simulated time:  0.0622132\r\n",
       "\r\n",
       "Fix requests granted:           0\r\n",
       "Action transitions:             56083\r\n",
       "Communication transitions:      12577\r\n",
       "Communication requests tested:  0\r\n",
       "Delay transitions:              1071\r\n",
       "\r\n",
       "Delay requests granted:         1708\r\n",
       "\r\n",
       "Garbage collection cleanup cycles: 10351\r\n",
       "Number of reclaimed objects:       0\r\n",
       "\r\n",
       "Virtual machine cycles: 6492538\r\n",
       "\r\n",
       "</pre>"
      ],
      "text/plain": [
       "<IPython.core.display.HTML object>"
      ]
     },
     "metadata": {},
     "output_type": "display_data"
    },
    {
     "data": {
      "text/html": [
       "<pre style=\"color:blue\">An exception occurred during run.\r\n",
       "Latency is diverging. Throughput constraint is not met.\r\n",
       "\r\n",
       "\r\n",
       "\r\n",
       "Real time:       0.813\r\n",
       "Steps:           40891\r\n",
       "Simulated time:  0.0421142\r\n",
       "\r\n",
       "Fix requests granted:           0\r\n",
       "Action transitions:             32967\r\n",
       "Communication transitions:      7290\r\n",
       "Communication requests tested:  0\r\n",
       "Delay transitions:              634\r\n",
       "\r\n",
       "Delay requests granted:         999\r\n",
       "\r\n",
       "Garbage collection cleanup cycles: 4328\r\n",
       "Number of reclaimed objects:       0\r\n",
       "\r\n",
       "Virtual machine cycles: 3762588\r\n",
       "\r\n",
       "</pre>"
      ],
      "text/plain": [
       "<IPython.core.display.HTML object>"
      ]
     },
     "metadata": {},
     "output_type": "display_data"
    },
    {
     "data": {
      "text/html": [
       "<pre style=\"color:blue\">An exception occurred during run.\r\n",
       "Latency is diverging. Throughput constraint is not met.\r\n",
       "\r\n",
       "\r\n",
       "\r\n",
       "Real time:       2.185\r\n",
       "Steps:           150559\r\n",
       "Simulated time:  0.12417\r\n",
       "\r\n",
       "Fix requests granted:           0\r\n",
       "Action transitions:             118745\r\n",
       "Communication transitions:      29207\r\n",
       "Communication requests tested:  0\r\n",
       "Delay transitions:              2607\r\n",
       "\r\n",
       "Delay requests granted:         3944\r\n",
       "\r\n",
       "Garbage collection cleanup cycles: 27467\r\n",
       "Number of reclaimed objects:       1142\r\n",
       "\r\n",
       "Virtual machine cycles: 25889770\r\n",
       "\r\n",
       "</pre>"
      ],
      "text/plain": [
       "<IPython.core.display.HTML object>"
      ]
     },
     "metadata": {},
     "output_type": "display_data"
    },
    {
     "data": {
      "text/html": [
       "<pre style=\"color:blue\">An exception occurred during run.\r\n",
       "Latency is diverging. Throughput constraint is not met.\r\n",
       "\r\n",
       "\r\n",
       "\r\n",
       "Real time:       2.872\r\n",
       "Steps:           278156\r\n",
       "Simulated time:  0.262051\r\n",
       "\r\n",
       "Fix requests granted:           0\r\n",
       "Action transitions:             206015\r\n",
       "Communication transitions:      66331\r\n",
       "Communication requests tested:  0\r\n",
       "Delay transitions:              5810\r\n",
       "\r\n",
       "Delay requests granted:         8907\r\n",
       "\r\n",
       "Garbage collection cleanup cycles: 29457\r\n",
       "Number of reclaimed objects:       2111\r\n",
       "\r\n",
       "Virtual machine cycles: 39702284\r\n",
       "\r\n",
       "</pre>"
      ],
      "text/plain": [
       "<IPython.core.display.HTML object>"
      ]
     },
     "metadata": {},
     "output_type": "display_data"
    },
    {
     "data": {
      "text/html": [
       "<pre style=\"color:blue\">An exception occurred during run.\r\n",
       "Latency is diverging. Throughput constraint is not met.\r\n",
       "\r\n",
       "\r\n",
       "\r\n",
       "Real time:       0.783\r\n",
       "Steps:           47294\r\n",
       "Simulated time:  0.0473039\r\n",
       "\r\n",
       "Fix requests granted:           0\r\n",
       "Action transitions:             38146\r\n",
       "Communication transitions:      8443\r\n",
       "Communication requests tested:  0\r\n",
       "Delay transitions:              705\r\n",
       "\r\n",
       "Delay requests granted:         1147\r\n",
       "\r\n",
       "Garbage collection cleanup cycles: 5607\r\n",
       "Number of reclaimed objects:       0\r\n",
       "\r\n",
       "Virtual machine cycles: 4279552\r\n",
       "\r\n",
       "</pre>"
      ],
      "text/plain": [
       "<IPython.core.display.HTML object>"
      ]
     },
     "metadata": {},
     "output_type": "display_data"
    },
    {
     "data": {
      "text/html": [
       "<pre style=\"color:blue\">An exception occurred during run.\r\n",
       "Latency is diverging. Throughput constraint is not met.\r\n",
       "\r\n",
       "\r\n",
       "\r\n",
       "Real time:       0.893\r\n",
       "Steps:           50269\r\n",
       "Simulated time:  0.0517742\r\n",
       "\r\n",
       "Fix requests granted:           0\r\n",
       "Action transitions:             40501\r\n",
       "Communication transitions:      9005\r\n",
       "Communication requests tested:  0\r\n",
       "Delay transitions:              763\r\n",
       "\r\n",
       "Delay requests granted:         1223\r\n",
       "\r\n",
       "Garbage collection cleanup cycles: 6267\r\n",
       "Number of reclaimed objects:       0\r\n",
       "\r\n",
       "Virtual machine cycles: 5100148\r\n",
       "\r\n",
       "</pre>"
      ],
      "text/plain": [
       "<IPython.core.display.HTML object>"
      ]
     },
     "metadata": {},
     "output_type": "display_data"
    },
    {
     "data": {
      "text/html": [
       "<pre style=\"color:blue\">An exception occurred during run.\r\n",
       "Latency is diverging. Throughput constraint is not met.\r\n",
       "\r\n",
       "\r\n",
       "\r\n",
       "Real time:       2.112\r\n",
       "Steps:           148984\r\n",
       "Simulated time:  0.120098\r\n",
       "\r\n",
       "Fix requests granted:           0\r\n",
       "Action transitions:             117958\r\n",
       "Communication transitions:      28417\r\n",
       "Communication requests tested:  0\r\n",
       "Delay transitions:              2609\r\n",
       "\r\n",
       "Delay requests granted:         3857\r\n",
       "\r\n",
       "Garbage collection cleanup cycles: 27410\r\n",
       "Number of reclaimed objects:       0\r\n",
       "\r\n",
       "Virtual machine cycles: 24779645\r\n",
       "\r\n",
       "</pre>"
      ],
      "text/plain": [
       "<IPython.core.display.HTML object>"
      ]
     },
     "metadata": {},
     "output_type": "display_data"
    },
    {
     "data": {
      "text/html": [
       "<pre style=\"color:blue\">An exception occurred during run.\r\n",
       "Latency is diverging. Throughput constraint is not met.\r\n",
       "\r\n",
       "\r\n",
       "\r\n",
       "Real time:       2.045\r\n",
       "Steps:           128449\r\n",
       "Simulated time:  0.100794\r\n",
       "\r\n",
       "Fix requests granted:           0\r\n",
       "Action transitions:             103257\r\n",
       "Communication transitions:      23212\r\n",
       "Communication requests tested:  0\r\n",
       "Delay transitions:              1980\r\n",
       "\r\n",
       "Delay requests granted:         3131\r\n",
       "\r\n",
       "Garbage collection cleanup cycles: 26515\r\n",
       "Number of reclaimed objects:       475\r\n",
       "\r\n",
       "Virtual machine cycles: 23158627\r\n",
       "\r\n",
       "</pre>"
      ],
      "text/plain": [
       "<IPython.core.display.HTML object>"
      ]
     },
     "metadata": {},
     "output_type": "display_data"
    },
    {
     "data": {
      "text/html": [
       "<pre style=\"color:blue\">An exception occurred during run.\r\n",
       "Latency is diverging. Throughput constraint is not met.\r\n",
       "\r\n",
       "\r\n",
       "\r\n",
       "Real time:       2.162\r\n",
       "Steps:           163170\r\n",
       "Simulated time:  0.13809\r\n",
       "\r\n",
       "Fix requests granted:           0\r\n",
       "Action transitions:             127327\r\n",
       "Communication transitions:      33032\r\n",
       "Communication requests tested:  0\r\n",
       "Delay transitions:              2811\r\n",
       "\r\n",
       "Delay requests granted:         4437\r\n",
       "\r\n",
       "Garbage collection cleanup cycles: 28587\r\n",
       "Number of reclaimed objects:       0\r\n",
       "\r\n",
       "Virtual machine cycles: 27920172\r\n",
       "\r\n",
       "</pre>"
      ],
      "text/plain": [
       "<IPython.core.display.HTML object>"
      ]
     },
     "metadata": {},
     "output_type": "display_data"
    },
    {
     "data": {
      "text/html": [
       "<pre style=\"color:blue\">An exception occurred during run.\r\n",
       "Latency is diverging. Throughput constraint is not met.\r\n",
       "\r\n",
       "\r\n",
       "\r\n",
       "Real time:       1.096\r\n",
       "Steps:           84800\r\n",
       "Simulated time:  0.0721964\r\n",
       "\r\n",
       "Fix requests granted:           0\r\n",
       "Action transitions:             68179\r\n",
       "Communication transitions:      15255\r\n",
       "Communication requests tested:  0\r\n",
       "Delay transitions:              1366\r\n",
       "\r\n",
       "Delay requests granted:         2058\r\n",
       "\r\n",
       "Garbage collection cleanup cycles: 14134\r\n",
       "Number of reclaimed objects:       0\r\n",
       "\r\n",
       "Virtual machine cycles: 8450694\r\n",
       "\r\n",
       "</pre>"
      ],
      "text/plain": [
       "<IPython.core.display.HTML object>"
      ]
     },
     "metadata": {},
     "output_type": "display_data"
    },
    {
     "name": "stdout",
     "output_type": "stream",
     "text": [
      "Now simulating :  NodeProcessorType1 : \"MIPS\" NodeProcessorType2 : \"Adreno\" NodeProcessorType3 : \"Adreno\" NodeProcessorType4 : \"Adreno\" NodeProcessorType5 : \"MIPS\" NodeProcessorType6 : \"MIPS\" VSF1 : 1.0 VSF2 : 0.6666666666666666 VSF3 : 0.6666666666666666 VSF4 : 1.0 VSF5 : 1.0 VSF6 : 1.0 OSPolicy1 : \"PB\" OSPolicy2 : \"FCFS\" OSPolicy3 : \"PB\" OSPolicy4 : \"FCFS\" OSPolicy5 : \"PB\" OSPolicy6 : \"FCFS\"\n",
      "items left : 44 ,time last sim :  25.02 sec ,est time rem : 1100.8956718444824 sec\n"
     ]
    },
    {
     "data": {
      "text/html": [
       "<pre style=\"color:blue\">An exception occurred during run.\r\n",
       "Latency is diverging. Throughput constraint is not met.\r\n",
       "\r\n",
       "\r\n",
       "\r\n",
       "Real time:       0.911\r\n",
       "Steps:           64809\r\n",
       "Simulated time:  0.0605059\r\n",
       "\r\n",
       "Fix requests granted:           0\r\n",
       "Action transitions:             52055\r\n",
       "Communication transitions:      11744\r\n",
       "Communication requests tested:  0\r\n",
       "Delay transitions:              1010\r\n",
       "\r\n",
       "Delay requests granted:         1590\r\n",
       "\r\n",
       "Garbage collection cleanup cycles: 9084\r\n",
       "Number of reclaimed objects:       0\r\n",
       "\r\n",
       "Virtual machine cycles: 6615448\r\n",
       "\r\n",
       "</pre>"
      ],
      "text/plain": [
       "<IPython.core.display.HTML object>"
      ]
     },
     "metadata": {},
     "output_type": "display_data"
    },
    {
     "data": {
      "text/html": [
       "<pre style=\"color:blue\">An exception occurred during run.\r\n",
       "Latency is diverging. Throughput constraint is not met.\r\n",
       "\r\n",
       "\r\n",
       "\r\n",
       "Real time:       1.629\r\n",
       "Steps:           119278\r\n",
       "Simulated time:  0.100042\r\n",
       "\r\n",
       "Fix requests granted:           0\r\n",
       "Action transitions:             95855\r\n",
       "Communication transitions:      21570\r\n",
       "Communication requests tested:  0\r\n",
       "Delay transitions:              1853\r\n",
       "\r\n",
       "Delay requests granted:         2911\r\n",
       "\r\n",
       "Garbage collection cleanup cycles: 22745\r\n",
       "Number of reclaimed objects:       0\r\n",
       "\r\n",
       "Virtual machine cycles: 18625910\r\n",
       "\r\n",
       "</pre>"
      ],
      "text/plain": [
       "<IPython.core.display.HTML object>"
      ]
     },
     "metadata": {},
     "output_type": "display_data"
    },
    {
     "data": {
      "text/html": [
       "<pre style=\"color:blue\">An exception occurred during run.\r\n",
       "Latency is diverging. Throughput constraint is not met.\r\n",
       "\r\n",
       "\r\n",
       "\r\n",
       "Real time:       2.624\r\n",
       "Steps:           217240\r\n",
       "Simulated time:  0.206392\r\n",
       "\r\n",
       "Fix requests granted:           0\r\n",
       "Action transitions:             163757\r\n",
       "Communication transitions:      49248\r\n",
       "Communication requests tested:  0\r\n",
       "Delay transitions:              4235\r\n",
       "\r\n",
       "Delay requests granted:         6609\r\n",
       "\r\n",
       "Garbage collection cleanup cycles: 27597\r\n",
       "Number of reclaimed objects:       5261\r\n",
       "\r\n",
       "Virtual machine cycles: 35347849\r\n",
       "\r\n",
       "</pre>"
      ],
      "text/plain": [
       "<IPython.core.display.HTML object>"
      ]
     },
     "metadata": {},
     "output_type": "display_data"
    },
    {
     "data": {
      "text/html": [
       "<pre style=\"color:blue\">An exception occurred during run.\r\n",
       "Latency is diverging. Throughput constraint is not met.\r\n",
       "\r\n",
       "\r\n",
       "\r\n",
       "Real time:       1.332\r\n",
       "Steps:           105529\r\n",
       "Simulated time:  0.0904337\r\n",
       "\r\n",
       "Fix requests granted:           0\r\n",
       "Action transitions:             84900\r\n",
       "Communication transitions:      19104\r\n",
       "Communication requests tested:  0\r\n",
       "Delay transitions:              1525\r\n",
       "\r\n",
       "Delay requests granted:         2581\r\n",
       "\r\n",
       "Garbage collection cleanup cycles: 19729\r\n",
       "Number of reclaimed objects:       0\r\n",
       "\r\n",
       "Virtual machine cycles: 11437690\r\n",
       "\r\n",
       "</pre>"
      ],
      "text/plain": [
       "<IPython.core.display.HTML object>"
      ]
     },
     "metadata": {},
     "output_type": "display_data"
    },
    {
     "data": {
      "text/html": [
       "<pre style=\"color:blue\">An exception occurred during run.\r\n",
       "Latency is diverging. Throughput constraint is not met.\r\n",
       "\r\n",
       "\r\n",
       "\r\n",
       "Real time:       1.111\r\n",
       "Steps:           84232\r\n",
       "Simulated time:  0.0742167\r\n",
       "\r\n",
       "Fix requests granted:           0\r\n",
       "Action transitions:             67766\r\n",
       "Communication transitions:      15241\r\n",
       "Communication requests tested:  0\r\n",
       "Delay transitions:              1225\r\n",
       "\r\n",
       "Delay requests granted:         2063\r\n",
       "\r\n",
       "Garbage collection cleanup cycles: 13932\r\n",
       "Number of reclaimed objects:       0\r\n",
       "\r\n",
       "Virtual machine cycles: 8235605\r\n",
       "\r\n",
       "</pre>"
      ],
      "text/plain": [
       "<IPython.core.display.HTML object>"
      ]
     },
     "metadata": {},
     "output_type": "display_data"
    },
    {
     "data": {
      "text/html": [
       "<pre style=\"color:blue\">An exception occurred during run.\r\n",
       "Latency is diverging. Throughput constraint is not met.\r\n",
       "\r\n",
       "\r\n",
       "\r\n",
       "Real time:       18.241\r\n",
       "Steps:           3951036\r\n",
       "Simulated time:  4.56813\r\n",
       "\r\n",
       "Fix requests granted:           0\r\n",
       "Action transitions:             2683249\r\n",
       "Communication transitions:      1167248\r\n",
       "Communication requests tested:  0\r\n",
       "Delay transitions:              100539\r\n",
       "\r\n",
       "Delay requests granted:         154298\r\n",
       "\r\n",
       "Garbage collection cleanup cycles: 28782\r\n",
       "Number of reclaimed objects:       12838\r\n",
       "\r\n",
       "Virtual machine cycles: 407813503\r\n",
       "\r\n",
       "</pre>"
      ],
      "text/plain": [
       "<IPython.core.display.HTML object>"
      ]
     },
     "metadata": {},
     "output_type": "display_data"
    },
    {
     "data": {
      "text/html": [
       "<pre style=\"color:blue\">An exception occurred during run.\r\n",
       "Latency is diverging. Throughput constraint is not met.\r\n",
       "\r\n",
       "\r\n",
       "\r\n",
       "Real time:       2.062\r\n",
       "Steps:           127159\r\n",
       "Simulated time:  0.108924\r\n",
       "\r\n",
       "Fix requests granted:           0\r\n",
       "Action transitions:             101635\r\n",
       "Communication transitions:      23635\r\n",
       "Communication requests tested:  0\r\n",
       "Delay transitions:              1889\r\n",
       "\r\n",
       "Delay requests granted:         3178\r\n",
       "\r\n",
       "Garbage collection cleanup cycles: 24944\r\n",
       "Number of reclaimed objects:       0\r\n",
       "\r\n",
       "Virtual machine cycles: 23221117\r\n",
       "\r\n",
       "</pre>"
      ],
      "text/plain": [
       "<IPython.core.display.HTML object>"
      ]
     },
     "metadata": {},
     "output_type": "display_data"
    },
    {
     "data": {
      "text/html": [
       "<pre style=\"color:blue\">An exception occurred during run.\r\n",
       "Latency is diverging. Throughput constraint is not met.\r\n",
       "\r\n",
       "\r\n",
       "\r\n",
       "Real time:       1.177\r\n",
       "Steps:           96267\r\n",
       "Simulated time:  0.0840451\r\n",
       "\r\n",
       "Fix requests granted:           0\r\n",
       "Action transitions:             77383\r\n",
       "Communication transitions:      17497\r\n",
       "Communication requests tested:  0\r\n",
       "Delay transitions:              1387\r\n",
       "\r\n",
       "Delay requests granted:         2343\r\n",
       "\r\n",
       "Garbage collection cleanup cycles: 17525\r\n",
       "Number of reclaimed objects:       0\r\n",
       "\r\n",
       "Virtual machine cycles: 9574418\r\n",
       "\r\n",
       "</pre>"
      ],
      "text/plain": [
       "<IPython.core.display.HTML object>"
      ]
     },
     "metadata": {},
     "output_type": "display_data"
    },
    {
     "data": {
      "text/html": [
       "<pre style=\"color:blue\">An exception occurred during run.\r\n",
       "Latency is diverging. Throughput constraint is not met.\r\n",
       "\r\n",
       "\r\n",
       "\r\n",
       "Real time:       1.36\r\n",
       "Steps:           94547\r\n",
       "Simulated time:  0.083378\r\n",
       "\r\n",
       "Fix requests granted:           0\r\n",
       "Action transitions:             76031\r\n",
       "Communication transitions:      17151\r\n",
       "Communication requests tested:  0\r\n",
       "Delay transitions:              1365\r\n",
       "\r\n",
       "Delay requests granted:         2300\r\n",
       "\r\n",
       "Garbage collection cleanup cycles: 16808\r\n",
       "Number of reclaimed objects:       0\r\n",
       "\r\n",
       "Virtual machine cycles: 9812208\r\n",
       "\r\n",
       "</pre>"
      ],
      "text/plain": [
       "<IPython.core.display.HTML object>"
      ]
     },
     "metadata": {},
     "output_type": "display_data"
    }
   ],
   "source": [
    "\n",
    "import numpy as np\n",
    "#import matplotlib.pyplot as plt\n",
    "import random\n",
    "from selection import pareto_rank,tournament,crowding_distance\n",
    "from geneticdrift import create_offspring,create_initial_population\n",
    "from simulation import perform_simulation\n",
    "from task_scheduler import schedule_tasks\n",
    "import pandas as pd\n",
    "import autosim_multiproc\n",
    "import poosl_model_generator\n",
    "def quotate(mystr):\n",
    "    return '\"' + mystr + '\"'\n",
    "columns = [\"NodeProcessorType1\",\"NodeProcessorType2\",\"NodeProcessorType3\",\"NodeProcessorType4\",\"NodeProcessorType5\",\"NodeProcessorType6\",\"VSF1\",\"VSF2\",\"VSF3\",\"VSF4\",\"VSF5\",\"VSF6\",\"OSPolicy1\",\"OSPolicy2\",\"OSPolicy3\",\"OSPolicy4\",\"OSPolicy5\",\"OSPolicy6\"]\n",
    "\n",
    "pop_size = 70\n",
    "parents_per_child=2\n",
    "mutation_chance = 0.15\n",
    "no_parallel_simulations = 3\n",
    "NodeProcessorTypes = [quotate(s) for s in [ \"Adreno\"]*2 +[\"MIPS\"]*2+[\"ARMv8\"]]  \n",
    "VSFs =  [str(1.0)] * 5+[str(2.0/3.0)]*2+[str(1.0/2.0)] + [str(1.0/4)]\n",
    "OSPolicys = [quotate(s) for s in [\"FCFS\",\"PB\"]]\n",
    "gene_pool = [NodeProcessorTypes]*6 + [VSFs]*6 + [OSPolicys]*6\n",
    "tournament_rounds = 2\n",
    "max_gen = 70\n",
    "gen_no = 0\n",
    "\n",
    "def add_paretorank_and_save(generation_df,gen):\n",
    "    latency = list(generation_df['Latency'])\n",
    "    PowerConsumption = list(generation_df['PowerConsumption'])\n",
    "    no_processors = list(generation_df['Number of Processors'])\n",
    "    objective_scores = np.array([latency,PowerConsumption,no_processors]).T\n",
    "    fronts,ranks = pareto_rank(np.array(objective_scores))\n",
    "\n",
    "    generation_df['pareto rank'] = ranks\n",
    "    generation_df.to_csv('generation{0}.csv'.format(gen),index=False)\n",
    "\n",
    "\n",
    "\n",
    "while True:\n",
    "    try:\n",
    "        generation_df = pd.read_csv('generation' + str(gen_no) + '.csv')\n",
    "        gen_no+=1    \n",
    "    except:\n",
    "        if gen_no ==0:\n",
    "             generation_df = pd.DataFrame()\n",
    "        break\n",
    "known_dna = set()\n",
    "\n",
    "def create_generation_offspring(generation_df,known_dna):\n",
    "    latency = list(generation_df['Latency'])\n",
    "    PowerConsumption = list(generation_df['PowerConsumption'])\n",
    "    no_processors = list(generation_df['Number of Processors'])\n",
    "    objective_scores = np.array([latency,PowerConsumption,no_processors]).T\n",
    "    fronts,ranks = pareto_rank(np.array(objective_scores))\n",
    "    crowd_distances =crowding_distance(fronts,ranks)\n",
    "    mating_pool = tournament(ranks, pop_size, tournament_rounds,crowd_distances)\n",
    "    mating_pool = np.unique(mating_pool)\n",
    "    parents =list(generation_df[generation_df.columns[15:]].iloc[mating_pool].values)\n",
    "    offspring,known_dna,_ = create_offspring(parents,parents_per_child,pop_size,mutation_chance,gene_pool,known_dna)\n",
    "    return offspring,known_dna\n",
    "if gen_no!=0:\n",
    "    for i,row in generation_df.iterrows():\n",
    "        row_genes = generation_df[generation_df.columns[15:]]\n",
    "        known_dna.add(tuple(list(row_genes)))\n",
    "\n",
    "if __name__ == \"__main__\":\n",
    "    if gen_no == 0:\n",
    "        generation_genes_df = pd.DataFrame()\n",
    "        generation,known_dna = create_initial_population(gene_pool,pop_size,known_dna)\n",
    "        for processor in generation:\n",
    "            row = pd.DataFrame([processor],columns = columns)\n",
    "            generation_genes_df = generation_genes_df.append(row)\n",
    "        for i in range(no_parallel_simulations):\n",
    "            poosl_model_generator.setup_simulation(i)\n",
    "        results = autosim_multiproc.autosim_multiproc(perform_simulation,generation_genes_df,no_parallel_simulations)\n",
    "        generation_df = generation_df.append(results)\n",
    "        generation_df.to_csv(\"generation0.csv\",index=False)\n",
    "        gen_no+=1\n",
    "    while gen_no < max_gen:\n",
    "        print(\"Generation : {0}\".format(gen_no))\n",
    "        offspring,known_dna = create_generation_offspring(generation_df,known_dna)\n",
    "        generation_genes_df = pd.DataFrame()\n",
    "        for processor in offspring:\n",
    "            row = pd.DataFrame([processor],columns = columns)\n",
    "            generation_genes_df = generation_genes_df.append(row)\n",
    "        results = autosim_multiproc.autosim_multiproc(perform_simulation,generation_genes_df,no_parallel_simulations)\n",
    "        generation_df = generation_df.append(results)\n",
    "        generation_df.to_csv('generation{0}.csv'.format(gen_no),index=False)\n",
    "        gen_no+=1\n",
    "\n",
    "    \n",
    "\n",
    "\n",
    "\n"
   ]
  },
  {
   "cell_type": "code",
   "execution_count": null,
   "metadata": {},
   "outputs": [],
   "source": []
  },
  {
   "cell_type": "code",
   "execution_count": null,
   "metadata": {},
   "outputs": [],
   "source": []
  }
 ],
 "metadata": {
  "kernelspec": {
   "display_name": "Python 3",
   "language": "python",
   "name": "python3"
  },
  "language_info": {
   "codemirror_mode": {
    "name": "ipython",
    "version": 3
   },
   "file_extension": ".py",
   "mimetype": "text/x-python",
   "name": "python",
   "nbconvert_exporter": "python",
   "pygments_lexer": "ipython3",
   "version": "3.7.1"
  }
 },
 "nbformat": 4,
 "nbformat_minor": 2
}
